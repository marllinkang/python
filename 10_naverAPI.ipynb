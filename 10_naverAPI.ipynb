{
 "cells": [
  {
   "cell_type": "markdown",
   "metadata": {},
   "source": [
    "# naverAPI"
   ]
  },
  {
   "cell_type": "code",
   "execution_count": null,
   "metadata": {},
   "outputs": [],
   "source": [
    "## 네이버 API 사용등록"
   ]
  },
  {
   "cell_type": "code",
   "execution_count": null,
   "metadata": {},
   "outputs": [],
   "source": [
    "- 네이버 개발자 센터\n",
    "- https://developers.naver.com/main/\n",
    "- application\n",
    "- 어플리케이션 등록\n",
    "- 어플맄케이션 이름\n",
    "- 사용 API\n",
    "    -검색\n",
    "- 환경추가\n",
    "    -WEB설정\n",
    "    웹 데이터()"
   ]
  },
  {
   "cell_type": "code",
   "execution_count": 12,
   "metadata": {},
   "outputs": [],
   "source": [
    "client_id ='jfnqTY2sdJBritbopO6Y'\n",
    "client_secret = 'ppWI0K7Uv7'"
   ]
  },
  {
   "cell_type": "markdown",
   "metadata": {},
   "source": [
    "## 02. 네이버 검색 API 사용하기 "
   ]
  },
  {
   "cell_type": "markdown",
   "metadata": {},
   "source": [
    "-개발가이드\n",
    "https://developers.naver.com/docs/serviceapi/search/blog/blog.md#python"
   ]
  },
  {
   "cell_type": "markdown",
   "metadata": {},
   "source": [
    "03.네이버 API 실습"
   ]
  },
  {
   "cell_type": "code",
   "execution_count": 187,
   "metadata": {},
   "outputs": [
    {
     "name": "stdout",
     "output_type": "stream",
     "text": [
      "{\n",
      "\t\"lastBuildDate\":\"Fri, 11 Aug 2023 16:48:43 +0900\",\n",
      "\t\"total\":704409,\n",
      "\t\"start\":1,\n",
      "\t\"display\":10,\n",
      "\t\"items\":[\n",
      "\t\t{\n",
      "\t\t\t\"title\":\"<b>맥북<\\/b>수리 1시간 만에 액정 교체할 수 있는 곳!\",\n",
      "\t\t\t\"link\":\"https:\\/\\/blog.naver.com\\/csm0227sm\\/223171150919\",\n",
      "\t\t\t\"description\":\"신랑이 얼마 전에 부서 이동을 하면서 기존 사용하던 노트북을 반납하고, 2015년식 15인치 구형 <b>맥북<\\/b>으... 바로 <b>맥북<\\/b>수리를 완료했어요 그것도 토요일이었는데 말이죠 픽스119 영업시간 : 월요일 ~ 토요일 \\/ 오전... \",\n",
      "\t\t\t\"bloggername\":\"짱아슘 ☆\",\n",
      "\t\t\t\"bloggerlink\":\"blog.naver.com\\/csm0227sm\",\n",
      "\t\t\t\"postdate\":\"20230731\"\n",
      "\t\t},\n",
      "\t\t{\n",
      "\t\t\t\"title\":\"가성비 노트북 애플 2023 <b>맥북<\\/b> 에어(M2) 15 vs 13인치 뭘살까?... \",\n",
      "\t\t\t\"link\":\"https:\\/\\/www.khaiyang.com\\/4518\",\n",
      "\t\t\t\"description\":\"15인치 <b>맥북<\\/b>프로를 사용하고 있습니다. 10년인데도 동영상 편집을 제외하고는 일상적인 블로그 작성이나 웹서핑 등에 있어서 전혀 부족함을 느끼지 못하고 있습니다. <b>맥북<\\/b> 프로 생각해 보면 맥을... \",\n",
      "\t\t\t\"bloggername\":\"바람의 이야기, 카이\",\n",
      "\t\t\t\"bloggerlink\":\"https:\\/\\/www.khaiyang.com\\/\",\n",
      "\t\t\t\"postdate\":\"20230705\"\n",
      "\t\t},\n",
      "\t\t{\n",
      "\t\t\t\"title\":\"<b>맥북<\\/b>에어 15인치 개봉기. 구매시 10만원 손해보지 않는방법\",\n",
      "\t\t\t\"link\":\"https:\\/\\/blog.naver.com\\/ddihw\\/223163162530\",\n",
      "\t\t\t\"description\":\"<b>맥북<\\/b>을 사용한지 1년 정도 되었습니다. 작년 <b>맥북<\\/b>에어 M2 를 사용하면서 다 만족스러웠지만 항상 디스플레이 크기는 아쉬웠습니다. 그러던중 15인치 모델의 출시소식을 알게되었고 사전예약 후 바로 구매하게... \",\n",
      "\t\t\t\"bloggername\":\"변검\",\n",
      "\t\t\t\"bloggerlink\":\"blog.naver.com\\/ddihw\",\n",
      "\t\t\t\"postdate\":\"20230722\"\n",
      "\t\t},\n",
      "\t\t{\n",
      "\t\t\t\"title\":\"M2 <b>맥북<\\/b>에어 15인치 스타라이트 언박싱 및 간단 사용후기\",\n",
      "\t\t\t\"link\":\"https:\\/\\/blog.naver.com\\/yjg01212\\/223165255976\",\n",
      "\t\t\t\"description\":\"지난달 말에 M2 <b>맥북<\\/b>에어 15인치가 사전예약을 시작했을 때, 바로 주문했었는데요. 2주가 넘게 지나... 이외에 실버, 미드나이트, 스페이스 그레이 등이 있었지만, &quot;이왕이면 조금 밝은 톤의 <b>맥북<\\/b>을 선택해... \",\n",
      "\t\t\t\"bloggername\":\"IVORY IT PLACE\",\n",
      "\t\t\t\"bloggerlink\":\"blog.naver.com\\/yjg01212\",\n",
      "\t\t\t\"postdate\":\"20230725\"\n",
      "\t\t},\n",
      "\t\t{\n",
      "\t\t\t\"title\":\"<b>맥북<\\/b>에어 15인치 고민하다 <b>맥북<\\/b>프로 16인치 M2 Max... \",\n",
      "\t\t\t\"link\":\"https:\\/\\/blog.naver.com\\/jjisthex\\/223172117430\",\n",
      "\t\t\t\"description\":\"<b>맥북<\\/b>프로 16인치 M2 Max를 구입했습니다. 맥을 사용한지도 십여년이 지났습니다. 언제 처음 사용했을까? 저의 예전 포스팅을 살펴보니 2011년에 작성된 <b>맥북<\\/b>프로 17인치가 리뷰가 있더군요. <b>맥북<\\/b>프로 17인치보다... \",\n",
      "\t\t\t\"bloggername\":\"MOnCL Studio\",\n",
      "\t\t\t\"bloggerlink\":\"blog.naver.com\\/jjisthex\",\n",
      "\t\t\t\"postdate\":\"20230802\"\n",
      "\t\t},\n",
      "\t\t{\n",
      "\t\t\t\"title\":\"노트북, <b>맥북<\\/b> 거치대 크리에이트 T5 360도 회전하는 받침대 리뷰\",\n",
      "\t\t\t\"link\":\"https:\\/\\/blog.naver.com\\/hypoid613\\/223166919460\",\n",
      "\t\t\t\"description\":\"특히 화면 크기가 작은 13형 <b>맥북<\\/b>을 보유하고 있는데 고개를 많이 숙이고 있는 상태로 일을 하는 모습을 자주 볼 수 있었습니다. 어느 정도 높이를 맞춘 모니터 화면은 그나마 괜찮지만 <b>맥북<\\/b>, 노트북 화면은... \",\n",
      "\t\t\t\"bloggername\":\"동동이네 재미난 다락방\",\n",
      "\t\t\t\"bloggerlink\":\"blog.naver.com\\/hypoid613\",\n",
      "\t\t\t\"postdate\":\"20230726\"\n",
      "\t\t},\n",
      "\t\t{\n",
      "\t\t\t\"title\":\"<b>맥북<\\/b>수리 빨리 고쳤어요\",\n",
      "\t\t\t\"link\":\"https:\\/\\/blog.naver.com\\/hyukyny\\/223174308342\",\n",
      "\t\t\t\"description\":\"디자인 계통에서 일을 하고 있는지라 <b>맥북<\\/b>과는 떼려야 뗄수 없는 관계인데, 평소에도 외근이나 출장이 잦은 편이라 <b>맥북<\\/b>을 자주 들고 다녀서 여기저기에 부딪히고 다니기가 일쑤였어요. 하지만 그래도... \",\n",
      "\t\t\t\"bloggername\":\"비트컴퓨터온컴즈\",\n",
      "\t\t\t\"bloggerlink\":\"blog.naver.com\\/hyukyny\",\n",
      "\t\t\t\"postdate\":\"20230804\"\n",
      "\t\t},\n",
      "\t\t{\n",
      "\t\t\t\"title\":\"<b>맥북<\\/b> 앱삭제 및 마이그레이션 하는 방법\",\n",
      "\t\t\t\"link\":\"https:\\/\\/blog.naver.com\\/skdaksdptn\\/223163276726\",\n",
      "\t\t\t\"description\":\"다르게 <b>맥북<\\/b> 마이그레이션 기능을 통해 새로운 기기(이하 B)를 기존에 사용하던 기기(이하 A)와 동일한 사용 환경을 손쉽게 구축할 수 있다. 본문을 통해 그 방법과 주의 사항을 공유하고자 한다. 1. <b>맥북<\\/b>... \",\n",
      "\t\t\t\"bloggername\":\"짜루의 이것저것 리뷰\",\n",
      "\t\t\t\"bloggerlink\":\"blog.naver.com\\/skdaksdptn\",\n",
      "\t\t\t\"postdate\":\"20230722\"\n",
      "\t\t},\n",
      "\t\t{\n",
      "\t\t\t\"title\":\"<b>맥북<\\/b> USB C타입 멀티허브 아트뮤 12in1 MH610 리뷰\",\n",
      "\t\t\t\"link\":\"https:\\/\\/blog.naver.com\\/whitepolarbear\\/223175431144\",\n",
      "\t\t\t\"description\":\"주변을 둘러보면 <b>맥북<\\/b> or 노트북을 사용하는 분들이 정말 많더라고요. 아무래도 데스크톱은 자리도... 이런 불편함을 해결하는 방법으로 <b>맥북<\\/b>과 일반 노트북에서 모두 사용할 수 있는 아트뮤 12in1 MH610 USB... \",\n",
      "\t\t\t\"bloggername\":\"하얀 북극곰의 일상\",\n",
      "\t\t\t\"bloggerlink\":\"blog.naver.com\\/whitepolarbear\",\n",
      "\t\t\t\"postdate\":\"20230805\"\n",
      "\t\t},\n",
      "\t\t{\n",
      "\t\t\t\"title\":\"주연테크 v28ue <b>맥북<\\/b>과 사용 후기\",\n",
      "\t\t\t\"link\":\"https:\\/\\/blog.naver.com\\/jorar19\\/223172640316\",\n",
      "\t\t\t\"description\":\"저처럼 <b>맥북<\\/b>을 처음 사용하시는 분들 중에 가성비 좋은 서브 모니터를 찾고 계시는 분들이 많으실 거라... 주연테크 v28ue-m 이 좋은 점이 c 타입 케이블을 연결하면 <b>맥북<\\/b> M2에서 바로 인식해서 자동 설정되고 따로... \",\n",
      "\t\t\t\"bloggername\":\"라이포\",\n",
      "\t\t\t\"bloggerlink\":\"blog.naver.com\\/jorar19\",\n",
      "\t\t\t\"postdate\":\"20230802\"\n",
      "\t\t}\n",
      "\t]\n",
      "}\n"
     ]
    }
   ],
   "source": [
    "import os\n",
    "import sys\n",
    "import urllib.request\n",
    "\n",
    "client_id ='jfnqTY2sdJBritbopO6Y'\n",
    "client_secret = 'ppWI0K7Uv7'\n",
    "\n",
    "encText = urllib.parse.quote('맥북')\n",
    "url = 'https://openapi.naver.com/v1/search/blog.json?query=' + encText   #json타입으로 한다 읽고 확인하기 쉽다.\n",
    "\n",
    "request = urllib.request.Request(url)\n",
    "request.add_header('X-Naver-Client-Id', client_id)\n",
    "request.add_header('X-Naver-Client-secret', client_secret)\n",
    "response = urllib.request.urlopen(request)\n",
    "\n",
    "# 응답을 제대로 받았는지 확인\n",
    "\n",
    "rescode = response.getcode()\n",
    "if(rescode==200):\n",
    "    response_body =response.read()\n",
    "    print(response_body.decode('utf-8')) # 코드를 번역하는데 가장 중요한 요소중 하나 utf-8\n",
    "else:\n",
    "    print('Error Code:'+rescode)"
   ]
  },
  {
   "cell_type": "code",
   "execution_count": 188,
   "metadata": {},
   "outputs": [
    {
     "name": "stdout",
     "output_type": "stream",
     "text": [
      "{\n",
      "\t\"lastBuildDate\":\"Fri, 11 Aug 2023 16:48:49 +0900\",\n",
      "\t\"total\":24964741,\n",
      "\t\"start\":1,\n",
      "\t\"display\":10,\n",
      "\t\"items\":[\n",
      "\t\t{\n",
      "\t\t\t\"title\":\"신축<b>아파트<\\/b> 하자보수 소송 참고할 점은\",\n",
      "\t\t\t\"link\":\"https:\\/\\/blog.naver.com\\/omh7708\\/223178319251\",\n",
      "\t\t\t\"description\":\"신축<b>아파트<\\/b> 하자보수 소송 참고할 점은 신축으로 <b>아파트<\\/b> 공사를 진행하는 과정에서 부실해지는 과정을 종종 확인하게 되는데 요즘 논란이 되는 것으로 철근누락 시공사의 부실시공이 알려지면서 순살 치킨에... \",\n",
      "\t\t\t\"bloggername\":\"법무법인 심평\",\n",
      "\t\t\t\"bloggerlink\":\"blog.naver.com\\/omh7708\",\n",
      "\t\t\t\"postdate\":\"20230808\"\n",
      "\t\t},\n",
      "\t\t{\n",
      "\t\t\t\"title\":\"수원 민간임대<b>아파트<\\/b> 팔달10구역 인계동 아이파크자이\",\n",
      "\t\t\t\"link\":\"https:\\/\\/blog.naver.com\\/leecocacola2\\/223180073996\",\n",
      "\t\t\t\"description\":\"민간임대<b>아파트<\\/b> 팔달10구역 인계동 아이파크자이 요즘 계속되는 높은 물가와 공사비로 매매가격이 상승 중으로 부동산 시장이 계속 상승세가 될거라는 전망입니다만 오늘은 프리미엄 단지인 임대<b>아파트<\\/b>... \",\n",
      "\t\t\t\"bloggername\":\"부동산 사이클연구소\",\n",
      "\t\t\t\"bloggerlink\":\"blog.naver.com\\/leecocacola2\",\n",
      "\t\t\t\"postdate\":\"20230810\"\n",
      "\t\t},\n",
      "\t\t{\n",
      "\t\t\t\"title\":\"광주하수구막힘 <b>아파트<\\/b> 누수문제 해결\",\n",
      "\t\t\t\"link\":\"https:\\/\\/blog.naver.com\\/msk0494\\/223178328306\",\n",
      "\t\t\t\"description\":\"이번에 <b>아파트<\\/b> 근무를 하면서 엘리베이터 피트층으로 누수가 발생하여 위험한 상황이 발생할 뻔했어요. 그래도 주변 <b>아파트<\\/b> 경비원분이 같이 공유를 해줘서 다행이지 적당한 대응이 없었더라면 더 큰 사고와... \",\n",
      "\t\t\t\"bloggername\":\"양재동 김은채왁싱 남여전문 (김은채왁싱검색)\",\n",
      "\t\t\t\"bloggerlink\":\"blog.naver.com\\/msk0494\",\n",
      "\t\t\t\"postdate\":\"20230808\"\n",
      "\t\t},\n",
      "\t\t{\n",
      "\t\t\t\"title\":\"<b>아파트<\\/b>인터넷설치 조건 및 혜택 비교\",\n",
      "\t\t\t\"link\":\"https:\\/\\/blog.naver.com\\/gtrjun\\/223176464470\",\n",
      "\t\t\t\"description\":\"오늘은 <b>아파트<\\/b>인터넷설치 만족스럽게 진행할 수 있는 방법을 알려드릴게요. 제가 얼마 전에 직접... 마침 약정 기간이 끝났다고 해서 이번에 새롭게 <b>아파트<\\/b>인터넷설치 하게 되었고요. 인터넷 하나만... \",\n",
      "\t\t\t\"bloggername\":\"끄적끄적\",\n",
      "\t\t\t\"bloggerlink\":\"blog.naver.com\\/gtrjun\",\n",
      "\t\t\t\"postdate\":\"20230806\"\n",
      "\t\t},\n",
      "\t\t{\n",
      "\t\t\t\"title\":\"부산<b>아파트<\\/b>청소 입주청소 맡겨본 후기\",\n",
      "\t\t\t\"link\":\"https:\\/\\/blog.naver.com\\/qhdud2766\\/223179173599\",\n",
      "\t\t\t\"description\":\"저는 아이들 둘을 키우는 엄마인데요 새 <b>아파트<\\/b>로 입주를 하게 되면서 청소도 해봐야 했고 새집증후군 때문에 부산입주청소를 좀 알아봤어요 부산<b>아파트<\\/b>청소만 검색해도 수많은 업체들이 나오지만 그중에서도... \",\n",
      "\t\t\t\"bloggername\":\"랑꽁스토리\",\n",
      "\t\t\t\"bloggerlink\":\"blog.naver.com\\/qhdud2766\",\n",
      "\t\t\t\"postdate\":\"20230809\"\n",
      "\t\t},\n",
      "\t\t{\n",
      "\t\t\t\"title\":\"공공임대<b>아파트<\\/b> 자격 조건 확인하기\",\n",
      "\t\t\t\"link\":\"https:\\/\\/blog.naver.com\\/nkg990129\\/223177330661\",\n",
      "\t\t\t\"description\":\"오늘은 그중에서 공공임대<b>아파트<\\/b> 자격 조건을 살펴보겠습니다. 정부와 지방자치단체 그리고 LH 한국토지주택공사, SH 서울주택공사의 도움을 받아서 공급하는 주택의 형태를 의미합니다. 공공임대<b>아파트<\\/b> 자격... \",\n",
      "\t\t\t\"bloggername\":\"부동산 아카데미\",\n",
      "\t\t\t\"bloggerlink\":\"blog.naver.com\\/nkg990129\",\n",
      "\t\t\t\"postdate\":\"20230807\"\n",
      "\t\t},\n",
      "\t\t{\n",
      "\t\t\t\"title\":\"라포르테 공도 안성 <b>아파트<\\/b> 분양정보\",\n",
      "\t\t\t\"link\":\"https:\\/\\/blog.naver.com\\/weful\\/223177805832\",\n",
      "\t\t\t\"description\":\"라포르테 공도 안성 <b>아파트<\\/b> 분양정보 수도권 광역 급행철도인 GTX 연장과 각종 개발 호재를 지닌... 건설의 명가 건영이 선보이는 프리미엄 대규모 <b>아파트<\\/b>는 연면적과 용적률이 34,966평 및 221%인데요. 18.15%의... \",\n",
      "\t\t\t\"bloggername\":\"디자인부동산컨설팅\",\n",
      "\t\t\t\"bloggerlink\":\"blog.naver.com\\/weful\",\n",
      "\t\t\t\"postdate\":\"20230808\"\n",
      "\t\t},\n",
      "\t\t{\n",
      "\t\t\t\"title\":\"서면 봄여름가을겨울 4차 부산 역세권 <b>아파트<\\/b>\",\n",
      "\t\t\t\"link\":\"https:\\/\\/blog.naver.com\\/maya2000hsh7\\/223175299392\",\n",
      "\t\t\t\"description\":\"선분양 <b>아파트<\\/b>인 서면 봄여름가을겨울 4차 사업지의 분양정보를 보겠습니다 지하철2호선을 이용하기에 가까우며 1번가 상권이용의 편리성 인근 유사의 개발호재및 미래가치가 돋보이는 <b>아파트<\\/b>로써... \",\n",
      "\t\t\t\"bloggername\":\"웰그린 하우징\",\n",
      "\t\t\t\"bloggerlink\":\"blog.naver.com\\/maya2000hsh7\",\n",
      "\t\t\t\"postdate\":\"20230805\"\n",
      "\t\t},\n",
      "\t\t{\n",
      "\t\t\t\"title\":\"두류 중흥s클래스 센텀포레 <b>아파트<\\/b> 분양내용\",\n",
      "\t\t\t\"link\":\"https:\\/\\/blog.naver.com\\/map9638\\/223178105429\",\n",
      "\t\t\t\"description\":\"두류 중흥s클래스 센텀포레 <b>아파트<\\/b> 분양내용 신축 <b>아파트<\\/b>에 관심있다면 두류 중흥s클래스 센텀포레의 소식에 집중하시면 어떠실까요? 두류동 819번지에서 공급하는 단지로 지하 2층에서 지상 13~29층의 높이로... \",\n",
      "\t\t\t\"bloggername\":\"부동산 손품머신\",\n",
      "\t\t\t\"bloggerlink\":\"blog.naver.com\\/map9638\",\n",
      "\t\t\t\"postdate\":\"20230808\"\n",
      "\t\t},\n",
      "\t\t{\n",
      "\t\t\t\"title\":\"아산 힐스테이트 모종 블랑루체 <b>아파트<\\/b> 공급 내용\",\n",
      "\t\t\t\"link\":\"https:\\/\\/blog.naver.com\\/piancakorea\\/223179517957\",\n",
      "\t\t\t\"description\":\"아산 힐스테이트 모종 블랑루체 <b>아파트<\\/b> 공급 내용 8일 주산연이 주택사업자에게 설문조사를 실시한 결과 우리나라 7월 전국 <b>아파트<\\/b> 입주율은 68.7%로 6월에 비해 5.1%가 늘어난 것으로 조사되었습니다. 이는... \",\n",
      "\t\t\t\"bloggername\":\"희바라기 부동산정보\",\n",
      "\t\t\t\"bloggerlink\":\"blog.naver.com\\/piancakorea\",\n",
      "\t\t\t\"postdate\":\"20230809\"\n",
      "\t\t}\n",
      "\t]\n",
      "}\n"
     ]
    }
   ],
   "source": [
    "import os\n",
    "import sys\n",
    "import urllib.request\n",
    "\n",
    "client_id ='jfnqTY2sdJBritbopO6Y'\n",
    "client_secret = 'ppWI0K7Uv7'\n",
    "\n",
    "encText = urllib.parse.quote('아파트')\n",
    "url = 'https://openapi.naver.com/v1/search/blog.json?query=' + encText   #json타입으로 한다 읽고 확인하기 쉽다.\n",
    "\n",
    "request = urllib.request.Request(url)\n",
    "request.add_header('X-Naver-Client-Id', client_id)\n",
    "request.add_header('X-Naver-Client-secret', client_secret)\n",
    "response = urllib.request.urlopen(request)\n",
    "\n",
    "# 응답을 제대로 받았는지 확인\n",
    "\n",
    "rescode = response.getcode()\n",
    "if(rescode==200):\n",
    "    response_body =response.read()\n",
    "    print(response_body.decode('utf-8')) # 코드를 번역하는데 가장 중요한 요소중 하나 utf-8\n",
    "else:\n",
    "    print('Error Code:'+rescode)"
   ]
  },
  {
   "cell_type": "code",
   "execution_count": 189,
   "metadata": {},
   "outputs": [],
   "source": [
    "# 1.웹페이지 분석\n",
    "# 2.요청과 응답(url)"
   ]
  },
  {
   "cell_type": "markdown",
   "metadata": {},
   "source": [
    "## 04.네이버 검색 API 응용"
   ]
  },
  {
   "cell_type": "markdown",
   "metadata": {},
   "source": []
  },
  {
   "cell_type": "markdown",
   "metadata": {},
   "source": [
    "### 04-1 URL\n",
    "- gen_search_url()\n",
    "- 검색해야 할 URL만들기\n"
   ]
  },
  {
   "cell_type": "code",
   "execution_count": 190,
   "metadata": {},
   "outputs": [],
   "source": [
    "url = 'https://openapi.naver.com/v1/search/shop.json??query='"
   ]
  },
  {
   "cell_type": "code",
   "execution_count": 249,
   "metadata": {},
   "outputs": [],
   "source": [
    "api_node ='shop'\n",
    "search_text ='아이패드'\n",
    "start_num = 1\n",
    "disp_num = 5\n",
    "\n",
    "def gen_search_url(api_node, search_text, start_num, disp_num):\n",
    "    base = 'https://openapi.naver.com/v1/search'\n",
    "    node = '/' + api_node +'.json'\n",
    "    param_query = '?query=' + urllib.parse.quote(search_text)\n",
    "    param_start ='&start=' + str(start_num)\n",
    "    param_disp= '&display='+str(disp_num)\n",
    "    return base +node +param_query+ param_start+ param_disp\n"
   ]
  },
  {
   "cell_type": "code",
   "execution_count": 250,
   "metadata": {},
   "outputs": [],
   "source": [
    "#04-2"
   ]
  },
  {
   "cell_type": "code",
   "execution_count": 251,
   "metadata": {},
   "outputs": [],
   "source": [
    "import json \n",
    "import datetime\n",
    "\n",
    "def get_result_onpage(url):\n",
    "    request = urllib.request.Request(url)\n",
    "    request.add_header('X-Naver-Client-Id', client_id)\n",
    "    request.add_header('X-Naver-Client-Secret', client_secret)\n",
    "    response = urllib.request.urlopen(request)\n",
    "    print(f'{datetime.datetime.now()} Url Request Success')\n",
    "    return json.loads(response.read().decode('utf-8'))"
   ]
  },
  {
   "cell_type": "code",
   "execution_count": 252,
   "metadata": {},
   "outputs": [
    {
     "name": "stdout",
     "output_type": "stream",
     "text": [
      "2023-08-11 16:57:19.496989 Url Request Success\n"
     ]
    }
   ],
   "source": [
    "on_result = get_result_onpage(gen_search_url('shop','맥북',1,5)) # 맥북 1~5 페이지 까지"
   ]
  },
  {
   "cell_type": "code",
   "execution_count": 253,
   "metadata": {},
   "outputs": [
    {
     "name": "stdout",
     "output_type": "stream",
     "text": [
      "2023-08-11 16:57:19.858792 Url Request Success\n"
     ]
    }
   ],
   "source": [
    "#상품이름\n",
    "url = gen_search_url('shop', '아이패드', 1, 10)\n",
    "json_result = get_result_onpage(url)\n",
    "result = get_fields(json_result)\n",
    "#on_result['items'][0]['title']\n"
   ]
  },
  {
   "cell_type": "code",
   "execution_count": 254,
   "metadata": {},
   "outputs": [],
   "source": [
    "#상품가격\n",
    "#on_result['items'[0]['lprice']]\n",
    "#상품 판매처"
   ]
  },
  {
   "cell_type": "code",
   "execution_count": 255,
   "metadata": {},
   "outputs": [],
   "source": [
    "# 04-3"
   ]
  },
  {
   "cell_type": "markdown",
   "metadata": {},
   "source": [
    "DataFrame\n"
   ]
  },
  {
   "cell_type": "code",
   "execution_count": 256,
   "metadata": {},
   "outputs": [],
   "source": [
    "import pandas as pd\n",
    "\n",
    "def get_fields(json_data):\n",
    "    title = [each['title'] for each in json_data['items']]\n",
    "    link = [each['link'] for each in json_data['items']]\n",
    "    lprice = [each['lprice'] for each in json_data['items']]\n",
    "    mall_name = [each['mallName'] for each in json_data['items']] \n",
    "    \n",
    "    result = pd.DataFrame({\n",
    "        'title': title, \n",
    "        'link': link,\n",
    "        'lprice': lprice,\n",
    "        'mall': mall_name,\n",
    "    }, columns=['title', 'lprice', 'mall', 'link'])\n",
    "    \n",
    "    return result"
   ]
  },
  {
   "cell_type": "code",
   "execution_count": 257,
   "metadata": {},
   "outputs": [
    {
     "name": "stdout",
     "output_type": "stream",
     "text": [
      "Apple <b>맥북</b> 프로 14 2023년 M2 Pro 10코어 실버 (MPHH3KH/A)\n",
      "Apple <b>맥북</b> 에어 15 2023년 M2 8코어 실버 MQKT3KH/A\n",
      "Apple <b>맥북</b> 에어 15 2023년 M2 8코어 스페이스 그레이 MQKP3KH/A\n",
      "Apple <b>맥북</b> 에어 2022년 M2 8코어 미드나이트 (MLY33KH/A)\n",
      "Apple <b>맥북</b> 에어 2020년형 M1 256G 스페이스 그레이 (MGN63KH/A)\n"
     ]
    }
   ],
   "source": [
    "for each in on_result['items']:\n",
    "\n",
    "    print(each['title'])"
   ]
  },
  {
   "cell_type": "code",
   "execution_count": 258,
   "metadata": {},
   "outputs": [],
   "source": [
    "def delete_tag(input_str):\n",
    "    input_str =input_str.replace('<b>','')\n",
    "    input_str =input_str.replace('<b>','')\n",
    "    input_str =input_str.replace('\\xa0','')\n",
    "    return input_str"
   ]
  },
  {
   "cell_type": "code",
   "execution_count": 259,
   "metadata": {},
   "outputs": [
    {
     "data": {
      "text/html": [
       "<div>\n",
       "<style scoped>\n",
       "    .dataframe tbody tr th:only-of-type {\n",
       "        vertical-align: middle;\n",
       "    }\n",
       "\n",
       "    .dataframe tbody tr th {\n",
       "        vertical-align: top;\n",
       "    }\n",
       "\n",
       "    .dataframe thead th {\n",
       "        text-align: right;\n",
       "    }\n",
       "</style>\n",
       "<table border=\"1\" class=\"dataframe\">\n",
       "  <thead>\n",
       "    <tr style=\"text-align: right;\">\n",
       "      <th></th>\n",
       "      <th>title</th>\n",
       "      <th>lprice</th>\n",
       "      <th>mall</th>\n",
       "      <th>link</th>\n",
       "    </tr>\n",
       "  </thead>\n",
       "  <tbody>\n",
       "    <tr>\n",
       "      <th>0</th>\n",
       "      <td>Apple &lt;b&gt;맥북&lt;/b&gt; 프로 14 2023년 M2 Pro 10코어 실버 (MP...</td>\n",
       "      <td>2200000</td>\n",
       "      <td>네이버</td>\n",
       "      <td>https://search.shopping.naver.com/gate.nhn?id=...</td>\n",
       "    </tr>\n",
       "    <tr>\n",
       "      <th>1</th>\n",
       "      <td>Apple &lt;b&gt;맥북&lt;/b&gt; 에어 15 2023년 M2 8코어 실버 MQKT3KH/A</td>\n",
       "      <td>2052000</td>\n",
       "      <td>네이버</td>\n",
       "      <td>https://search.shopping.naver.com/gate.nhn?id=...</td>\n",
       "    </tr>\n",
       "    <tr>\n",
       "      <th>2</th>\n",
       "      <td>Apple &lt;b&gt;맥북&lt;/b&gt; 에어 15 2023년 M2 8코어 스페이스 그레이 MQ...</td>\n",
       "      <td>1757700</td>\n",
       "      <td>네이버</td>\n",
       "      <td>https://search.shopping.naver.com/gate.nhn?id=...</td>\n",
       "    </tr>\n",
       "    <tr>\n",
       "      <th>3</th>\n",
       "      <td>Apple &lt;b&gt;맥북&lt;/b&gt; 에어 2022년 M2 8코어 미드나이트 (MLY33KH/A)</td>\n",
       "      <td>1426870</td>\n",
       "      <td>네이버</td>\n",
       "      <td>https://search.shopping.naver.com/gate.nhn?id=...</td>\n",
       "    </tr>\n",
       "    <tr>\n",
       "      <th>4</th>\n",
       "      <td>Apple &lt;b&gt;맥북&lt;/b&gt; 에어 2020년형 M1 256G 스페이스 그레이 (MG...</td>\n",
       "      <td>1239000</td>\n",
       "      <td>네이버</td>\n",
       "      <td>https://search.shopping.naver.com/gate.nhn?id=...</td>\n",
       "    </tr>\n",
       "  </tbody>\n",
       "</table>\n",
       "</div>"
      ],
      "text/plain": [
       "                                               title   lprice mall  \\\n",
       "0  Apple <b>맥북</b> 프로 14 2023년 M2 Pro 10코어 실버 (MP...  2200000  네이버   \n",
       "1    Apple <b>맥북</b> 에어 15 2023년 M2 8코어 실버 MQKT3KH/A  2052000  네이버   \n",
       "2  Apple <b>맥북</b> 에어 15 2023년 M2 8코어 스페이스 그레이 MQ...  1757700  네이버   \n",
       "3  Apple <b>맥북</b> 에어 2022년 M2 8코어 미드나이트 (MLY33KH/A)  1426870  네이버   \n",
       "4  Apple <b>맥북</b> 에어 2020년형 M1 256G 스페이스 그레이 (MG...  1239000  네이버   \n",
       "\n",
       "                                                link  \n",
       "0  https://search.shopping.naver.com/gate.nhn?id=...  \n",
       "1  https://search.shopping.naver.com/gate.nhn?id=...  \n",
       "2  https://search.shopping.naver.com/gate.nhn?id=...  \n",
       "3  https://search.shopping.naver.com/gate.nhn?id=...  \n",
       "4  https://search.shopping.naver.com/gate.nhn?id=...  "
      ]
     },
     "execution_count": 259,
     "metadata": {},
     "output_type": "execute_result"
    }
   ],
   "source": [
    "get_fields(on_result)"
   ]
  },
  {
   "cell_type": "code",
   "execution_count": 260,
   "metadata": {},
   "outputs": [],
   "source": [
    "#04 -5.actMain()"
   ]
  },
  {
   "cell_type": "code",
   "execution_count": 261,
   "metadata": {},
   "outputs": [
    {
     "name": "stdout",
     "output_type": "stream",
     "text": [
      "1\n",
      "101\n",
      "201\n",
      "301\n",
      "401\n",
      "501\n",
      "601\n",
      "701\n",
      "801\n",
      "901\n"
     ]
    }
   ],
   "source": [
    "for n in range(1, 1000, 100):  \n",
    "    print(n)"
   ]
  },
  {
   "cell_type": "code",
   "execution_count": 262,
   "metadata": {},
   "outputs": [
    {
     "name": "stdout",
     "output_type": "stream",
     "text": [
      "2023-08-11 16:57:25.792212 Url Request Success\n",
      "2023-08-11 16:57:25.845870 Url Request Success\n",
      "2023-08-11 16:57:25.920457 Url Request Success\n",
      "2023-08-11 16:57:25.982811 Url Request Success\n",
      "2023-08-11 16:57:26.136558 Url Request Success\n",
      "2023-08-11 16:57:26.214856 Url Request Success\n",
      "2023-08-11 16:57:26.294158 Url Request Success\n",
      "2023-08-11 16:57:26.357507 Url Request Success\n",
      "2023-08-11 16:57:26.425558 Url Request Success\n",
      "2023-08-11 16:57:26.482854 Url Request Success\n"
     ]
    }
   ],
   "source": [
    "result_datas =[]\n",
    "\n",
    "for n in range(1, 1000, 100):\n",
    "    url = gen_search_url('shop','아이패드', n ,100)\n",
    "    json_result = get_result_onpage(url)\n",
    "    result =get_fields(json_result)\n",
    "    result_datas.append(result)"
   ]
  },
  {
   "cell_type": "code",
   "execution_count": 264,
   "metadata": {},
   "outputs": [
    {
     "name": "stdout",
     "output_type": "stream",
     "text": [
      "<class 'pandas.core.frame.DataFrame'>\n",
      "Index: 1000 entries, 0 to 99\n",
      "Data columns (total 4 columns):\n",
      " #   Column  Non-Null Count  Dtype \n",
      "---  ------  --------------  ----- \n",
      " 0   title   1000 non-null   object\n",
      " 1   lprice  1000 non-null   object\n",
      " 2   mall    1000 non-null   object\n",
      " 3   link    1000 non-null   object\n",
      "dtypes: object(4)\n",
      "memory usage: 39.1+ KB\n"
     ]
    }
   ],
   "source": [
    "pd.concat(result_datas).info()"
   ]
  },
  {
   "cell_type": "code",
   "execution_count": 268,
   "metadata": {},
   "outputs": [
    {
     "data": {
      "text/html": [
       "<div>\n",
       "<style scoped>\n",
       "    .dataframe tbody tr th:only-of-type {\n",
       "        vertical-align: middle;\n",
       "    }\n",
       "\n",
       "    .dataframe tbody tr th {\n",
       "        vertical-align: top;\n",
       "    }\n",
       "\n",
       "    .dataframe thead th {\n",
       "        text-align: right;\n",
       "    }\n",
       "</style>\n",
       "<table border=\"1\" class=\"dataframe\">\n",
       "  <thead>\n",
       "    <tr style=\"text-align: right;\">\n",
       "      <th></th>\n",
       "      <th>title</th>\n",
       "      <th>lprice</th>\n",
       "      <th>mall</th>\n",
       "      <th>link</th>\n",
       "    </tr>\n",
       "  </thead>\n",
       "  <tbody>\n",
       "    <tr>\n",
       "      <th>0</th>\n",
       "      <td>Apple &lt;b&gt;아이패드&lt;/b&gt; 에어 5세대 M1 WIFI 64G 스페이스 그레이 ...</td>\n",
       "      <td>779900</td>\n",
       "      <td>네이버</td>\n",
       "      <td>https://search.shopping.naver.com/gate.nhn?id=...</td>\n",
       "    </tr>\n",
       "    <tr>\n",
       "      <th>1</th>\n",
       "      <td>Apple &lt;b&gt;아이패드&lt;/b&gt; 10세대 WIFI 64G 실버 (MPQ03KH/A)</td>\n",
       "      <td>587870</td>\n",
       "      <td>네이버</td>\n",
       "      <td>https://search.shopping.naver.com/gate.nhn?id=...</td>\n",
       "    </tr>\n",
       "    <tr>\n",
       "      <th>2</th>\n",
       "      <td>Apple &lt;b&gt;아이패드&lt;/b&gt; 프로 11 4세대 M2 WIFI 128G 스페이스 ...</td>\n",
       "      <td>1075330</td>\n",
       "      <td>네이버</td>\n",
       "      <td>https://search.shopping.naver.com/gate.nhn?id=...</td>\n",
       "    </tr>\n",
       "    <tr>\n",
       "      <th>3</th>\n",
       "      <td>[당일출고] 애플 &lt;b&gt;아이패드&lt;/b&gt; 9세대 Apple &lt;b&gt;iPad&lt;/b&gt; 9 ...</td>\n",
       "      <td>309800</td>\n",
       "      <td>브루클린덤보</td>\n",
       "      <td>https://search.shopping.naver.com/gate.nhn?id=...</td>\n",
       "    </tr>\n",
       "    <tr>\n",
       "      <th>4</th>\n",
       "      <td>Apple &lt;b&gt;아이패드&lt;/b&gt; 9세대 WIFI 64G 스페이스 그레이(MK2K3K...</td>\n",
       "      <td>355000</td>\n",
       "      <td>네이버</td>\n",
       "      <td>https://search.shopping.naver.com/gate.nhn?id=...</td>\n",
       "    </tr>\n",
       "    <tr>\n",
       "      <th>...</th>\n",
       "      <td>...</td>\n",
       "      <td>...</td>\n",
       "      <td>...</td>\n",
       "      <td>...</td>\n",
       "    </tr>\n",
       "    <tr>\n",
       "      <th>95</th>\n",
       "      <td>애플 &lt;b&gt;아이패드&lt;/b&gt; 9세대 2021년형 10.2인치 WiFi 64GB Silver</td>\n",
       "      <td>359000</td>\n",
       "      <td>팔리조마켓</td>\n",
       "      <td>https://search.shopping.naver.com/gate.nhn?id=...</td>\n",
       "    </tr>\n",
       "    <tr>\n",
       "      <th>96</th>\n",
       "      <td>[대여] &lt;b&gt;아이패드&lt;/b&gt; 대여 10세대 펜슬포함 렌탈 태블릿 코딩 드로잉</td>\n",
       "      <td>11000</td>\n",
       "      <td>플레이렌탈</td>\n",
       "      <td>https://search.shopping.naver.com/gate.nhn?id=...</td>\n",
       "    </tr>\n",
       "    <tr>\n",
       "      <th>97</th>\n",
       "      <td>&lt;b&gt;아이패드&lt;/b&gt; 8세대 32GB 32기가 WiFi LTE 셀룰러</td>\n",
       "      <td>398000</td>\n",
       "      <td>롯데ON</td>\n",
       "      <td>https://search.shopping.naver.com/gate.nhn?id=...</td>\n",
       "    </tr>\n",
       "    <tr>\n",
       "      <th>98</th>\n",
       "      <td>[렌탈] &lt;b&gt;아이패드&lt;/b&gt; 7세대 10.2인치 32GB Wi-Fi &lt;b&gt;아이패드...</td>\n",
       "      <td>110000</td>\n",
       "      <td>굿아주굿</td>\n",
       "      <td>https://search.shopping.naver.com/gate.nhn?id=...</td>\n",
       "    </tr>\n",
       "    <tr>\n",
       "      <th>99</th>\n",
       "      <td>Apple &lt;b&gt;아이패드&lt;/b&gt; 미니 5세대 WIFI + 셀룰러 256G</td>\n",
       "      <td>864010</td>\n",
       "      <td>네이버</td>\n",
       "      <td>https://search.shopping.naver.com/gate.nhn?id=...</td>\n",
       "    </tr>\n",
       "  </tbody>\n",
       "</table>\n",
       "<p>100 rows × 4 columns</p>\n",
       "</div>"
      ],
      "text/plain": [
       "                                                title   lprice    mall  \\\n",
       "0   Apple <b>아이패드</b> 에어 5세대 M1 WIFI 64G 스페이스 그레이 ...   779900     네이버   \n",
       "1      Apple <b>아이패드</b> 10세대 WIFI 64G 실버 (MPQ03KH/A)   587870     네이버   \n",
       "2   Apple <b>아이패드</b> 프로 11 4세대 M2 WIFI 128G 스페이스 ...  1075330     네이버   \n",
       "3   [당일출고] 애플 <b>아이패드</b> 9세대 Apple <b>iPad</b> 9 ...   309800  브루클린덤보   \n",
       "4   Apple <b>아이패드</b> 9세대 WIFI 64G 스페이스 그레이(MK2K3K...   355000     네이버   \n",
       "..                                                ...      ...     ...   \n",
       "95  애플 <b>아이패드</b> 9세대 2021년형 10.2인치 WiFi 64GB Silver   359000   팔리조마켓   \n",
       "96        [대여] <b>아이패드</b> 대여 10세대 펜슬포함 렌탈 태블릿 코딩 드로잉    11000   플레이렌탈   \n",
       "97             <b>아이패드</b> 8세대 32GB 32기가 WiFi LTE 셀룰러   398000    롯데ON   \n",
       "98  [렌탈] <b>아이패드</b> 7세대 10.2인치 32GB Wi-Fi <b>아이패드...   110000    굿아주굿   \n",
       "99           Apple <b>아이패드</b> 미니 5세대 WIFI + 셀룰러 256G   864010     네이버   \n",
       "\n",
       "                                                 link  \n",
       "0   https://search.shopping.naver.com/gate.nhn?id=...  \n",
       "1   https://search.shopping.naver.com/gate.nhn?id=...  \n",
       "2   https://search.shopping.naver.com/gate.nhn?id=...  \n",
       "3   https://search.shopping.naver.com/gate.nhn?id=...  \n",
       "4   https://search.shopping.naver.com/gate.nhn?id=...  \n",
       "..                                                ...  \n",
       "95  https://search.shopping.naver.com/gate.nhn?id=...  \n",
       "96  https://search.shopping.naver.com/gate.nhn?id=...  \n",
       "97  https://search.shopping.naver.com/gate.nhn?id=...  \n",
       "98  https://search.shopping.naver.com/gate.nhn?id=...  \n",
       "99  https://search.shopping.naver.com/gate.nhn?id=...  \n",
       "\n",
       "[100 rows x 4 columns]"
      ]
     },
     "execution_count": 268,
     "metadata": {},
     "output_type": "execute_result"
    }
   ],
   "source": [
    "result_datas[0]"
   ]
  },
  {
   "cell_type": "code",
   "execution_count": 269,
   "metadata": {},
   "outputs": [
    {
     "data": {
      "text/plain": [
       "100"
      ]
     },
     "execution_count": 269,
     "metadata": {},
     "output_type": "execute_result"
    }
   ],
   "source": [
    "len(result_datas[0])"
   ]
  },
  {
   "cell_type": "code",
   "execution_count": 270,
   "metadata": {},
   "outputs": [],
   "source": [
    "result_df = pd.concat(result_datas)"
   ]
  },
  {
   "cell_type": "code",
   "execution_count": 276,
   "metadata": {},
   "outputs": [
    {
     "data": {
      "text/html": [
       "<div>\n",
       "<style scoped>\n",
       "    .dataframe tbody tr th:only-of-type {\n",
       "        vertical-align: middle;\n",
       "    }\n",
       "\n",
       "    .dataframe tbody tr th {\n",
       "        vertical-align: top;\n",
       "    }\n",
       "\n",
       "    .dataframe thead th {\n",
       "        text-align: right;\n",
       "    }\n",
       "</style>\n",
       "<table border=\"1\" class=\"dataframe\">\n",
       "  <thead>\n",
       "    <tr style=\"text-align: right;\">\n",
       "      <th></th>\n",
       "      <th>title</th>\n",
       "      <th>lprice</th>\n",
       "      <th>mall</th>\n",
       "      <th>link</th>\n",
       "    </tr>\n",
       "  </thead>\n",
       "  <tbody>\n",
       "    <tr>\n",
       "      <th>0</th>\n",
       "      <td>Apple &lt;b&gt;아이패드&lt;/b&gt; 에어 5세대 M1 WIFI 64G 스페이스 그레이 ...</td>\n",
       "      <td>779900</td>\n",
       "      <td>네이버</td>\n",
       "      <td>https://search.shopping.naver.com/gate.nhn?id=...</td>\n",
       "    </tr>\n",
       "    <tr>\n",
       "      <th>1</th>\n",
       "      <td>Apple &lt;b&gt;아이패드&lt;/b&gt; 10세대 WIFI 64G 실버 (MPQ03KH/A)</td>\n",
       "      <td>587870</td>\n",
       "      <td>네이버</td>\n",
       "      <td>https://search.shopping.naver.com/gate.nhn?id=...</td>\n",
       "    </tr>\n",
       "    <tr>\n",
       "      <th>2</th>\n",
       "      <td>Apple &lt;b&gt;아이패드&lt;/b&gt; 프로 11 4세대 M2 WIFI 128G 스페이스 ...</td>\n",
       "      <td>1075330</td>\n",
       "      <td>네이버</td>\n",
       "      <td>https://search.shopping.naver.com/gate.nhn?id=...</td>\n",
       "    </tr>\n",
       "    <tr>\n",
       "      <th>3</th>\n",
       "      <td>[당일출고] 애플 &lt;b&gt;아이패드&lt;/b&gt; 9세대 Apple &lt;b&gt;iPad&lt;/b&gt; 9 ...</td>\n",
       "      <td>309800</td>\n",
       "      <td>브루클린덤보</td>\n",
       "      <td>https://search.shopping.naver.com/gate.nhn?id=...</td>\n",
       "    </tr>\n",
       "    <tr>\n",
       "      <th>4</th>\n",
       "      <td>Apple &lt;b&gt;아이패드&lt;/b&gt; 9세대 WIFI 64G 스페이스 그레이(MK2K3K...</td>\n",
       "      <td>355000</td>\n",
       "      <td>네이버</td>\n",
       "      <td>https://search.shopping.naver.com/gate.nhn?id=...</td>\n",
       "    </tr>\n",
       "    <tr>\n",
       "      <th>...</th>\n",
       "      <td>...</td>\n",
       "      <td>...</td>\n",
       "      <td>...</td>\n",
       "      <td>...</td>\n",
       "    </tr>\n",
       "    <tr>\n",
       "      <th>95</th>\n",
       "      <td>&lt;b&gt;아이패드&lt;/b&gt; 6세대 32GB Wi-Fi 스페이스 그레이</td>\n",
       "      <td>262280</td>\n",
       "      <td>11번가</td>\n",
       "      <td>https://search.shopping.naver.com/gate.nhn?id=...</td>\n",
       "    </tr>\n",
       "    <tr>\n",
       "      <th>96</th>\n",
       "      <td>&lt;b&gt;아이패드&lt;/b&gt; &lt;b&gt;아이패드&lt;/b&gt; 프로 M2 12.9 6세대 WIFI 1T...</td>\n",
       "      <td>2665390</td>\n",
       "      <td>G마켓</td>\n",
       "      <td>https://search.shopping.naver.com/gate.nhn?id=...</td>\n",
       "    </tr>\n",
       "    <tr>\n",
       "      <th>97</th>\n",
       "      <td>&lt;b&gt;아이패드&lt;/b&gt; &lt;b&gt;아이패드&lt;/b&gt; 프로 M2 12.9 6세대 WIFI 51...</td>\n",
       "      <td>1983710</td>\n",
       "      <td>G마켓</td>\n",
       "      <td>https://search.shopping.naver.com/gate.nhn?id=...</td>\n",
       "    </tr>\n",
       "    <tr>\n",
       "      <th>98</th>\n",
       "      <td>Apple &lt;b&gt;아이패드&lt;/b&gt; mini  핑크  256GB  Wi-Fi</td>\n",
       "      <td>908100</td>\n",
       "      <td>쿠팡</td>\n",
       "      <td>https://search.shopping.naver.com/gate.nhn?id=...</td>\n",
       "    </tr>\n",
       "    <tr>\n",
       "      <th>99</th>\n",
       "      <td>Apple &lt;b&gt;아이패드&lt;/b&gt; 프로 11 4세대 M2 WIFI 1T 스페이스 그레...</td>\n",
       "      <td>2151090</td>\n",
       "      <td>네이버</td>\n",
       "      <td>https://search.shopping.naver.com/gate.nhn?id=...</td>\n",
       "    </tr>\n",
       "  </tbody>\n",
       "</table>\n",
       "<p>1000 rows × 4 columns</p>\n",
       "</div>"
      ],
      "text/plain": [
       "                                                title   lprice    mall  \\\n",
       "0   Apple <b>아이패드</b> 에어 5세대 M1 WIFI 64G 스페이스 그레이 ...   779900     네이버   \n",
       "1      Apple <b>아이패드</b> 10세대 WIFI 64G 실버 (MPQ03KH/A)   587870     네이버   \n",
       "2   Apple <b>아이패드</b> 프로 11 4세대 M2 WIFI 128G 스페이스 ...  1075330     네이버   \n",
       "3   [당일출고] 애플 <b>아이패드</b> 9세대 Apple <b>iPad</b> 9 ...   309800  브루클린덤보   \n",
       "4   Apple <b>아이패드</b> 9세대 WIFI 64G 스페이스 그레이(MK2K3K...   355000     네이버   \n",
       "..                                                ...      ...     ...   \n",
       "95                <b>아이패드</b> 6세대 32GB Wi-Fi 스페이스 그레이   262280    11번가   \n",
       "96  <b>아이패드</b> <b>아이패드</b> 프로 M2 12.9 6세대 WIFI 1T...  2665390     G마켓   \n",
       "97  <b>아이패드</b> <b>아이패드</b> 프로 M2 12.9 6세대 WIFI 51...  1983710     G마켓   \n",
       "98           Apple <b>아이패드</b> mini  핑크  256GB  Wi-Fi   908100      쿠팡   \n",
       "99  Apple <b>아이패드</b> 프로 11 4세대 M2 WIFI 1T 스페이스 그레...  2151090     네이버   \n",
       "\n",
       "                                                 link  \n",
       "0   https://search.shopping.naver.com/gate.nhn?id=...  \n",
       "1   https://search.shopping.naver.com/gate.nhn?id=...  \n",
       "2   https://search.shopping.naver.com/gate.nhn?id=...  \n",
       "3   https://search.shopping.naver.com/gate.nhn?id=...  \n",
       "4   https://search.shopping.naver.com/gate.nhn?id=...  \n",
       "..                                                ...  \n",
       "95  https://search.shopping.naver.com/gate.nhn?id=...  \n",
       "96  https://search.shopping.naver.com/gate.nhn?id=...  \n",
       "97  https://search.shopping.naver.com/gate.nhn?id=...  \n",
       "98  https://search.shopping.naver.com/gate.nhn?id=...  \n",
       "99  https://search.shopping.naver.com/gate.nhn?id=...  \n",
       "\n",
       "[1000 rows x 4 columns]"
      ]
     },
     "execution_count": 276,
     "metadata": {},
     "output_type": "execute_result"
    }
   ],
   "source": [
    "result_df"
   ]
  },
  {
   "cell_type": "code",
   "execution_count": 272,
   "metadata": {},
   "outputs": [],
   "source": [
    "## 05.데이터 전처리\n"
   ]
  },
  {
   "cell_type": "code",
   "execution_count": 274,
   "metadata": {},
   "outputs": [
    {
     "name": "stdout",
     "output_type": "stream",
     "text": [
      "<class 'pandas.core.frame.DataFrame'>\n",
      "Index: 1000 entries, 0 to 99\n",
      "Data columns (total 4 columns):\n",
      " #   Column  Non-Null Count  Dtype \n",
      "---  ------  --------------  ----- \n",
      " 0   title   1000 non-null   object\n",
      " 1   lprice  1000 non-null   object\n",
      " 2   mall    1000 non-null   object\n",
      " 3   link    1000 non-null   object\n",
      "dtypes: object(4)\n",
      "memory usage: 39.1+ KB\n"
     ]
    }
   ],
   "source": [
    "result_df.info() #1000개가 한계이다."
   ]
  },
  {
   "cell_type": "code",
   "execution_count": 282,
   "metadata": {},
   "outputs": [],
   "source": [
    "result_df.reset_index(drop=True,inplace= True)"
   ]
  },
  {
   "cell_type": "code",
   "execution_count": 284,
   "metadata": {},
   "outputs": [
    {
     "name": "stdout",
     "output_type": "stream",
     "text": [
      "<class 'pandas.core.frame.DataFrame'>\n",
      "RangeIndex: 1000 entries, 0 to 999\n",
      "Data columns (total 4 columns):\n",
      " #   Column  Non-Null Count  Dtype \n",
      "---  ------  --------------  ----- \n",
      " 0   title   1000 non-null   object\n",
      " 1   lprice  1000 non-null   object\n",
      " 2   mall    1000 non-null   object\n",
      " 3   link    1000 non-null   object\n",
      "dtypes: object(4)\n",
      "memory usage: 31.4+ KB\n"
     ]
    }
   ],
   "source": [
    "result_df.info()"
   ]
  },
  {
   "cell_type": "code",
   "execution_count": 286,
   "metadata": {},
   "outputs": [],
   "source": [
    "result_df['lprice'] = result_df['lprice'].astype('float')  "
   ]
  },
  {
   "cell_type": "code",
   "execution_count": 287,
   "metadata": {},
   "outputs": [
    {
     "name": "stdout",
     "output_type": "stream",
     "text": [
      "<class 'pandas.core.frame.DataFrame'>\n",
      "RangeIndex: 1000 entries, 0 to 999\n",
      "Data columns (total 4 columns):\n",
      " #   Column  Non-Null Count  Dtype  \n",
      "---  ------  --------------  -----  \n",
      " 0   title   1000 non-null   object \n",
      " 1   lprice  1000 non-null   float64\n",
      " 2   mall    1000 non-null   object \n",
      " 3   link    1000 non-null   object \n",
      "dtypes: float64(1), object(3)\n",
      "memory usage: 31.4+ KB\n"
     ]
    }
   ],
   "source": [
    "result_df.info()"
   ]
  },
  {
   "cell_type": "markdown",
   "metadata": {},
   "source": [
    "#3 06. 시각화"
   ]
  },
  {
   "cell_type": "code",
   "execution_count": 288,
   "metadata": {},
   "outputs": [],
   "source": [
    "import matplotlib.pylab as plt\n",
    "import seaborn as sns\n",
    "import koreanize_matplotlib\n",
    "\n",
    "%matplotlib inline\n",
    "%config inlinebackend.figure_format ='retina'"
   ]
  },
  {
   "cell_type": "code",
   "execution_count": 290,
   "metadata": {},
   "outputs": [
    {
     "data": {
      "text/html": [
       "<div>\n",
       "<style scoped>\n",
       "    .dataframe tbody tr th:only-of-type {\n",
       "        vertical-align: middle;\n",
       "    }\n",
       "\n",
       "    .dataframe tbody tr th {\n",
       "        vertical-align: top;\n",
       "    }\n",
       "\n",
       "    .dataframe thead th {\n",
       "        text-align: right;\n",
       "    }\n",
       "</style>\n",
       "<table border=\"1\" class=\"dataframe\">\n",
       "  <thead>\n",
       "    <tr style=\"text-align: right;\">\n",
       "      <th></th>\n",
       "      <th>lprice</th>\n",
       "    </tr>\n",
       "  </thead>\n",
       "  <tbody>\n",
       "    <tr>\n",
       "      <th>count</th>\n",
       "      <td>1.000000e+03</td>\n",
       "    </tr>\n",
       "    <tr>\n",
       "      <th>mean</th>\n",
       "      <td>8.381707e+05</td>\n",
       "    </tr>\n",
       "    <tr>\n",
       "      <th>std</th>\n",
       "      <td>6.810462e+05</td>\n",
       "    </tr>\n",
       "    <tr>\n",
       "      <th>min</th>\n",
       "      <td>1.000000e+00</td>\n",
       "    </tr>\n",
       "    <tr>\n",
       "      <th>25%</th>\n",
       "      <td>4.188550e+05</td>\n",
       "    </tr>\n",
       "    <tr>\n",
       "      <th>50%</th>\n",
       "      <td>8.147200e+05</td>\n",
       "    </tr>\n",
       "    <tr>\n",
       "      <th>75%</th>\n",
       "      <td>1.136135e+06</td>\n",
       "    </tr>\n",
       "    <tr>\n",
       "      <th>max</th>\n",
       "      <td>8.918000e+06</td>\n",
       "    </tr>\n",
       "  </tbody>\n",
       "</table>\n",
       "</div>"
      ],
      "text/plain": [
       "             lprice\n",
       "count  1.000000e+03\n",
       "mean   8.381707e+05\n",
       "std    6.810462e+05\n",
       "min    1.000000e+00\n",
       "25%    4.188550e+05\n",
       "50%    8.147200e+05\n",
       "75%    1.136135e+06\n",
       "max    8.918000e+06"
      ]
     },
     "execution_count": 290,
     "metadata": {},
     "output_type": "execute_result"
    }
   ],
   "source": [
    "result_df.describe()  #count e는 10의 3승 "
   ]
  },
  {
   "cell_type": "code",
   "execution_count": 291,
   "metadata": {},
   "outputs": [
    {
     "data": {
      "image/png": "[encoded data removed]",
      "text/plain": [
       "<Figure size 640x480 with 1 Axes>"
      ]
     },
     "metadata": {},
     "output_type": "display_data"
    }
   ],
   "source": [
    "sns.boxplot(data =result_df);"
   ]
  },
  {
   "cell_type": "code",
   "execution_count": 293,
   "metadata": {},
   "outputs": [
    {
     "data": {
      "text/html": [
       "<div>\n",
       "<style scoped>\n",
       "    .dataframe tbody tr th:only-of-type {\n",
       "        vertical-align: middle;\n",
       "    }\n",
       "\n",
       "    .dataframe tbody tr th {\n",
       "        vertical-align: top;\n",
       "    }\n",
       "\n",
       "    .dataframe thead th {\n",
       "        text-align: right;\n",
       "    }\n",
       "</style>\n",
       "<table border=\"1\" class=\"dataframe\">\n",
       "  <thead>\n",
       "    <tr style=\"text-align: right;\">\n",
       "      <th></th>\n",
       "      <th>title</th>\n",
       "      <th>lprice</th>\n",
       "      <th>mall</th>\n",
       "      <th>link</th>\n",
       "    </tr>\n",
       "  </thead>\n",
       "  <tbody>\n",
       "    <tr>\n",
       "      <th>563</th>\n",
       "      <td>&lt;b&gt;아이패드&lt;/b&gt;프로 &lt;b&gt;아이패드&lt;/b&gt; 프로 4세대 11 WIFI 512GB...</td>\n",
       "      <td>8918000.0</td>\n",
       "      <td>옥션</td>\n",
       "      <td>https://search.shopping.naver.com/gate.nhn?id=...</td>\n",
       "    </tr>\n",
       "  </tbody>\n",
       "</table>\n",
       "</div>"
      ],
      "text/plain": [
       "                                                 title     lprice mall  \\\n",
       "563  <b>아이패드</b>프로 <b>아이패드</b> 프로 4세대 11 WIFI 512GB...  8918000.0   옥션   \n",
       "\n",
       "                                                  link  \n",
       "563  https://search.shopping.naver.com/gate.nhn?id=...  "
      ]
     },
     "execution_count": 293,
     "metadata": {},
     "output_type": "execute_result"
    }
   ],
   "source": [
    "result_df.loc[result_df['lprice']>8000000]\n"
   ]
  },
  {
   "cell_type": "code",
   "execution_count": 296,
   "metadata": {},
   "outputs": [
    {
     "name": "stdout",
     "output_type": "stream",
     "text": [
      "                                                 title     lprice mall  \\\n",
      "563  <b>아이패드</b>프로 <b>아이패드</b> 프로 4세대 11 WIFI 512GB...  8918000.0   옥션   \n",
      "\n",
      "                                                  link  \n",
      "563  https://search.shopping.naver.com/gate.nhn?id=...  \n"
     ]
    }
   ],
   "source": [
    "print(result_df.loc[result_df['lprice']>8000000])"
   ]
  },
  {
   "cell_type": "code",
   "execution_count": 298,
   "metadata": {},
   "outputs": [
    {
     "data": {
      "text/html": [
       "<div>\n",
       "<style scoped>\n",
       "    .dataframe tbody tr th:only-of-type {\n",
       "        vertical-align: middle;\n",
       "    }\n",
       "\n",
       "    .dataframe tbody tr th {\n",
       "        vertical-align: top;\n",
       "    }\n",
       "\n",
       "    .dataframe thead th {\n",
       "        text-align: right;\n",
       "    }\n",
       "</style>\n",
       "<table border=\"1\" class=\"dataframe\">\n",
       "  <thead>\n",
       "    <tr style=\"text-align: right;\">\n",
       "      <th></th>\n",
       "      <th>title</th>\n",
       "      <th>lprice</th>\n",
       "      <th>mall</th>\n",
       "      <th>link</th>\n",
       "    </tr>\n",
       "  </thead>\n",
       "  <tbody>\n",
       "    <tr>\n",
       "      <th>184</th>\n",
       "      <td>[애플] 애플 kt &lt;b&gt;아이패드&lt;/b&gt; 에어5 256G 당일개통 &lt;b&gt;iPad&lt;/...</td>\n",
       "      <td>1.0</td>\n",
       "      <td>위메프</td>\n",
       "      <td>https://search.shopping.naver.com/gate.nhn?id=...</td>\n",
       "    </tr>\n",
       "    <tr>\n",
       "      <th>215</th>\n",
       "      <td>[&lt;b&gt;아이패드&lt;/b&gt;프로] Apple &lt;b&gt;아이패드&lt;/b&gt; 프로 6세대 12.9 ...</td>\n",
       "      <td>1.0</td>\n",
       "      <td>위메프</td>\n",
       "      <td>https://search.shopping.naver.com/gate.nhn?id=...</td>\n",
       "    </tr>\n",
       "    <tr>\n",
       "      <th>386</th>\n",
       "      <td>애플 KT 애플 &lt;b&gt;아이패드&lt;/b&gt; 9세대 LTE 태블릿 통신사할부가입</td>\n",
       "      <td>1.0</td>\n",
       "      <td>롯데ON</td>\n",
       "      <td>https://search.shopping.naver.com/gate.nhn?id=...</td>\n",
       "    </tr>\n",
       "  </tbody>\n",
       "</table>\n",
       "</div>"
      ],
      "text/plain": [
       "                                                 title  lprice  mall  \\\n",
       "184  [애플] 애플 kt <b>아이패드</b> 에어5 256G 당일개통 <b>iPad</...     1.0   위메프   \n",
       "215  [<b>아이패드</b>프로] Apple <b>아이패드</b> 프로 6세대 12.9 ...     1.0   위메프   \n",
       "386           애플 KT 애플 <b>아이패드</b> 9세대 LTE 태블릿 통신사할부가입     1.0  롯데ON   \n",
       "\n",
       "                                                  link  \n",
       "184  https://search.shopping.naver.com/gate.nhn?id=...  \n",
       "215  https://search.shopping.naver.com/gate.nhn?id=...  \n",
       "386  https://search.shopping.naver.com/gate.nhn?id=...  "
      ]
     },
     "execution_count": 298,
     "metadata": {},
     "output_type": "execute_result"
    }
   ],
   "source": [
    "result_df.loc[result_df['lprice']<10.0]"
   ]
  },
  {
   "cell_type": "code",
   "execution_count": 299,
   "metadata": {},
   "outputs": [
    {
     "name": "stdout",
     "output_type": "stream",
     "text": [
      "                                                 title  lprice  mall  \\\n",
      "184  [애플] 애플 kt <b>아이패드</b> 에어5 256G 당일개통 <b>iPad</...     1.0   위메프   \n",
      "215  [<b>아이패드</b>프로] Apple <b>아이패드</b> 프로 6세대 12.9 ...     1.0   위메프   \n",
      "386           애플 KT 애플 <b>아이패드</b> 9세대 LTE 태블릿 통신사할부가입     1.0  롯데ON   \n",
      "\n",
      "                                                  link  \n",
      "184  https://search.shopping.naver.com/gate.nhn?id=...  \n",
      "215  https://search.shopping.naver.com/gate.nhn?id=...  \n",
      "386  https://search.shopping.naver.com/gate.nhn?id=...  \n"
     ]
    }
   ],
   "source": [
    "print(result_df.loc[result_df['lprice']<10.0])"
   ]
  },
  {
   "cell_type": "code",
   "execution_count": null,
   "metadata": {},
   "outputs": [],
   "source": []
  }
 ],
 "metadata": {
  "kernelspec": {
   "display_name": "eda_venv",
   "language": "python",
   "name": "python3"
  },
  "language_info": {
   "codemirror_mode": {
    "name": "ipython",
    "version": 3
   },
   "file_extension": ".py",
   "mimetype": "text/x-python",
   "name": "python",
   "nbconvert_exporter": "python",
   "pygments_lexer": "ipython3",
   "version": "3.10.12"
  },
  "orig_nbformat": 4
 },
 "nbformat": 4,
 "nbformat_minor": 2
}
