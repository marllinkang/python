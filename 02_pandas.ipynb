{
 "cells": [
  {
   "cell_type": "markdown",
   "id": "cacaa137-31b6-4520-8026-e1cf6568d2b3",
   "metadata": {},
   "source": [
    "# pandas\n",
    "- pandas 는 데이터 분석과 조작(전처리)을 위한 오픈소스 라이브러리\n",
    "- Series 와 Datsframe 이라는 데이터 타입을 이용\n",
    "- 데이터 필터링, 정렬, 그룹화, 결측처리, 시각화등\n"
   ]
  },
  {
   "cell_type": "markdown",
   "id": "9faec394-e9ce-4a70-b925-46a803834a7b",
   "metadata": {},
   "source": [
    "- Pandas 데이터 타입\n",
    "    - series\n",
    "        - index, value 로 이루어진 데이터 타입\n",
    "    - DataFrame\n",
    "        - indwx, values, colums으로 이루어진 데이터 타입\n",
    "        - Series 데이터가 모이면 DataFrame\n",
    "        - tabular, table"
   ]
  },
  {
   "cell_type": "markdown",
   "id": "010a0979-8a99-42f7-abd8-86ca383c58bd",
   "metadata": {},
   "source": [
    "- 파이썬에서 쓰는 엑셀\n",
    "- 스테로이드 맞은 엑셀"
   ]
  },
  {
   "cell_type": "markdown",
   "id": "30764fd8-a99f-4c23-b109-3c20926843ab",
   "metadata": {},
   "source": [
    "## 01. Series\n",
    "- index, values"
   ]
  },
  {
   "cell_type": "code",
   "execution_count": 10,
   "id": "f8792364-eb6d-4bbb-8247-58bf21705c84",
   "metadata": {},
   "outputs": [],
   "source": [
    "# !pip install pandas"
   ]
  },
  {
   "cell_type": "code",
   "execution_count": 11,
   "id": "eff958d3-1e7e-4497-aa5e-ea1b801a50de",
   "metadata": {},
   "outputs": [],
   "source": [
    "import numpy as np\n",
    "import pandas as pd"
   ]
  },
  {
   "cell_type": "code",
   "execution_count": 12,
   "id": "9fd5c451-f712-45d7-96c8-901a52268658",
   "metadata": {},
   "outputs": [],
   "source": [
    "# 선언\n",
    "series = pd.Series([1, 2, 3, 4])"
   ]
  },
  {
   "cell_type": "code",
   "execution_count": 13,
   "id": "85a645bc-1257-4c26-8118-ada76d0c852a",
   "metadata": {},
   "outputs": [
    {
     "data": {
      "text/plain": [
       "pandas.core.series.Series"
      ]
     },
     "execution_count": 13,
     "metadata": {},
     "output_type": "execute_result"
    }
   ],
   "source": [
    "type(series)"
   ]
  },
  {
   "cell_type": "code",
   "execution_count": 14,
   "id": "4dfbd9db-f727-4c11-917c-f0fb3289cdf3",
   "metadata": {},
   "outputs": [
    {
     "data": {
      "text/plain": [
       "(1,\n",
       " 4,\n",
       " 1    2\n",
       " 2    3\n",
       " dtype: int64,\n",
       " numpy.int64)"
      ]
     },
     "execution_count": 14,
     "metadata": {},
     "output_type": "execute_result"
    }
   ],
   "source": [
    "# 오프셋 인덱스\n",
    "series[0], series[3], series[1:3], type(series[2])"
   ]
  },
  {
   "cell_type": "code",
   "execution_count": 15,
   "id": "d110f9b0-1f49-4513-add2-8d017107205a",
   "metadata": {},
   "outputs": [
    {
     "data": {
      "text/plain": [
       "0    1.0\n",
       "1    2.0\n",
       "2    3.0\n",
       "dtype: float64"
      ]
     },
     "execution_count": 15,
     "metadata": {},
     "output_type": "execute_result"
    }
   ],
   "source": [
    "# 시리즈 내부 데이터 타입\n",
    "pd.Series([1, 2, 3], dtype = np.float64)"
   ]
  },
  {
   "cell_type": "code",
   "execution_count": 16,
   "id": "d81f5675-541f-4d1d-8e5f-6189de2dfa35",
   "metadata": {},
   "outputs": [
    {
     "data": {
      "text/plain": [
       "0    1\n",
       "1    2\n",
       "2    3\n",
       "3    4\n",
       "dtype: object"
      ]
     },
     "execution_count": 16,
     "metadata": {},
     "output_type": "execute_result"
    }
   ],
   "source": [
    "# 한 가지 데이터 타입만 인식\n",
    "# object는 문자열 데이터를 의미\n",
    "li = [1, 2, 3,'4']                # 첫째열 인덱스 둘째열 values\n",
    "pd.Series(li)"
   ]
  },
  {
   "cell_type": "code",
   "execution_count": 17,
   "id": "8eb01f41-5c58-4d3e-9ba7-6179e8ada164",
   "metadata": {},
   "outputs": [
    {
     "data": {
      "text/plain": [
       "(RangeIndex(start=0, stop=4, step=1), array([1, 2, 3, 4]))"
      ]
     },
     "execution_count": 17,
     "metadata": {},
     "output_type": "execute_result"
    }
   ],
   "source": [
    "series.index, series.values"
   ]
  },
  {
   "cell_type": "code",
   "execution_count": 18,
   "id": "e86ecfbf-f951-4033-aa4a-99ee439e959b",
   "metadata": {},
   "outputs": [
    {
     "data": {
      "text/plain": [
       "0    1.0\n",
       "1    2.0\n",
       "2    3.0\n",
       "3    4.0\n",
       "dtype: float64"
      ]
     },
     "execution_count": 18,
     "metadata": {},
     "output_type": "execute_result"
    }
   ],
   "source": [
    "# 형 변환\n",
    "series.astype(np.float64)"
   ]
  },
  {
   "cell_type": "code",
   "execution_count": 19,
   "id": "9418b5f5-e67d-42c7-9c0a-12c335e79fb0",
   "metadata": {},
   "outputs": [
    {
     "data": {
      "text/plain": [
       "0    1\n",
       "1    2\n",
       "2    3\n",
       "3    4\n",
       "dtype: int64"
      ]
     },
     "execution_count": 19,
     "metadata": {},
     "output_type": "execute_result"
    }
   ],
   "source": [
    "series"
   ]
  },
  {
   "cell_type": "code",
   "execution_count": 20,
   "id": "693b4954-87c9-4b2e-8bc8-93e09de06ea3",
   "metadata": {},
   "outputs": [
    {
     "data": {
      "text/plain": [
       "A    6\n",
       "B    3\n",
       "C    9\n",
       "D    6\n",
       "E    2\n",
       "dtype: int64"
      ]
     },
     "execution_count": 20,
     "metadata": {},
     "output_type": "execute_result"
    }
   ],
   "source": [
    "# index 설정\n",
    "pd.Series(np.random.randint(10, size = 5), list('ABCDE'))"
   ]
  },
  {
   "cell_type": "code",
   "execution_count": 21,
   "id": "c36670a9-ed83-4933-838a-6683bd097237",
   "metadata": {},
   "outputs": [
    {
     "data": {
      "text/plain": [
       "0    1\n",
       "1    4\n",
       "2    1\n",
       "3    7\n",
       "4    0\n",
       "dtype: int64"
      ]
     },
     "execution_count": 21,
     "metadata": {},
     "output_type": "execute_result"
    }
   ],
   "source": [
    "pd.Series(np.random.randint(10, size = 5))"
   ]
  },
  {
   "cell_type": "code",
   "execution_count": 22,
   "id": "84d59ea0-0ab2-455e-8115-65e603af9467",
   "metadata": {},
   "outputs": [],
   "source": [
    "# index 설정\n",
    "data = pd.Series(np.random.randint(10, size = 5), list('ABCDE'))"
   ]
  },
  {
   "cell_type": "code",
   "execution_count": 23,
   "id": "bcb458a9-b303-4956-bee3-d478f294c9c7",
   "metadata": {},
   "outputs": [
    {
     "data": {
      "text/plain": [
       "(1,\n",
       " 1,\n",
       " A    1\n",
       " B    3\n",
       " dtype: int64)"
      ]
     },
     "execution_count": 23,
     "metadata": {},
     "output_type": "execute_result"
    }
   ],
   "source": [
    "data['A'], data.A, data[['A','B']]"
   ]
  },
  {
   "cell_type": "code",
   "execution_count": 24,
   "id": "eb446e91-dceb-4cb3-b074-eab7941d3fe5",
   "metadata": {},
   "outputs": [],
   "source": [
    "data[data > 5] = 999"
   ]
  },
  {
   "cell_type": "code",
   "execution_count": 25,
   "id": "378dee40-eb16-4104-a1a2-1b217b91fdba",
   "metadata": {},
   "outputs": [
    {
     "data": {
      "text/plain": [
       "A      100\n",
       "B      300\n",
       "C        0\n",
       "D    99900\n",
       "E    99900\n",
       "dtype: int64"
      ]
     },
     "execution_count": 25,
     "metadata": {},
     "output_type": "execute_result"
    }
   ],
   "source": [
    "# 브로드 캐스팅 연산\n",
    "data*100"
   ]
  },
  {
   "cell_type": "markdown",
   "id": "605caa10-c48d-474e-9510-179b234818f1",
   "metadata": {},
   "source": [
    "## 02. DataFrame\n",
    "- Series()\n",
    "    - index, values\n",
    "- DataFrame()\n",
    "    - index, values, columns"
   ]
  },
  {
   "cell_type": "code",
   "execution_count": 26,
   "id": "d0791f9e-428e-4cfc-8dff-3a380418422d",
   "metadata": {},
   "outputs": [],
   "source": [
    "dates = pd.date_range('20230804', periods = 6)"
   ]
  },
  {
   "cell_type": "code",
   "execution_count": 88,
   "id": "c6ca3449-6535-42af-8a9f-4d8a4be59153",
   "metadata": {},
   "outputs": [],
   "source": [
    "df = pd.DataFrame(data = np.random.randn(6,4), \n",
    "                  index = dates,\n",
    "                  columns = ['A','B','C','D']\n",
    "            )     # 맨위 오른쪽 컬럼"
   ]
  },
  {
   "cell_type": "code",
   "execution_count": 89,
   "id": "11e9c359-fdbb-42da-bfbc-d0474e1e872e",
   "metadata": {},
   "outputs": [
    {
     "data": {
      "text/html": [
       "<div>\n",
       "<style scoped>\n",
       "    .dataframe tbody tr th:only-of-type {\n",
       "        vertical-align: middle;\n",
       "    }\n",
       "\n",
       "    .dataframe tbody tr th {\n",
       "        vertical-align: top;\n",
       "    }\n",
       "\n",
       "    .dataframe thead th {\n",
       "        text-align: right;\n",
       "    }\n",
       "</style>\n",
       "<table border=\"1\" class=\"dataframe\">\n",
       "  <thead>\n",
       "    <tr style=\"text-align: right;\">\n",
       "      <th></th>\n",
       "      <th>A</th>\n",
       "      <th>B</th>\n",
       "      <th>C</th>\n",
       "      <th>D</th>\n",
       "    </tr>\n",
       "  </thead>\n",
       "  <tbody>\n",
       "    <tr>\n",
       "      <th>2023-08-04</th>\n",
       "      <td>-1.752582</td>\n",
       "      <td>-0.534154</td>\n",
       "      <td>0.728209</td>\n",
       "      <td>-2.379809</td>\n",
       "    </tr>\n",
       "    <tr>\n",
       "      <th>2023-08-05</th>\n",
       "      <td>-1.005182</td>\n",
       "      <td>1.190899</td>\n",
       "      <td>-0.913057</td>\n",
       "      <td>-0.672390</td>\n",
       "    </tr>\n",
       "    <tr>\n",
       "      <th>2023-08-06</th>\n",
       "      <td>-1.829692</td>\n",
       "      <td>0.198670</td>\n",
       "      <td>0.131028</td>\n",
       "      <td>-0.411709</td>\n",
       "    </tr>\n",
       "    <tr>\n",
       "      <th>2023-08-07</th>\n",
       "      <td>0.367424</td>\n",
       "      <td>0.392683</td>\n",
       "      <td>-0.277288</td>\n",
       "      <td>0.435405</td>\n",
       "    </tr>\n",
       "    <tr>\n",
       "      <th>2023-08-08</th>\n",
       "      <td>-1.088865</td>\n",
       "      <td>-1.456308</td>\n",
       "      <td>-0.386265</td>\n",
       "      <td>-0.502584</td>\n",
       "    </tr>\n",
       "    <tr>\n",
       "      <th>2023-08-09</th>\n",
       "      <td>1.423846</td>\n",
       "      <td>-0.304003</td>\n",
       "      <td>0.270196</td>\n",
       "      <td>-0.085229</td>\n",
       "    </tr>\n",
       "  </tbody>\n",
       "</table>\n",
       "</div>"
      ],
      "text/plain": [
       "                   A         B         C         D\n",
       "2023-08-04 -1.752582 -0.534154  0.728209 -2.379809\n",
       "2023-08-05 -1.005182  1.190899 -0.913057 -0.672390\n",
       "2023-08-06 -1.829692  0.198670  0.131028 -0.411709\n",
       "2023-08-07  0.367424  0.392683 -0.277288  0.435405\n",
       "2023-08-08 -1.088865 -1.456308 -0.386265 -0.502584\n",
       "2023-08-09  1.423846 -0.304003  0.270196 -0.085229"
      ]
     },
     "execution_count": 89,
     "metadata": {},
     "output_type": "execute_result"
    }
   ],
   "source": [
    "df"
   ]
  },
  {
   "cell_type": "code",
   "execution_count": 90,
   "id": "d2eb5135-9e52-4a33-b3b5-7967b477b26a",
   "metadata": {},
   "outputs": [
    {
     "data": {
      "text/html": [
       "<div>\n",
       "<style scoped>\n",
       "    .dataframe tbody tr th:only-of-type {\n",
       "        vertical-align: middle;\n",
       "    }\n",
       "\n",
       "    .dataframe tbody tr th {\n",
       "        vertical-align: top;\n",
       "    }\n",
       "\n",
       "    .dataframe thead th {\n",
       "        text-align: right;\n",
       "    }\n",
       "</style>\n",
       "<table border=\"1\" class=\"dataframe\">\n",
       "  <thead>\n",
       "    <tr style=\"text-align: right;\">\n",
       "      <th></th>\n",
       "      <th>A</th>\n",
       "      <th>B</th>\n",
       "      <th>C</th>\n",
       "      <th>D</th>\n",
       "    </tr>\n",
       "  </thead>\n",
       "  <tbody>\n",
       "    <tr>\n",
       "      <th>2023-08-04</th>\n",
       "      <td>-1.752582</td>\n",
       "      <td>-0.534154</td>\n",
       "      <td>0.728209</td>\n",
       "      <td>-2.379809</td>\n",
       "    </tr>\n",
       "    <tr>\n",
       "      <th>2023-08-05</th>\n",
       "      <td>-1.005182</td>\n",
       "      <td>1.190899</td>\n",
       "      <td>-0.913057</td>\n",
       "      <td>-0.672390</td>\n",
       "    </tr>\n",
       "    <tr>\n",
       "      <th>2023-08-06</th>\n",
       "      <td>-1.829692</td>\n",
       "      <td>0.198670</td>\n",
       "      <td>0.131028</td>\n",
       "      <td>-0.411709</td>\n",
       "    </tr>\n",
       "    <tr>\n",
       "      <th>2023-08-07</th>\n",
       "      <td>0.367424</td>\n",
       "      <td>0.392683</td>\n",
       "      <td>-0.277288</td>\n",
       "      <td>0.435405</td>\n",
       "    </tr>\n",
       "    <tr>\n",
       "      <th>2023-08-08</th>\n",
       "      <td>-1.088865</td>\n",
       "      <td>-1.456308</td>\n",
       "      <td>-0.386265</td>\n",
       "      <td>-0.502584</td>\n",
       "    </tr>\n",
       "  </tbody>\n",
       "</table>\n",
       "</div>"
      ],
      "text/plain": [
       "                   A         B         C         D\n",
       "2023-08-04 -1.752582 -0.534154  0.728209 -2.379809\n",
       "2023-08-05 -1.005182  1.190899 -0.913057 -0.672390\n",
       "2023-08-06 -1.829692  0.198670  0.131028 -0.411709\n",
       "2023-08-07  0.367424  0.392683 -0.277288  0.435405\n",
       "2023-08-08 -1.088865 -1.456308 -0.386265 -0.502584"
      ]
     },
     "execution_count": 90,
     "metadata": {},
     "output_type": "execute_result"
    }
   ],
   "source": [
    "# 데이터 프레임 상단 정보 확인\n",
    "df.head(5) # 디폴트 값은 5"
   ]
  },
  {
   "cell_type": "code",
   "execution_count": 91,
   "id": "0e823ace-6f79-47c2-980b-491f31b8f5e4",
   "metadata": {},
   "outputs": [
    {
     "data": {
      "text/html": [
       "<div>\n",
       "<style scoped>\n",
       "    .dataframe tbody tr th:only-of-type {\n",
       "        vertical-align: middle;\n",
       "    }\n",
       "\n",
       "    .dataframe tbody tr th {\n",
       "        vertical-align: top;\n",
       "    }\n",
       "\n",
       "    .dataframe thead th {\n",
       "        text-align: right;\n",
       "    }\n",
       "</style>\n",
       "<table border=\"1\" class=\"dataframe\">\n",
       "  <thead>\n",
       "    <tr style=\"text-align: right;\">\n",
       "      <th></th>\n",
       "      <th>A</th>\n",
       "      <th>B</th>\n",
       "      <th>C</th>\n",
       "      <th>D</th>\n",
       "    </tr>\n",
       "  </thead>\n",
       "  <tbody>\n",
       "    <tr>\n",
       "      <th>2023-08-09</th>\n",
       "      <td>1.423846</td>\n",
       "      <td>-0.304003</td>\n",
       "      <td>0.270196</td>\n",
       "      <td>-0.085229</td>\n",
       "    </tr>\n",
       "  </tbody>\n",
       "</table>\n",
       "</div>"
      ],
      "text/plain": [
       "                   A         B         C         D\n",
       "2023-08-09  1.423846 -0.304003  0.270196 -0.085229"
      ]
     },
     "execution_count": 91,
     "metadata": {},
     "output_type": "execute_result"
    }
   ],
   "source": [
    "# 데이터 프레임 하단 정보 확인\n",
    "df.tail(1)"
   ]
  },
  {
   "cell_type": "code",
   "execution_count": 92,
   "id": "bb5755c9-fa33-4edc-8363-f480e3520622",
   "metadata": {},
   "outputs": [
    {
     "name": "stdout",
     "output_type": "stream",
     "text": [
      "<class 'pandas.core.frame.DataFrame'>\n",
      "DatetimeIndex: 6 entries, 2023-08-04 to 2023-08-09\n",
      "Freq: D\n",
      "Data columns (total 4 columns):\n",
      " #   Column  Non-Null Count  Dtype  \n",
      "---  ------  --------------  -----  \n",
      " 0   A       6 non-null      float64\n",
      " 1   B       6 non-null      float64\n",
      " 2   C       6 non-null      float64\n",
      " 3   D       6 non-null      float64\n",
      "dtypes: float64(4)\n",
      "memory usage: 412.0 bytes\n"
     ]
    }
   ],
   "source": [
    "# 데이터 프레임 기본 정보 요약\n",
    "df. info()"
   ]
  },
  {
   "cell_type": "code",
   "execution_count": 93,
   "id": "c68cb76a-267b-47b3-85ac-d80b534f2d14",
   "metadata": {},
   "outputs": [
    {
     "data": {
      "text/html": [
       "<div>\n",
       "<style scoped>\n",
       "    .dataframe tbody tr th:only-of-type {\n",
       "        vertical-align: middle;\n",
       "    }\n",
       "\n",
       "    .dataframe tbody tr th {\n",
       "        vertical-align: top;\n",
       "    }\n",
       "\n",
       "    .dataframe thead th {\n",
       "        text-align: right;\n",
       "    }\n",
       "</style>\n",
       "<table border=\"1\" class=\"dataframe\">\n",
       "  <thead>\n",
       "    <tr style=\"text-align: right;\">\n",
       "      <th></th>\n",
       "      <th>A</th>\n",
       "      <th>B</th>\n",
       "      <th>C</th>\n",
       "      <th>D</th>\n",
       "    </tr>\n",
       "  </thead>\n",
       "  <tbody>\n",
       "    <tr>\n",
       "      <th>count</th>\n",
       "      <td>6.000000</td>\n",
       "      <td>6.000000</td>\n",
       "      <td>6.000000</td>\n",
       "      <td>6.000000</td>\n",
       "    </tr>\n",
       "    <tr>\n",
       "      <th>mean</th>\n",
       "      <td>-0.647509</td>\n",
       "      <td>-0.085369</td>\n",
       "      <td>-0.074530</td>\n",
       "      <td>-0.602719</td>\n",
       "    </tr>\n",
       "    <tr>\n",
       "      <th>std</th>\n",
       "      <td>1.285462</td>\n",
       "      <td>0.901860</td>\n",
       "      <td>0.573916</td>\n",
       "      <td>0.954454</td>\n",
       "    </tr>\n",
       "    <tr>\n",
       "      <th>min</th>\n",
       "      <td>-1.829692</td>\n",
       "      <td>-1.456308</td>\n",
       "      <td>-0.913057</td>\n",
       "      <td>-2.379809</td>\n",
       "    </tr>\n",
       "    <tr>\n",
       "      <th>25%</th>\n",
       "      <td>-1.586653</td>\n",
       "      <td>-0.476616</td>\n",
       "      <td>-0.359021</td>\n",
       "      <td>-0.629939</td>\n",
       "    </tr>\n",
       "    <tr>\n",
       "      <th>50%</th>\n",
       "      <td>-1.047023</td>\n",
       "      <td>-0.052666</td>\n",
       "      <td>-0.073130</td>\n",
       "      <td>-0.457147</td>\n",
       "    </tr>\n",
       "    <tr>\n",
       "      <th>75%</th>\n",
       "      <td>0.024273</td>\n",
       "      <td>0.344179</td>\n",
       "      <td>0.235404</td>\n",
       "      <td>-0.166849</td>\n",
       "    </tr>\n",
       "    <tr>\n",
       "      <th>max</th>\n",
       "      <td>1.423846</td>\n",
       "      <td>1.190899</td>\n",
       "      <td>0.728209</td>\n",
       "      <td>0.435405</td>\n",
       "    </tr>\n",
       "  </tbody>\n",
       "</table>\n",
       "</div>"
      ],
      "text/plain": [
       "              A         B         C         D\n",
       "count  6.000000  6.000000  6.000000  6.000000\n",
       "mean  -0.647509 -0.085369 -0.074530 -0.602719\n",
       "std    1.285462  0.901860  0.573916  0.954454\n",
       "min   -1.829692 -1.456308 -0.913057 -2.379809\n",
       "25%   -1.586653 -0.476616 -0.359021 -0.629939\n",
       "50%   -1.047023 -0.052666 -0.073130 -0.457147\n",
       "75%    0.024273  0.344179  0.235404 -0.166849\n",
       "max    1.423846  1.190899  0.728209  0.435405"
      ]
     },
     "execution_count": 93,
     "metadata": {},
     "output_type": "execute_result"
    }
   ],
   "source": [
    "# 데이터 프레임 기술 통계 정보 요약\n",
    "df.describe()"
   ]
  },
  {
   "cell_type": "code",
   "execution_count": 94,
   "id": "4dd0b120-9fbf-4a1d-94fd-5851e4fd458e",
   "metadata": {},
   "outputs": [
    {
     "data": {
      "text/plain": [
       "(DatetimeIndex(['2023-08-04', '2023-08-05', '2023-08-06', '2023-08-07',\n",
       "                '2023-08-08', '2023-08-09'],\n",
       "               dtype='datetime64[ns]', freq='D'),\n",
       " Index(['A', 'B', 'C', 'D'], dtype='object'),\n",
       " array([[-1.75258234, -0.53415391,  0.72820882, -2.37980884],\n",
       "        [-1.00518205,  1.19089947, -0.91305725, -0.67239001],\n",
       "        [-1.82969224,  0.19866996,  0.13102843, -0.41170948],\n",
       "        [ 0.36742438,  0.3926825 , -0.2772881 ,  0.43540462],\n",
       "        [-1.0888649 , -1.45630847, -0.38626489, -0.50258408],\n",
       "        [ 1.42384553, -0.30400251,  0.2701956 , -0.08522918]]))"
      ]
     },
     "execution_count": 94,
     "metadata": {},
     "output_type": "execute_result"
    }
   ],
   "source": [
    "# 데이터 프레임 구성 3요소\n",
    "df.index, df.columns, df.values"
   ]
  },
  {
   "cell_type": "code",
   "execution_count": 95,
   "id": "9665def1-6157-435c-b7af-d109c558783a",
   "metadata": {},
   "outputs": [
    {
     "data": {
      "text/plain": [
       "2023-08-04   -1.752582\n",
       "2023-08-05   -1.005182\n",
       "2023-08-06   -1.829692\n",
       "2023-08-07    0.367424\n",
       "2023-08-08   -1.088865\n",
       "2023-08-09    1.423846\n",
       "Freq: D, Name: A, dtype: float64"
      ]
     },
     "execution_count": 95,
     "metadata": {},
     "output_type": "execute_result"
    }
   ],
   "source": [
    "df.A #데이터 타입 시리즈   시리즈가 모여있는게 데이터 프레임"
   ]
  },
  {
   "cell_type": "code",
   "execution_count": 96,
   "id": "298778aa-c3f5-487e-9ee3-40eb115db396",
   "metadata": {},
   "outputs": [
    {
     "data": {
      "text/html": [
       "<div>\n",
       "<style scoped>\n",
       "    .dataframe tbody tr th:only-of-type {\n",
       "        vertical-align: middle;\n",
       "    }\n",
       "\n",
       "    .dataframe tbody tr th {\n",
       "        vertical-align: top;\n",
       "    }\n",
       "\n",
       "    .dataframe thead th {\n",
       "        text-align: right;\n",
       "    }\n",
       "</style>\n",
       "<table border=\"1\" class=\"dataframe\">\n",
       "  <thead>\n",
       "    <tr style=\"text-align: right;\">\n",
       "      <th></th>\n",
       "      <th>B</th>\n",
       "      <th>D</th>\n",
       "    </tr>\n",
       "  </thead>\n",
       "  <tbody>\n",
       "    <tr>\n",
       "      <th>2023-08-04</th>\n",
       "      <td>-0.534154</td>\n",
       "      <td>-2.379809</td>\n",
       "    </tr>\n",
       "    <tr>\n",
       "      <th>2023-08-05</th>\n",
       "      <td>1.190899</td>\n",
       "      <td>-0.672390</td>\n",
       "    </tr>\n",
       "    <tr>\n",
       "      <th>2023-08-06</th>\n",
       "      <td>0.198670</td>\n",
       "      <td>-0.411709</td>\n",
       "    </tr>\n",
       "    <tr>\n",
       "      <th>2023-08-07</th>\n",
       "      <td>0.392683</td>\n",
       "      <td>0.435405</td>\n",
       "    </tr>\n",
       "    <tr>\n",
       "      <th>2023-08-08</th>\n",
       "      <td>-1.456308</td>\n",
       "      <td>-0.502584</td>\n",
       "    </tr>\n",
       "    <tr>\n",
       "      <th>2023-08-09</th>\n",
       "      <td>-0.304003</td>\n",
       "      <td>-0.085229</td>\n",
       "    </tr>\n",
       "  </tbody>\n",
       "</table>\n",
       "</div>"
      ],
      "text/plain": [
       "                   B         D\n",
       "2023-08-04 -0.534154 -2.379809\n",
       "2023-08-05  1.190899 -0.672390\n",
       "2023-08-06  0.198670 -0.411709\n",
       "2023-08-07  0.392683  0.435405\n",
       "2023-08-08 -1.456308 -0.502584\n",
       "2023-08-09 -0.304003 -0.085229"
      ]
     },
     "execution_count": 96,
     "metadata": {},
     "output_type": "execute_result"
    }
   ],
   "source": [
    "df[['B', 'D']]"
   ]
  },
  {
   "cell_type": "code",
   "execution_count": 97,
   "id": "0074677e-abc3-4036-b7a5-55834f9fa248",
   "metadata": {},
   "outputs": [
    {
     "data": {
      "text/html": [
       "<div>\n",
       "<style scoped>\n",
       "    .dataframe tbody tr th:only-of-type {\n",
       "        vertical-align: middle;\n",
       "    }\n",
       "\n",
       "    .dataframe tbody tr th {\n",
       "        vertical-align: top;\n",
       "    }\n",
       "\n",
       "    .dataframe thead th {\n",
       "        text-align: right;\n",
       "    }\n",
       "</style>\n",
       "<table border=\"1\" class=\"dataframe\">\n",
       "  <thead>\n",
       "    <tr style=\"text-align: right;\">\n",
       "      <th></th>\n",
       "      <th>A</th>\n",
       "      <th>B</th>\n",
       "      <th>C</th>\n",
       "      <th>D</th>\n",
       "    </tr>\n",
       "  </thead>\n",
       "  <tbody>\n",
       "    <tr>\n",
       "      <th>2023-08-04</th>\n",
       "      <td>-1.752582</td>\n",
       "      <td>-0.534154</td>\n",
       "      <td>0.728209</td>\n",
       "      <td>-2.379809</td>\n",
       "    </tr>\n",
       "    <tr>\n",
       "      <th>2023-08-05</th>\n",
       "      <td>-1.005182</td>\n",
       "      <td>1.190899</td>\n",
       "      <td>-0.913057</td>\n",
       "      <td>-0.672390</td>\n",
       "    </tr>\n",
       "  </tbody>\n",
       "</table>\n",
       "</div>"
      ],
      "text/plain": [
       "                   A         B         C         D\n",
       "2023-08-04 -1.752582 -0.534154  0.728209 -2.379809\n",
       "2023-08-05 -1.005182  1.190899 -0.913057 -0.672390"
      ]
     },
     "execution_count": 97,
     "metadata": {},
     "output_type": "execute_result"
    }
   ],
   "source": [
    "# 오프셋 인덱스\n",
    "# [n:m]\n",
    "# n부터 m-1\n",
    "\n",
    "df[0:2]"
   ]
  },
  {
   "cell_type": "code",
   "execution_count": 98,
   "id": "4b748605-9d82-40a6-ab6e-883e04870018",
   "metadata": {},
   "outputs": [
    {
     "data": {
      "text/html": [
       "<div>\n",
       "<style scoped>\n",
       "    .dataframe tbody tr th:only-of-type {\n",
       "        vertical-align: middle;\n",
       "    }\n",
       "\n",
       "    .dataframe tbody tr th {\n",
       "        vertical-align: top;\n",
       "    }\n",
       "\n",
       "    .dataframe thead th {\n",
       "        text-align: right;\n",
       "    }\n",
       "</style>\n",
       "<table border=\"1\" class=\"dataframe\">\n",
       "  <thead>\n",
       "    <tr style=\"text-align: right;\">\n",
       "      <th></th>\n",
       "      <th>A</th>\n",
       "      <th>B</th>\n",
       "      <th>C</th>\n",
       "      <th>D</th>\n",
       "    </tr>\n",
       "  </thead>\n",
       "  <tbody>\n",
       "    <tr>\n",
       "      <th>2023-08-04</th>\n",
       "      <td>-1.752582</td>\n",
       "      <td>-0.534154</td>\n",
       "      <td>0.728209</td>\n",
       "      <td>-2.379809</td>\n",
       "    </tr>\n",
       "    <tr>\n",
       "      <th>2023-08-05</th>\n",
       "      <td>-1.005182</td>\n",
       "      <td>1.190899</td>\n",
       "      <td>-0.913057</td>\n",
       "      <td>-0.672390</td>\n",
       "    </tr>\n",
       "    <tr>\n",
       "      <th>2023-08-06</th>\n",
       "      <td>-1.829692</td>\n",
       "      <td>0.198670</td>\n",
       "      <td>0.131028</td>\n",
       "      <td>-0.411709</td>\n",
       "    </tr>\n",
       "  </tbody>\n",
       "</table>\n",
       "</div>"
      ],
      "text/plain": [
       "                   A         B         C         D\n",
       "2023-08-04 -1.752582 -0.534154  0.728209 -2.379809\n",
       "2023-08-05 -1.005182  1.190899 -0.913057 -0.672390\n",
       "2023-08-06 -1.829692  0.198670  0.131028 -0.411709"
      ]
     },
     "execution_count": 98,
     "metadata": {},
     "output_type": "execute_result"
    }
   ],
   "source": [
    "df['2023-08-04':'2023-08-06']"
   ]
  },
  {
   "cell_type": "code",
   "execution_count": 99,
   "id": "4ce0615a-6b98-4fce-a0cf-62ef358943ee",
   "metadata": {},
   "outputs": [
    {
     "data": {
      "text/html": [
       "<div>\n",
       "<style scoped>\n",
       "    .dataframe tbody tr th:only-of-type {\n",
       "        vertical-align: middle;\n",
       "    }\n",
       "\n",
       "    .dataframe tbody tr th {\n",
       "        vertical-align: top;\n",
       "    }\n",
       "\n",
       "    .dataframe thead th {\n",
       "        text-align: right;\n",
       "    }\n",
       "</style>\n",
       "<table border=\"1\" class=\"dataframe\">\n",
       "  <thead>\n",
       "    <tr style=\"text-align: right;\">\n",
       "      <th></th>\n",
       "      <th>A</th>\n",
       "      <th>B</th>\n",
       "      <th>C</th>\n",
       "    </tr>\n",
       "  </thead>\n",
       "  <tbody>\n",
       "    <tr>\n",
       "      <th>2023-08-04</th>\n",
       "      <td>-1.752582</td>\n",
       "      <td>-0.534154</td>\n",
       "      <td>0.728209</td>\n",
       "    </tr>\n",
       "    <tr>\n",
       "      <th>2023-08-05</th>\n",
       "      <td>-1.005182</td>\n",
       "      <td>1.190899</td>\n",
       "      <td>-0.913057</td>\n",
       "    </tr>\n",
       "    <tr>\n",
       "      <th>2023-08-06</th>\n",
       "      <td>-1.829692</td>\n",
       "      <td>0.198670</td>\n",
       "      <td>0.131028</td>\n",
       "    </tr>\n",
       "  </tbody>\n",
       "</table>\n",
       "</div>"
      ],
      "text/plain": [
       "                   A         B         C\n",
       "2023-08-04 -1.752582 -0.534154  0.728209\n",
       "2023-08-05 -1.005182  1.190899 -0.913057\n",
       "2023-08-06 -1.829692  0.198670  0.131028"
      ]
     },
     "execution_count": 99,
     "metadata": {},
     "output_type": "execute_result"
    }
   ],
   "source": [
    "# location\n",
    "# loc\n",
    "\n",
    "df.loc['2023-08-04':'2023-08-06', 'A':'C']"
   ]
  },
  {
   "cell_type": "code",
   "execution_count": 100,
   "id": "3d1ed53e-ef3e-4ec9-926e-0ca7950fbfc8",
   "metadata": {},
   "outputs": [
    {
     "data": {
      "text/html": [
       "<div>\n",
       "<style scoped>\n",
       "    .dataframe tbody tr th:only-of-type {\n",
       "        vertical-align: middle;\n",
       "    }\n",
       "\n",
       "    .dataframe tbody tr th {\n",
       "        vertical-align: top;\n",
       "    }\n",
       "\n",
       "    .dataframe thead th {\n",
       "        text-align: right;\n",
       "    }\n",
       "</style>\n",
       "<table border=\"1\" class=\"dataframe\">\n",
       "  <thead>\n",
       "    <tr style=\"text-align: right;\">\n",
       "      <th></th>\n",
       "      <th>A</th>\n",
       "      <th>B</th>\n",
       "      <th>C</th>\n",
       "      <th>D</th>\n",
       "    </tr>\n",
       "  </thead>\n",
       "  <tbody>\n",
       "    <tr>\n",
       "      <th>2023-08-04</th>\n",
       "      <td>-1.752582</td>\n",
       "      <td>-0.534154</td>\n",
       "      <td>0.728209</td>\n",
       "      <td>-2.379809</td>\n",
       "    </tr>\n",
       "    <tr>\n",
       "      <th>2023-08-05</th>\n",
       "      <td>-1.005182</td>\n",
       "      <td>1.190899</td>\n",
       "      <td>-0.913057</td>\n",
       "      <td>-0.672390</td>\n",
       "    </tr>\n",
       "  </tbody>\n",
       "</table>\n",
       "</div>"
      ],
      "text/plain": [
       "                   A         B         C         D\n",
       "2023-08-04 -1.752582 -0.534154  0.728209 -2.379809\n",
       "2023-08-05 -1.005182  1.190899 -0.913057 -0.672390"
      ]
     },
     "execution_count": 100,
     "metadata": {},
     "output_type": "execute_result"
    }
   ],
   "source": [
    "# int location\n",
    "# iloc\n",
    "df.iloc[0:2]"
   ]
  },
  {
   "cell_type": "code",
   "execution_count": 101,
   "id": "5f854c8d-2015-4efb-98a1-ef19e2ebe62c",
   "metadata": {},
   "outputs": [
    {
     "data": {
      "text/html": [
       "<div>\n",
       "<style scoped>\n",
       "    .dataframe tbody tr th:only-of-type {\n",
       "        vertical-align: middle;\n",
       "    }\n",
       "\n",
       "    .dataframe tbody tr th {\n",
       "        vertical-align: top;\n",
       "    }\n",
       "\n",
       "    .dataframe thead th {\n",
       "        text-align: right;\n",
       "    }\n",
       "</style>\n",
       "<table border=\"1\" class=\"dataframe\">\n",
       "  <thead>\n",
       "    <tr style=\"text-align: right;\">\n",
       "      <th></th>\n",
       "      <th>A</th>\n",
       "      <th>B</th>\n",
       "      <th>C</th>\n",
       "      <th>D</th>\n",
       "    </tr>\n",
       "  </thead>\n",
       "  <tbody>\n",
       "    <tr>\n",
       "      <th>2023-08-04</th>\n",
       "      <td>-1.752582</td>\n",
       "      <td>-0.534154</td>\n",
       "      <td>0.728209</td>\n",
       "      <td>-2.379809</td>\n",
       "    </tr>\n",
       "    <tr>\n",
       "      <th>2023-08-05</th>\n",
       "      <td>-1.005182</td>\n",
       "      <td>1.190899</td>\n",
       "      <td>-0.913057</td>\n",
       "      <td>-0.672390</td>\n",
       "    </tr>\n",
       "    <tr>\n",
       "      <th>2023-08-06</th>\n",
       "      <td>-1.829692</td>\n",
       "      <td>0.198670</td>\n",
       "      <td>0.131028</td>\n",
       "      <td>-0.411709</td>\n",
       "    </tr>\n",
       "    <tr>\n",
       "      <th>2023-08-07</th>\n",
       "      <td>0.367424</td>\n",
       "      <td>0.392683</td>\n",
       "      <td>-0.277288</td>\n",
       "      <td>0.435405</td>\n",
       "    </tr>\n",
       "    <tr>\n",
       "      <th>2023-08-08</th>\n",
       "      <td>-1.088865</td>\n",
       "      <td>-1.456308</td>\n",
       "      <td>-0.386265</td>\n",
       "      <td>-0.502584</td>\n",
       "    </tr>\n",
       "    <tr>\n",
       "      <th>2023-08-09</th>\n",
       "      <td>1.423846</td>\n",
       "      <td>-0.304003</td>\n",
       "      <td>0.270196</td>\n",
       "      <td>-0.085229</td>\n",
       "    </tr>\n",
       "  </tbody>\n",
       "</table>\n",
       "</div>"
      ],
      "text/plain": [
       "                   A         B         C         D\n",
       "2023-08-04 -1.752582 -0.534154  0.728209 -2.379809\n",
       "2023-08-05 -1.005182  1.190899 -0.913057 -0.672390\n",
       "2023-08-06 -1.829692  0.198670  0.131028 -0.411709\n",
       "2023-08-07  0.367424  0.392683 -0.277288  0.435405\n",
       "2023-08-08 -1.088865 -1.456308 -0.386265 -0.502584\n",
       "2023-08-09  1.423846 -0.304003  0.270196 -0.085229"
      ]
     },
     "execution_count": 101,
     "metadata": {},
     "output_type": "execute_result"
    }
   ],
   "source": [
    "df"
   ]
  },
  {
   "cell_type": "code",
   "execution_count": 102,
   "id": "5ccf0b81-687a-42df-8eeb-721a2174ea58",
   "metadata": {},
   "outputs": [
    {
     "data": {
      "text/html": [
       "<div>\n",
       "<style scoped>\n",
       "    .dataframe tbody tr th:only-of-type {\n",
       "        vertical-align: middle;\n",
       "    }\n",
       "\n",
       "    .dataframe tbody tr th {\n",
       "        vertical-align: top;\n",
       "    }\n",
       "\n",
       "    .dataframe thead th {\n",
       "        text-align: right;\n",
       "    }\n",
       "</style>\n",
       "<table border=\"1\" class=\"dataframe\">\n",
       "  <thead>\n",
       "    <tr style=\"text-align: right;\">\n",
       "      <th></th>\n",
       "      <th>A</th>\n",
       "      <th>B</th>\n",
       "      <th>C</th>\n",
       "      <th>D</th>\n",
       "    </tr>\n",
       "  </thead>\n",
       "  <tbody>\n",
       "    <tr>\n",
       "      <th>2023-08-09</th>\n",
       "      <td>1.423846</td>\n",
       "      <td>-0.304003</td>\n",
       "      <td>0.270196</td>\n",
       "      <td>-0.085229</td>\n",
       "    </tr>\n",
       "    <tr>\n",
       "      <th>2023-08-07</th>\n",
       "      <td>0.367424</td>\n",
       "      <td>0.392683</td>\n",
       "      <td>-0.277288</td>\n",
       "      <td>0.435405</td>\n",
       "    </tr>\n",
       "    <tr>\n",
       "      <th>2023-08-05</th>\n",
       "      <td>-1.005182</td>\n",
       "      <td>1.190899</td>\n",
       "      <td>-0.913057</td>\n",
       "      <td>-0.672390</td>\n",
       "    </tr>\n",
       "    <tr>\n",
       "      <th>2023-08-08</th>\n",
       "      <td>-1.088865</td>\n",
       "      <td>-1.456308</td>\n",
       "      <td>-0.386265</td>\n",
       "      <td>-0.502584</td>\n",
       "    </tr>\n",
       "    <tr>\n",
       "      <th>2023-08-04</th>\n",
       "      <td>-1.752582</td>\n",
       "      <td>-0.534154</td>\n",
       "      <td>0.728209</td>\n",
       "      <td>-2.379809</td>\n",
       "    </tr>\n",
       "    <tr>\n",
       "      <th>2023-08-06</th>\n",
       "      <td>-1.829692</td>\n",
       "      <td>0.198670</td>\n",
       "      <td>0.131028</td>\n",
       "      <td>-0.411709</td>\n",
       "    </tr>\n",
       "  </tbody>\n",
       "</table>\n",
       "</div>"
      ],
      "text/plain": [
       "                   A         B         C         D\n",
       "2023-08-09  1.423846 -0.304003  0.270196 -0.085229\n",
       "2023-08-07  0.367424  0.392683 -0.277288  0.435405\n",
       "2023-08-05 -1.005182  1.190899 -0.913057 -0.672390\n",
       "2023-08-08 -1.088865 -1.456308 -0.386265 -0.502584\n",
       "2023-08-04 -1.752582 -0.534154  0.728209 -2.379809\n",
       "2023-08-06 -1.829692  0.198670  0.131028 -0.411709"
      ]
     },
     "execution_count": 102,
     "metadata": {},
     "output_type": "execute_result"
    }
   ],
   "source": [
    "# 데이터 정렬\n",
    "# sort_values()\n",
    "\n",
    "df.sort_values(by = 'A', ascending = False) # True 오름차순, False 내림차순"
   ]
  },
  {
   "cell_type": "code",
   "execution_count": 103,
   "id": "765810ad-44b5-4e51-b47d-a3512ead6e63",
   "metadata": {},
   "outputs": [
    {
     "data": {
      "text/html": [
       "<div>\n",
       "<style scoped>\n",
       "    .dataframe tbody tr th:only-of-type {\n",
       "        vertical-align: middle;\n",
       "    }\n",
       "\n",
       "    .dataframe tbody tr th {\n",
       "        vertical-align: top;\n",
       "    }\n",
       "\n",
       "    .dataframe thead th {\n",
       "        text-align: right;\n",
       "    }\n",
       "</style>\n",
       "<table border=\"1\" class=\"dataframe\">\n",
       "  <thead>\n",
       "    <tr style=\"text-align: right;\">\n",
       "      <th></th>\n",
       "      <th>A</th>\n",
       "      <th>B</th>\n",
       "      <th>C</th>\n",
       "      <th>D</th>\n",
       "    </tr>\n",
       "  </thead>\n",
       "  <tbody>\n",
       "    <tr>\n",
       "      <th>2023-08-09</th>\n",
       "      <td>1.423846</td>\n",
       "      <td>-0.304003</td>\n",
       "      <td>0.270196</td>\n",
       "      <td>-0.085229</td>\n",
       "    </tr>\n",
       "    <tr>\n",
       "      <th>2023-08-07</th>\n",
       "      <td>0.367424</td>\n",
       "      <td>0.392683</td>\n",
       "      <td>-0.277288</td>\n",
       "      <td>0.435405</td>\n",
       "    </tr>\n",
       "    <tr>\n",
       "      <th>2023-08-05</th>\n",
       "      <td>-1.005182</td>\n",
       "      <td>1.190899</td>\n",
       "      <td>-0.913057</td>\n",
       "      <td>-0.672390</td>\n",
       "    </tr>\n",
       "    <tr>\n",
       "      <th>2023-08-08</th>\n",
       "      <td>-1.088865</td>\n",
       "      <td>-1.456308</td>\n",
       "      <td>-0.386265</td>\n",
       "      <td>-0.502584</td>\n",
       "    </tr>\n",
       "    <tr>\n",
       "      <th>2023-08-04</th>\n",
       "      <td>-1.752582</td>\n",
       "      <td>-0.534154</td>\n",
       "      <td>0.728209</td>\n",
       "      <td>-2.379809</td>\n",
       "    </tr>\n",
       "    <tr>\n",
       "      <th>2023-08-06</th>\n",
       "      <td>-1.829692</td>\n",
       "      <td>0.198670</td>\n",
       "      <td>0.131028</td>\n",
       "      <td>-0.411709</td>\n",
       "    </tr>\n",
       "  </tbody>\n",
       "</table>\n",
       "</div>"
      ],
      "text/plain": [
       "                   A         B         C         D\n",
       "2023-08-09  1.423846 -0.304003  0.270196 -0.085229\n",
       "2023-08-07  0.367424  0.392683 -0.277288  0.435405\n",
       "2023-08-05 -1.005182  1.190899 -0.913057 -0.672390\n",
       "2023-08-08 -1.088865 -1.456308 -0.386265 -0.502584\n",
       "2023-08-04 -1.752582 -0.534154  0.728209 -2.379809\n",
       "2023-08-06 -1.829692  0.198670  0.131028 -0.411709"
      ]
     },
     "execution_count": 103,
     "metadata": {},
     "output_type": "execute_result"
    }
   ],
   "source": [
    "df.sort_values(by = ['A','B'], ascending = False)"
   ]
  },
  {
   "cell_type": "code",
   "execution_count": 104,
   "id": "3a926fd0-56ad-48fc-a96a-ec4585a5c2ef",
   "metadata": {},
   "outputs": [],
   "source": [
    "# 데이터를 딕셔너리의 리스트로 생성\n",
    "data = {\n",
    "    'A': [1, 2, 3, 4, 5],\n",
    "    'B': [3, 2, 3, 1, 2],\n",
    "    'C': [5, 4, 3 ,2, 1]\n",
    "}"
   ]
  },
  {
   "cell_type": "code",
   "execution_count": 105,
   "id": "deb66e28-08a9-4af4-9cf7-e801a39fa3a5",
   "metadata": {},
   "outputs": [],
   "source": [
    "sort_study_df = pd.DataFrame(data)"
   ]
  },
  {
   "cell_type": "code",
   "execution_count": 106,
   "id": "5d9bf7ec-21d6-41da-a43e-67006983fcd9",
   "metadata": {},
   "outputs": [],
   "source": [
    "# 데이터를 리스트의 딕셔너리로 생성\n",
    "data = [\n",
    "    {'A':1, 'B':3, 'C':5},\n",
    "    {'A':1, 'B':3, 'C':5},\n",
    "    {'A':1, 'B':3, 'C':5},\n",
    "    {'A':1, 'B':3, 'C':5},\n",
    "    {'A':1, 'B':3, 'C':5},\n",
    "    {'A':1, 'B':3, 'C':5}\n",
    "]\n",
    "\n",
    "sort_study_df = pd.DataFrame(data)\n",
    "    "
   ]
  },
  {
   "cell_type": "code",
   "execution_count": 107,
   "id": "d3b8036a-57c3-4997-b758-10a4a6004e66",
   "metadata": {
    "scrolled": true
   },
   "outputs": [
    {
     "data": {
      "text/html": [
       "<div>\n",
       "<style scoped>\n",
       "    .dataframe tbody tr th:only-of-type {\n",
       "        vertical-align: middle;\n",
       "    }\n",
       "\n",
       "    .dataframe tbody tr th {\n",
       "        vertical-align: top;\n",
       "    }\n",
       "\n",
       "    .dataframe thead th {\n",
       "        text-align: right;\n",
       "    }\n",
       "</style>\n",
       "<table border=\"1\" class=\"dataframe\">\n",
       "  <thead>\n",
       "    <tr style=\"text-align: right;\">\n",
       "      <th></th>\n",
       "      <th>A</th>\n",
       "      <th>B</th>\n",
       "      <th>C</th>\n",
       "    </tr>\n",
       "  </thead>\n",
       "  <tbody>\n",
       "    <tr>\n",
       "      <th>0</th>\n",
       "      <td>1</td>\n",
       "      <td>3</td>\n",
       "      <td>5</td>\n",
       "    </tr>\n",
       "    <tr>\n",
       "      <th>1</th>\n",
       "      <td>1</td>\n",
       "      <td>3</td>\n",
       "      <td>5</td>\n",
       "    </tr>\n",
       "    <tr>\n",
       "      <th>2</th>\n",
       "      <td>1</td>\n",
       "      <td>3</td>\n",
       "      <td>5</td>\n",
       "    </tr>\n",
       "    <tr>\n",
       "      <th>3</th>\n",
       "      <td>1</td>\n",
       "      <td>3</td>\n",
       "      <td>5</td>\n",
       "    </tr>\n",
       "    <tr>\n",
       "      <th>4</th>\n",
       "      <td>1</td>\n",
       "      <td>3</td>\n",
       "      <td>5</td>\n",
       "    </tr>\n",
       "    <tr>\n",
       "      <th>5</th>\n",
       "      <td>1</td>\n",
       "      <td>3</td>\n",
       "      <td>5</td>\n",
       "    </tr>\n",
       "  </tbody>\n",
       "</table>\n",
       "</div>"
      ],
      "text/plain": [
       "   A  B  C\n",
       "0  1  3  5\n",
       "1  1  3  5\n",
       "2  1  3  5\n",
       "3  1  3  5\n",
       "4  1  3  5\n",
       "5  1  3  5"
      ]
     },
     "execution_count": 107,
     "metadata": {},
     "output_type": "execute_result"
    }
   ],
   "source": [
    "sort_study_df.sort_values(by = ['B','C'])"
   ]
  },
  {
   "cell_type": "code",
   "execution_count": 108,
   "id": "28dd84d2-5ec7-4a1c-9612-4d032872f466",
   "metadata": {},
   "outputs": [],
   "source": [
    "# 컬럼 추가\n",
    "# 기존에 컬럼이 없으면 추가, 있으면 덮어쓰기\n",
    "df['E'] = ['one', 'one', 'two', 'three', 'four', 'seven']"
   ]
  },
  {
   "cell_type": "code",
   "execution_count": 109,
   "id": "08dbc879-945e-425f-b117-9c52be59415d",
   "metadata": {},
   "outputs": [
    {
     "data": {
      "text/html": [
       "<div>\n",
       "<style scoped>\n",
       "    .dataframe tbody tr th:only-of-type {\n",
       "        vertical-align: middle;\n",
       "    }\n",
       "\n",
       "    .dataframe tbody tr th {\n",
       "        vertical-align: top;\n",
       "    }\n",
       "\n",
       "    .dataframe thead th {\n",
       "        text-align: right;\n",
       "    }\n",
       "</style>\n",
       "<table border=\"1\" class=\"dataframe\">\n",
       "  <thead>\n",
       "    <tr style=\"text-align: right;\">\n",
       "      <th></th>\n",
       "      <th>A</th>\n",
       "      <th>B</th>\n",
       "      <th>C</th>\n",
       "      <th>D</th>\n",
       "      <th>E</th>\n",
       "    </tr>\n",
       "  </thead>\n",
       "  <tbody>\n",
       "    <tr>\n",
       "      <th>2023-08-04</th>\n",
       "      <td>-1.752582</td>\n",
       "      <td>-0.534154</td>\n",
       "      <td>0.728209</td>\n",
       "      <td>-2.379809</td>\n",
       "      <td>one</td>\n",
       "    </tr>\n",
       "    <tr>\n",
       "      <th>2023-08-05</th>\n",
       "      <td>-1.005182</td>\n",
       "      <td>1.190899</td>\n",
       "      <td>-0.913057</td>\n",
       "      <td>-0.672390</td>\n",
       "      <td>one</td>\n",
       "    </tr>\n",
       "    <tr>\n",
       "      <th>2023-08-06</th>\n",
       "      <td>-1.829692</td>\n",
       "      <td>0.198670</td>\n",
       "      <td>0.131028</td>\n",
       "      <td>-0.411709</td>\n",
       "      <td>two</td>\n",
       "    </tr>\n",
       "    <tr>\n",
       "      <th>2023-08-07</th>\n",
       "      <td>0.367424</td>\n",
       "      <td>0.392683</td>\n",
       "      <td>-0.277288</td>\n",
       "      <td>0.435405</td>\n",
       "      <td>three</td>\n",
       "    </tr>\n",
       "    <tr>\n",
       "      <th>2023-08-08</th>\n",
       "      <td>-1.088865</td>\n",
       "      <td>-1.456308</td>\n",
       "      <td>-0.386265</td>\n",
       "      <td>-0.502584</td>\n",
       "      <td>four</td>\n",
       "    </tr>\n",
       "    <tr>\n",
       "      <th>2023-08-09</th>\n",
       "      <td>1.423846</td>\n",
       "      <td>-0.304003</td>\n",
       "      <td>0.270196</td>\n",
       "      <td>-0.085229</td>\n",
       "      <td>seven</td>\n",
       "    </tr>\n",
       "  </tbody>\n",
       "</table>\n",
       "</div>"
      ],
      "text/plain": [
       "                   A         B         C         D      E\n",
       "2023-08-04 -1.752582 -0.534154  0.728209 -2.379809    one\n",
       "2023-08-05 -1.005182  1.190899 -0.913057 -0.672390    one\n",
       "2023-08-06 -1.829692  0.198670  0.131028 -0.411709    two\n",
       "2023-08-07  0.367424  0.392683 -0.277288  0.435405  three\n",
       "2023-08-08 -1.088865 -1.456308 -0.386265 -0.502584   four\n",
       "2023-08-09  1.423846 -0.304003  0.270196 -0.085229  seven"
      ]
     },
     "execution_count": 109,
     "metadata": {},
     "output_type": "execute_result"
    }
   ],
   "source": [
    "df"
   ]
  },
  {
   "cell_type": "code",
   "execution_count": 110,
   "id": "e8b38248-85e6-415d-8530-1deefaae9d4f",
   "metadata": {
    "scrolled": true
   },
   "outputs": [],
   "source": [
    "# 데이터 삭제\n",
    "# axis = 세로 axis = 0 가로\n",
    "# in-palce 내부 내용을 바꾼다\n",
    "df.drop('A', axis = 1, inplace=True) # 1은 세로를 지워준다\n"
   ]
  },
  {
   "cell_type": "code",
   "execution_count": 111,
   "id": "ce1eea7a-4c73-41d6-8c97-545ff1fbb8ca",
   "metadata": {},
   "outputs": [
    {
     "data": {
      "text/html": [
       "<div>\n",
       "<style scoped>\n",
       "    .dataframe tbody tr th:only-of-type {\n",
       "        vertical-align: middle;\n",
       "    }\n",
       "\n",
       "    .dataframe tbody tr th {\n",
       "        vertical-align: top;\n",
       "    }\n",
       "\n",
       "    .dataframe thead th {\n",
       "        text-align: right;\n",
       "    }\n",
       "</style>\n",
       "<table border=\"1\" class=\"dataframe\">\n",
       "  <thead>\n",
       "    <tr style=\"text-align: right;\">\n",
       "      <th></th>\n",
       "      <th>B</th>\n",
       "      <th>C</th>\n",
       "      <th>D</th>\n",
       "      <th>E</th>\n",
       "    </tr>\n",
       "  </thead>\n",
       "  <tbody>\n",
       "    <tr>\n",
       "      <th>2023-08-04</th>\n",
       "      <td>-0.534154</td>\n",
       "      <td>0.728209</td>\n",
       "      <td>-2.379809</td>\n",
       "      <td>one</td>\n",
       "    </tr>\n",
       "    <tr>\n",
       "      <th>2023-08-05</th>\n",
       "      <td>1.190899</td>\n",
       "      <td>-0.913057</td>\n",
       "      <td>-0.672390</td>\n",
       "      <td>one</td>\n",
       "    </tr>\n",
       "    <tr>\n",
       "      <th>2023-08-07</th>\n",
       "      <td>0.392683</td>\n",
       "      <td>-0.277288</td>\n",
       "      <td>0.435405</td>\n",
       "      <td>three</td>\n",
       "    </tr>\n",
       "    <tr>\n",
       "      <th>2023-08-08</th>\n",
       "      <td>-1.456308</td>\n",
       "      <td>-0.386265</td>\n",
       "      <td>-0.502584</td>\n",
       "      <td>four</td>\n",
       "    </tr>\n",
       "  </tbody>\n",
       "</table>\n",
       "</div>"
      ],
      "text/plain": [
       "                   B         C         D      E\n",
       "2023-08-04 -0.534154  0.728209 -2.379809    one\n",
       "2023-08-05  1.190899 -0.913057 -0.672390    one\n",
       "2023-08-07  0.392683 -0.277288  0.435405  three\n",
       "2023-08-08 -1.456308 -0.386265 -0.502584   four"
      ]
     },
     "execution_count": 111,
     "metadata": {},
     "output_type": "execute_result"
    }
   ],
   "source": [
    "df.drop(['2023-08-06', '2023-08-09'], axis = 0)"
   ]
  },
  {
   "cell_type": "code",
   "execution_count": 112,
   "id": "69267f49-9c7c-430f-9303-8475adda6122",
   "metadata": {},
   "outputs": [
    {
     "data": {
      "text/html": [
       "<div>\n",
       "<style scoped>\n",
       "    .dataframe tbody tr th:only-of-type {\n",
       "        vertical-align: middle;\n",
       "    }\n",
       "\n",
       "    .dataframe tbody tr th {\n",
       "        vertical-align: top;\n",
       "    }\n",
       "\n",
       "    .dataframe thead th {\n",
       "        text-align: right;\n",
       "    }\n",
       "</style>\n",
       "<table border=\"1\" class=\"dataframe\">\n",
       "  <thead>\n",
       "    <tr style=\"text-align: right;\">\n",
       "      <th></th>\n",
       "      <th>C</th>\n",
       "      <th>E</th>\n",
       "    </tr>\n",
       "  </thead>\n",
       "  <tbody>\n",
       "    <tr>\n",
       "      <th>2023-08-04</th>\n",
       "      <td>0.728209</td>\n",
       "      <td>one</td>\n",
       "    </tr>\n",
       "    <tr>\n",
       "      <th>2023-08-05</th>\n",
       "      <td>-0.913057</td>\n",
       "      <td>one</td>\n",
       "    </tr>\n",
       "    <tr>\n",
       "      <th>2023-08-06</th>\n",
       "      <td>0.131028</td>\n",
       "      <td>two</td>\n",
       "    </tr>\n",
       "    <tr>\n",
       "      <th>2023-08-07</th>\n",
       "      <td>-0.277288</td>\n",
       "      <td>three</td>\n",
       "    </tr>\n",
       "    <tr>\n",
       "      <th>2023-08-08</th>\n",
       "      <td>-0.386265</td>\n",
       "      <td>four</td>\n",
       "    </tr>\n",
       "    <tr>\n",
       "      <th>2023-08-09</th>\n",
       "      <td>0.270196</td>\n",
       "      <td>seven</td>\n",
       "    </tr>\n",
       "  </tbody>\n",
       "</table>\n",
       "</div>"
      ],
      "text/plain": [
       "                   C      E\n",
       "2023-08-04  0.728209    one\n",
       "2023-08-05 -0.913057    one\n",
       "2023-08-06  0.131028    two\n",
       "2023-08-07 -0.277288  three\n",
       "2023-08-08 -0.386265   four\n",
       "2023-08-09  0.270196  seven"
      ]
     },
     "execution_count": 112,
     "metadata": {},
     "output_type": "execute_result"
    }
   ],
   "source": [
    "df.drop(columns=['B', 'D'])"
   ]
  },
  {
   "cell_type": "code",
   "execution_count": 113,
   "id": "06708293-3578-40c7-861a-f4732ef35749",
   "metadata": {},
   "outputs": [
    {
     "data": {
      "text/html": [
       "<div>\n",
       "<style scoped>\n",
       "    .dataframe tbody tr th:only-of-type {\n",
       "        vertical-align: middle;\n",
       "    }\n",
       "\n",
       "    .dataframe tbody tr th {\n",
       "        vertical-align: top;\n",
       "    }\n",
       "\n",
       "    .dataframe thead th {\n",
       "        text-align: right;\n",
       "    }\n",
       "</style>\n",
       "<table border=\"1\" class=\"dataframe\">\n",
       "  <thead>\n",
       "    <tr style=\"text-align: right;\">\n",
       "      <th></th>\n",
       "      <th>B</th>\n",
       "      <th>C</th>\n",
       "      <th>D</th>\n",
       "      <th>E</th>\n",
       "    </tr>\n",
       "  </thead>\n",
       "  <tbody>\n",
       "    <tr>\n",
       "      <th>2023-08-05</th>\n",
       "      <td>1.190899</td>\n",
       "      <td>-0.913057</td>\n",
       "      <td>-0.672390</td>\n",
       "      <td>one</td>\n",
       "    </tr>\n",
       "    <tr>\n",
       "      <th>2023-08-06</th>\n",
       "      <td>0.198670</td>\n",
       "      <td>0.131028</td>\n",
       "      <td>-0.411709</td>\n",
       "      <td>two</td>\n",
       "    </tr>\n",
       "    <tr>\n",
       "      <th>2023-08-07</th>\n",
       "      <td>0.392683</td>\n",
       "      <td>-0.277288</td>\n",
       "      <td>0.435405</td>\n",
       "      <td>three</td>\n",
       "    </tr>\n",
       "    <tr>\n",
       "      <th>2023-08-08</th>\n",
       "      <td>-1.456308</td>\n",
       "      <td>-0.386265</td>\n",
       "      <td>-0.502584</td>\n",
       "      <td>four</td>\n",
       "    </tr>\n",
       "    <tr>\n",
       "      <th>2023-08-09</th>\n",
       "      <td>-0.304003</td>\n",
       "      <td>0.270196</td>\n",
       "      <td>-0.085229</td>\n",
       "      <td>seven</td>\n",
       "    </tr>\n",
       "  </tbody>\n",
       "</table>\n",
       "</div>"
      ],
      "text/plain": [
       "                   B         C         D      E\n",
       "2023-08-05  1.190899 -0.913057 -0.672390    one\n",
       "2023-08-06  0.198670  0.131028 -0.411709    two\n",
       "2023-08-07  0.392683 -0.277288  0.435405  three\n",
       "2023-08-08 -1.456308 -0.386265 -0.502584   four\n",
       "2023-08-09 -0.304003  0.270196 -0.085229  seven"
      ]
     },
     "execution_count": 113,
     "metadata": {},
     "output_type": "execute_result"
    }
   ],
   "source": [
    "df.drop(index=['2023-08-04'])"
   ]
  },
  {
   "cell_type": "code",
   "execution_count": 114,
   "id": "e9ce857b-b90d-4f96-875c-83bdfbd8ae5d",
   "metadata": {},
   "outputs": [],
   "source": [
    "# E 컬럼 삭제후 저장\n",
    "df.drop('E', axis = 1, inplace = True)"
   ]
  },
  {
   "cell_type": "code",
   "execution_count": 119,
   "id": "17353e4f-38c3-4aa2-972a-8a82d2944204",
   "metadata": {},
   "outputs": [],
   "source": [
    "def plus_minus(values):\n",
    "    return'plus' if values > 0 else 'minus'"
   ]
  },
  {
   "cell_type": "code",
   "execution_count": 120,
   "id": "b00eafd3-b33f-40ff-816d-ee59ba1e57c9",
   "metadata": {},
   "outputs": [
    {
     "ename": "TypeError",
     "evalue": "'>' not supported between instances of 'str' and 'int'",
     "output_type": "error",
     "traceback": [
      "\u001b[0;31m---------------------------------------------------------------------------\u001b[0m",
      "\u001b[0;31mTypeError\u001b[0m                                 Traceback (most recent call last)",
      "Cell \u001b[0;32mIn[120], line 1\u001b[0m\n\u001b[0;32m----> 1\u001b[0m df[\u001b[38;5;124m'\u001b[39m\u001b[38;5;124mB\u001b[39m\u001b[38;5;124m'\u001b[39m] \u001b[38;5;241m=\u001b[39m \u001b[43mdf\u001b[49m\u001b[43m[\u001b[49m\u001b[38;5;124;43m'\u001b[39;49m\u001b[38;5;124;43mB\u001b[39;49m\u001b[38;5;124;43m'\u001b[39;49m\u001b[43m]\u001b[49m\u001b[38;5;241;43m.\u001b[39;49m\u001b[43mapply\u001b[49m\u001b[43m(\u001b[49m\u001b[43mplus_minus\u001b[49m\u001b[43m)\u001b[49m\n",
      "File \u001b[0;32m~/.local/lib/python3.10/site-packages/pandas/core/series.py:4630\u001b[0m, in \u001b[0;36mSeries.apply\u001b[0;34m(self, func, convert_dtype, args, **kwargs)\u001b[0m\n\u001b[1;32m   4520\u001b[0m \u001b[38;5;28;01mdef\u001b[39;00m \u001b[38;5;21mapply\u001b[39m(\n\u001b[1;32m   4521\u001b[0m     \u001b[38;5;28mself\u001b[39m,\n\u001b[1;32m   4522\u001b[0m     func: AggFuncType,\n\u001b[0;32m   (...)\u001b[0m\n\u001b[1;32m   4525\u001b[0m     \u001b[38;5;241m*\u001b[39m\u001b[38;5;241m*\u001b[39mkwargs,\n\u001b[1;32m   4526\u001b[0m ) \u001b[38;5;241m-\u001b[39m\u001b[38;5;241m>\u001b[39m DataFrame \u001b[38;5;241m|\u001b[39m Series:\n\u001b[1;32m   4527\u001b[0m \u001b[38;5;250m    \u001b[39m\u001b[38;5;124;03m\"\"\"\u001b[39;00m\n\u001b[1;32m   4528\u001b[0m \u001b[38;5;124;03m    Invoke function on values of Series.\u001b[39;00m\n\u001b[1;32m   4529\u001b[0m \n\u001b[0;32m   (...)\u001b[0m\n\u001b[1;32m   4628\u001b[0m \u001b[38;5;124;03m    dtype: float64\u001b[39;00m\n\u001b[1;32m   4629\u001b[0m \u001b[38;5;124;03m    \"\"\"\u001b[39;00m\n\u001b[0;32m-> 4630\u001b[0m     \u001b[38;5;28;01mreturn\u001b[39;00m \u001b[43mSeriesApply\u001b[49m\u001b[43m(\u001b[49m\u001b[38;5;28;43mself\u001b[39;49m\u001b[43m,\u001b[49m\u001b[43m \u001b[49m\u001b[43mfunc\u001b[49m\u001b[43m,\u001b[49m\u001b[43m \u001b[49m\u001b[43mconvert_dtype\u001b[49m\u001b[43m,\u001b[49m\u001b[43m \u001b[49m\u001b[43margs\u001b[49m\u001b[43m,\u001b[49m\u001b[43m \u001b[49m\u001b[43mkwargs\u001b[49m\u001b[43m)\u001b[49m\u001b[38;5;241;43m.\u001b[39;49m\u001b[43mapply\u001b[49m\u001b[43m(\u001b[49m\u001b[43m)\u001b[49m\n",
      "File \u001b[0;32m~/.local/lib/python3.10/site-packages/pandas/core/apply.py:1025\u001b[0m, in \u001b[0;36mSeriesApply.apply\u001b[0;34m(self)\u001b[0m\n\u001b[1;32m   1022\u001b[0m     \u001b[38;5;28;01mreturn\u001b[39;00m \u001b[38;5;28mself\u001b[39m\u001b[38;5;241m.\u001b[39mapply_str()\n\u001b[1;32m   1024\u001b[0m \u001b[38;5;66;03m# self.f is Callable\u001b[39;00m\n\u001b[0;32m-> 1025\u001b[0m \u001b[38;5;28;01mreturn\u001b[39;00m \u001b[38;5;28;43mself\u001b[39;49m\u001b[38;5;241;43m.\u001b[39;49m\u001b[43mapply_standard\u001b[49m\u001b[43m(\u001b[49m\u001b[43m)\u001b[49m\n",
      "File \u001b[0;32m~/.local/lib/python3.10/site-packages/pandas/core/apply.py:1076\u001b[0m, in \u001b[0;36mSeriesApply.apply_standard\u001b[0;34m(self)\u001b[0m\n\u001b[1;32m   1074\u001b[0m     \u001b[38;5;28;01melse\u001b[39;00m:\n\u001b[1;32m   1075\u001b[0m         values \u001b[38;5;241m=\u001b[39m obj\u001b[38;5;241m.\u001b[39mastype(\u001b[38;5;28mobject\u001b[39m)\u001b[38;5;241m.\u001b[39m_values\n\u001b[0;32m-> 1076\u001b[0m         mapped \u001b[38;5;241m=\u001b[39m \u001b[43mlib\u001b[49m\u001b[38;5;241;43m.\u001b[39;49m\u001b[43mmap_infer\u001b[49m\u001b[43m(\u001b[49m\n\u001b[1;32m   1077\u001b[0m \u001b[43m            \u001b[49m\u001b[43mvalues\u001b[49m\u001b[43m,\u001b[49m\n\u001b[1;32m   1078\u001b[0m \u001b[43m            \u001b[49m\u001b[43mf\u001b[49m\u001b[43m,\u001b[49m\n\u001b[1;32m   1079\u001b[0m \u001b[43m            \u001b[49m\u001b[43mconvert\u001b[49m\u001b[38;5;241;43m=\u001b[39;49m\u001b[38;5;28;43mself\u001b[39;49m\u001b[38;5;241;43m.\u001b[39;49m\u001b[43mconvert_dtype\u001b[49m\u001b[43m,\u001b[49m\n\u001b[1;32m   1080\u001b[0m \u001b[43m        \u001b[49m\u001b[43m)\u001b[49m\n\u001b[1;32m   1082\u001b[0m \u001b[38;5;28;01mif\u001b[39;00m \u001b[38;5;28mlen\u001b[39m(mapped) \u001b[38;5;129;01mand\u001b[39;00m \u001b[38;5;28misinstance\u001b[39m(mapped[\u001b[38;5;241m0\u001b[39m], ABCSeries):\n\u001b[1;32m   1083\u001b[0m     \u001b[38;5;66;03m# GH#43986 Need to do list(mapped) in order to get treated as nested\u001b[39;00m\n\u001b[1;32m   1084\u001b[0m     \u001b[38;5;66;03m#  See also GH#25959 regarding EA support\u001b[39;00m\n\u001b[1;32m   1085\u001b[0m     \u001b[38;5;28;01mreturn\u001b[39;00m obj\u001b[38;5;241m.\u001b[39m_constructor_expanddim(\u001b[38;5;28mlist\u001b[39m(mapped), index\u001b[38;5;241m=\u001b[39mobj\u001b[38;5;241m.\u001b[39mindex)\n",
      "File \u001b[0;32m~/.local/lib/python3.10/site-packages/pandas/_libs/lib.pyx:2834\u001b[0m, in \u001b[0;36mpandas._libs.lib.map_infer\u001b[0;34m()\u001b[0m\n",
      "Cell \u001b[0;32mIn[119], line 2\u001b[0m, in \u001b[0;36mplus_minus\u001b[0;34m(values)\u001b[0m\n\u001b[1;32m      1\u001b[0m \u001b[38;5;28;01mdef\u001b[39;00m \u001b[38;5;21mplus_minus\u001b[39m(values):\n\u001b[0;32m----> 2\u001b[0m     \u001b[38;5;28;01mreturn\u001b[39;00m\u001b[38;5;124m'\u001b[39m\u001b[38;5;124mplus\u001b[39m\u001b[38;5;124m'\u001b[39m \u001b[38;5;28;01mif\u001b[39;00m \u001b[43mvalues\u001b[49m\u001b[43m \u001b[49m\u001b[38;5;241;43m>\u001b[39;49m\u001b[43m \u001b[49m\u001b[38;5;241;43m0\u001b[39;49m \u001b[38;5;28;01melse\u001b[39;00m \u001b[38;5;124m'\u001b[39m\u001b[38;5;124mminus\u001b[39m\u001b[38;5;124m'\u001b[39m\n",
      "\u001b[0;31mTypeError\u001b[0m: '>' not supported between instances of 'str' and 'int'"
     ]
    }
   ],
   "source": [
    "df['B'] = df['B'].apply(plus_minus)"
   ]
  },
  {
   "cell_type": "code",
   "execution_count": 121,
   "id": "13855649-238d-4fa9-b267-a9c3ff84cd78",
   "metadata": {},
   "outputs": [],
   "source": [
    "df.loc['2023-08-06', 'C'] = 999"
   ]
  },
  {
   "cell_type": "code",
   "execution_count": 122,
   "id": "a1f46bb1-ca0f-4b29-87fa-d70099c194f4",
   "metadata": {},
   "outputs": [
    {
     "data": {
      "text/html": [
       "<div>\n",
       "<style scoped>\n",
       "    .dataframe tbody tr th:only-of-type {\n",
       "        vertical-align: middle;\n",
       "    }\n",
       "\n",
       "    .dataframe tbody tr th {\n",
       "        vertical-align: top;\n",
       "    }\n",
       "\n",
       "    .dataframe thead th {\n",
       "        text-align: right;\n",
       "    }\n",
       "</style>\n",
       "<table border=\"1\" class=\"dataframe\">\n",
       "  <thead>\n",
       "    <tr style=\"text-align: right;\">\n",
       "      <th></th>\n",
       "      <th>B</th>\n",
       "      <th>C</th>\n",
       "      <th>D</th>\n",
       "    </tr>\n",
       "  </thead>\n",
       "  <tbody>\n",
       "    <tr>\n",
       "      <th>2023-08-04</th>\n",
       "      <td>minus</td>\n",
       "      <td>0.728209</td>\n",
       "      <td>-2.379809</td>\n",
       "    </tr>\n",
       "    <tr>\n",
       "      <th>2023-08-05</th>\n",
       "      <td>plus</td>\n",
       "      <td>-0.913057</td>\n",
       "      <td>-0.672390</td>\n",
       "    </tr>\n",
       "    <tr>\n",
       "      <th>2023-08-06</th>\n",
       "      <td>plus</td>\n",
       "      <td>999.000000</td>\n",
       "      <td>-0.411709</td>\n",
       "    </tr>\n",
       "    <tr>\n",
       "      <th>2023-08-07</th>\n",
       "      <td>plus</td>\n",
       "      <td>-0.277288</td>\n",
       "      <td>0.435405</td>\n",
       "    </tr>\n",
       "    <tr>\n",
       "      <th>2023-08-08</th>\n",
       "      <td>minus</td>\n",
       "      <td>-0.386265</td>\n",
       "      <td>-0.502584</td>\n",
       "    </tr>\n",
       "    <tr>\n",
       "      <th>2023-08-09</th>\n",
       "      <td>minus</td>\n",
       "      <td>0.270196</td>\n",
       "      <td>-0.085229</td>\n",
       "    </tr>\n",
       "  </tbody>\n",
       "</table>\n",
       "</div>"
      ],
      "text/plain": [
       "                B           C         D\n",
       "2023-08-04  minus    0.728209 -2.379809\n",
       "2023-08-05   plus   -0.913057 -0.672390\n",
       "2023-08-06   plus  999.000000 -0.411709\n",
       "2023-08-07   plus   -0.277288  0.435405\n",
       "2023-08-08  minus   -0.386265 -0.502584\n",
       "2023-08-09  minus    0.270196 -0.085229"
      ]
     },
     "execution_count": 122,
     "metadata": {},
     "output_type": "execute_result"
    }
   ],
   "source": [
    "df"
   ]
  },
  {
   "cell_type": "code",
   "execution_count": 123,
   "id": "129db6c3-0659-447c-a139-aabe355af0db",
   "metadata": {},
   "outputs": [
    {
     "data": {
      "text/plain": [
       "<pandas.core.indexing._iLocIndexer at 0x7f01f9b13560>"
      ]
     },
     "execution_count": 123,
     "metadata": {},
     "output_type": "execute_result"
    }
   ],
   "source": [
    "df.iloc"
   ]
  },
  {
   "cell_type": "code",
   "execution_count": 70,
   "id": "5d5693bd-0e8e-4c03-a2bf-ea2cef9bdbd2",
   "metadata": {},
   "outputs": [],
   "source": [
    "# left_df\n",
    "\n",
    "# key 라는 이름의 컬럼\n",
    "# key 컬럼의 값으로는 KO,K4,K2,K3\n",
    "\n",
    "# A라는 이름의 칼럼\n",
    "# A 컬럼의 값으로는 A0,A1,A2,A3\n",
    "\n",
    "# B라는 이름의 컬럼\n",
    "# B컬럼의 값으로는 B0, B1, B2, B3"
   ]
  },
  {
   "cell_type": "code",
   "execution_count": 71,
   "id": "8549e066-b95f-40c7-b650-ce21c689c65f",
   "metadata": {},
   "outputs": [
    {
     "ename": "SyntaxError",
     "evalue": "closing parenthesis '}' does not match opening parenthesis '[' (3479752655.py, line 1)",
     "output_type": "error",
     "traceback": [
      "\u001b[0;36m  Cell \u001b[0;32mIn[71], line 1\u001b[0;36m\u001b[0m\n\u001b[0;31m    left_df = pd.DataFrame({'key':[ K0,K1,K2,K3],'A':['A0', 'A1', 'A2','A3'})\u001b[0m\n\u001b[0m                                                                           ^\u001b[0m\n\u001b[0;31mSyntaxError\u001b[0m\u001b[0;31m:\u001b[0m closing parenthesis '}' does not match opening parenthesis '['\n"
     ]
    }
   ],
   "source": [
    "left_df = pd.DataFrame({'key':[ K0,K1,K2,K3],'A':['A0', 'A1', 'A2','A3'})"
   ]
  },
  {
   "cell_type": "code",
   "execution_count": 177,
   "id": "c6126bc9-c2ca-4dc3-b5d6-229dacc0257d",
   "metadata": {},
   "outputs": [
    {
     "data": {
      "text/html": [
       "<div>\n",
       "<style scoped>\n",
       "    .dataframe tbody tr th:only-of-type {\n",
       "        vertical-align: middle;\n",
       "    }\n",
       "\n",
       "    .dataframe tbody tr th {\n",
       "        vertical-align: top;\n",
       "    }\n",
       "\n",
       "    .dataframe thead th {\n",
       "        text-align: right;\n",
       "    }\n",
       "</style>\n",
       "<table border=\"1\" class=\"dataframe\">\n",
       "  <thead>\n",
       "    <tr style=\"text-align: right;\">\n",
       "      <th></th>\n",
       "      <th>B</th>\n",
       "      <th>C</th>\n",
       "      <th>D</th>\n",
       "      <th>c</th>\n",
       "      <th>E</th>\n",
       "    </tr>\n",
       "  </thead>\n",
       "  <tbody>\n",
       "    <tr>\n",
       "      <th>2023-08-04</th>\n",
       "      <td>0.019709</td>\n",
       "      <td>1.766075</td>\n",
       "      <td>0.255431</td>\n",
       "      <td>NaN</td>\n",
       "      <td>one</td>\n",
       "    </tr>\n",
       "    <tr>\n",
       "      <th>2023-08-05</th>\n",
       "      <td>-0.788071</td>\n",
       "      <td>1.271392</td>\n",
       "      <td>0.710300</td>\n",
       "      <td>NaN</td>\n",
       "      <td>one</td>\n",
       "    </tr>\n",
       "    <tr>\n",
       "      <th>2023-08-06</th>\n",
       "      <td>1.463192</td>\n",
       "      <td>-1.306948</td>\n",
       "      <td>-0.876385</td>\n",
       "      <td>999.0</td>\n",
       "      <td>two</td>\n",
       "    </tr>\n",
       "    <tr>\n",
       "      <th>2023-08-07</th>\n",
       "      <td>1.766481</td>\n",
       "      <td>-1.278447</td>\n",
       "      <td>0.866370</td>\n",
       "      <td>NaN</td>\n",
       "      <td>three</td>\n",
       "    </tr>\n",
       "    <tr>\n",
       "      <th>2023-08-08</th>\n",
       "      <td>0.312188</td>\n",
       "      <td>0.883246</td>\n",
       "      <td>-1.525695</td>\n",
       "      <td>NaN</td>\n",
       "      <td>four</td>\n",
       "    </tr>\n",
       "    <tr>\n",
       "      <th>2023-08-09</th>\n",
       "      <td>-0.971244</td>\n",
       "      <td>0.239690</td>\n",
       "      <td>-0.204332</td>\n",
       "      <td>NaN</td>\n",
       "      <td>seven</td>\n",
       "    </tr>\n",
       "  </tbody>\n",
       "</table>\n",
       "</div>"
      ],
      "text/plain": [
       "                   B         C         D      c      E\n",
       "2023-08-04  0.019709  1.766075  0.255431    NaN    one\n",
       "2023-08-05 -0.788071  1.271392  0.710300    NaN    one\n",
       "2023-08-06  1.463192 -1.306948 -0.876385  999.0    two\n",
       "2023-08-07  1.766481 -1.278447  0.866370    NaN  three\n",
       "2023-08-08  0.312188  0.883246 -1.525695    NaN   four\n",
       "2023-08-09 -0.971244  0.239690 -0.204332    NaN  seven"
      ]
     },
     "execution_count": 177,
     "metadata": {},
     "output_type": "execute_result"
    }
   ],
   "source": [
    "df"
   ]
  },
  {
   "cell_type": "code",
   "execution_count": 179,
   "id": "1ca7e2df-8229-4138-b979-1d68bf3afdcf",
   "metadata": {},
   "outputs": [
    {
     "ename": "SyntaxError",
     "evalue": "invalid syntax (3179724749.py, line 1)",
     "output_type": "error",
     "traceback": [
      "\u001b[0;36m  Cell \u001b[0;32mIn[179], line 1\u001b[0;36m\u001b[0m\n\u001b[0;31m    df.['Key'] = ['KO','K1','K2','K3']\u001b[0m\n\u001b[0m       ^\u001b[0m\n\u001b[0;31mSyntaxError\u001b[0m\u001b[0;31m:\u001b[0m invalid syntax\n"
     ]
    }
   ],
   "source": [
    "df['Key'] = ['KO','K1','K2','K3']"
   ]
  },
  {
   "cell_type": "code",
   "execution_count": null,
   "id": "ba95de7a-84c9-4201-adca-4f17e31ddcb1",
   "metadata": {},
   "outputs": [],
   "source": [
    "# rigth_df\n",
    "\n",
    "#key 라는 이름의 컬럼\n",
    "# KO,K1,K2,K3\n",
    "# C라는 이름의 칼럼\n",
    "# CO, C1, C2, C3\n",
    "# D라는 이름의 컬럼\n",
    "# D0, D1, D2, D3"
   ]
  },
  {
   "cell_type": "code",
   "execution_count": 181,
   "id": "1ff1f924-4529-470b-84ba-bdf9ac6a5b7e",
   "metadata": {},
   "outputs": [
    {
     "ename": "SyntaxError",
     "evalue": "unterminated string literal (detected at line 2) (2336847640.py, line 2)",
     "output_type": "error",
     "traceback": [
      "\u001b[0;36m  Cell \u001b[0;32mIn[181], line 2\u001b[0;36m\u001b[0m\n\u001b[0;31m    {'key':'KO','K1','K2','K3}],\u001b[0m\n\u001b[0m                          ^\u001b[0m\n\u001b[0;31mSyntaxError\u001b[0m\u001b[0;31m:\u001b[0m unterminated string literal (detected at line 2)\n"
     ]
    }
   ],
   "source": [
    "left_df = pd.DataFrame([\n",
    "    {'key':'KO','K1','K2','K3}],\n",
    "    [{'C': 'CO', 'C1', 'C2', 'C3'}],\n",
    "    [{'D': 'D0', 'D1', 'D2', 'D3'}]\n",
    "                      )"
   ]
  },
  {
   "cell_type": "code",
   "execution_count": null,
   "id": "391605a5-08bc-4c41-a318-b5770ca825ce",
   "metadata": {},
   "outputs": [],
   "source": [
    "# merge\n",
    "# 데이터 프레임을 가로로 병합\n",
    "pd.merge(left_df, Rifht_df, on = 'key', how ='outer'))"
   ]
  },
  {
   "cell_type": "code",
   "execution_count": null,
   "id": "c43a825b-fc22-4a8b-b2b2-4e794320265e",
   "metadata": {},
   "outputs": [],
   "source": [
    "# conract\n",
    "# 세로로병합\n",
    "# NaN\n",
    "# Not a Number\n",
    "# 누락데이터, 누락값\n",
    "nan_df = pd.daopna()"
   ]
  },
  {
   "cell_type": "code",
   "execution_count": null,
   "id": "8e120cd1-d01c-4eba-bedb-870916761532",
   "metadata": {},
   "outputs": [],
   "source": [
    "nan_df = fillna(누락값)"
   ]
  },
  {
   "cell_type": "code",
   "execution_count": null,
   "id": "9f5bbc50-4154-4691-8a34-f9dbe57c099b",
   "metadata": {},
   "outputs": [],
   "source": [
    "data = {\n",
    "    'A': [1, 2, 3, 4, 5],\n",
    "    'B': [3, 2, 3, 1, 2],\n",
    "    'C': [5, 4, 3 ,2, 1]\n",
    "}"
   ]
  },
  {
   "cell_type": "code",
   "execution_count": null,
   "id": "a04ff1e6-0006-4768-b180-8cdf231ca7e8",
   "metadata": {},
   "outputs": [],
   "source": []
  },
  {
   "cell_type": "code",
   "execution_count": null,
   "id": "309ebe4d-62f4-42da-b7ad-3db44f74d6b0",
   "metadata": {},
   "outputs": [],
   "source": []
  },
  {
   "cell_type": "code",
   "execution_count": null,
   "id": "366c755e-9097-40f9-9a64-87b5b4b8041d",
   "metadata": {},
   "outputs": [],
   "source": []
  }
 ],
 "metadata": {
  "kernelspec": {
   "display_name": "Python 3 (ipykernel)",
   "language": "python",
   "name": "python3"
  },
  "language_info": {
   "codemirror_mode": {
    "name": "ipython",
    "version": 3
   },
   "file_extension": ".py",
   "mimetype": "text/x-python",
   "name": "python",
   "nbconvert_exporter": "python",
   "pygments_lexer": "ipython3",
   "version": "3.10.12"
  }
 },
 "nbformat": 4,
 "nbformat_minor": 5
}
