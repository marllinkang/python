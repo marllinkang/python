{
 "cells": [
  {
   "cell_type": "code",
   "execution_count": null,
   "metadata": {},
   "outputs": [],
   "source": [
    "# 네이버 부동산 5년 이상 아파트만 매물 선정"
   ]
  },
  {
   "cell_type": "code",
   "execution_count": 5,
   "metadata": {},
   "outputs": [],
   "source": [
    "from selenium import webdriver\n",
    "from selenium.webdriver.chrome.service import Service\n",
    "from selenium.webdriver.chrome.options import Options\n",
    "\n",
    "options = webdriver.ChromeOptions()\n",
    "\n",
    "prefs = {'downloads.default_driectory':'../data/',#'/home/kang/dev_ws/eda/data/oil_data' \n",
    "         'download.prompt_for_download':False}\n",
    "         \n",
    "options.add_experimental_option('prefs',prefs)\n",
    "\n",
    "url = \"https://www.opinet.co.kr/searRgSelect.do\"\n",
    "driver = webdriver.Chrome(service=Service(\"../driver/chromedriver-linux64/chromedriver\"),\n",
    "                          options = options)\n",
    "driver.get(url)"
   ]
  },
  {
   "cell_type": "code",
   "execution_count": 6,
   "metadata": {},
   "outputs": [
    {
     "name": "stdout",
     "output_type": "stream",
     "text": [
      "<!DOCTYPE html PUBLIC \"-//W3C//DTD XHTML 1.0 Transitional//EN\" \"http://www.w3.org/TR/xhtml1/DTD/xhtml1-transitional.dtd\">\n",
      "<html lang=\"ko\" xml:lang=\"ko\" xmlns=\"http://www.w3.org/1999/xhtml\">\n",
      " <head>\n",
      "  <meta content=\"text/html; charset=utf-8\" http-equiv=\"Content-Type\"/>\n",
      "  <link href=\"/css/sample.css\" rel=\"stylesheet\" type=\"text/css\"/>\n",
      "  <title>\n",
      "   error.jsp\n",
      "  </title>\n",
      " </head>\n",
      " <body>\n",
      "  <table border=\"0\" cellpadding=\"0\" cellspacing=\"0\" height=\"100%\" width=\"100%\">\n",
      "   <tr align=\"center\" valign=\"middle\">\n",
      "    <td align=\"center\" height=\"100%\" style=\"padding-top:150px;\" valign=\"middle\" width=\"100%\">\n",
      "     <table align=\"center\" border=\"0\" cellpadding=\"0\" cellspacing=\"0\" valign=\"middle\">\n",
      "      <font size=\"10\">\n",
      "       The service is not available.\n",
      "      </font>\n",
      "     </table>\n",
      "    </td>\n",
      "   </tr>\n",
      "  </table>\n",
      " </body>\n",
      "</html>\n",
      "\n"
     ]
    }
   ],
   "source": [
    "import urllib\n",
    "from urllib.request import Request\n",
    "\n",
    "url = \"https://www.opinet.co.kr/searRgSelect.do\"\n",
    "req = Request(url.format())\n",
    "res = urlopen(req)\n",
    "soup = BeautifulSoup(res, \"html.parser\")\n",
    "print(soup.prettify())"
   ]
  },
  {
   "cell_type": "code",
   "execution_count": 7,
   "metadata": {},
   "outputs": [],
   "source": [
    "from bs4 import BeautifulSoup\n",
    "from urllib.request import urlopen\n",
    "from selenium.webdriver.common.by import By"
   ]
  },
  {
   "cell_type": "code",
   "execution_count": 8,
   "metadata": {},
   "outputs": [
    {
     "name": "stdout",
     "output_type": "stream",
     "text": [
      "<html>\n",
      " <head>\n",
      "  <title>\n",
      "   Very Simple HTML Code by PinkWink\n",
      "  </title>\n",
      " </head>\n",
      " <body>\n",
      "  <div>\n",
      "   <p class=\"inner-text frist-item\" id=\"first\">\n",
      "    Happly PinkWink.\n",
      "    <a href=\"http://www.pinkwink.kr\" id=\"pw-link\">\n",
      "     PinkWink\n",
      "    </a>\n",
      "   </p>\n",
      "   <p class=\"inner-text frist-item\" id=\"first\">\n",
      "    Happy Data Science.\n",
      "    <a href=\"http://www.python.org\" id=\"pw-link\">\n",
      "     Python\n",
      "    </a>\n",
      "   </p>\n",
      "  </div>\n",
      "  <p class=\"outer-text first-item\" id=\"second\">\n",
      "   <b>\n",
      "    Data science is funny.\n",
      "   </b>\n",
      "  </p>\n",
      "  <p class=\"outer-text\">\n",
      "   <b>\n",
      "    All I need is Love.\n",
      "   </b>\n",
      "  </p>\n",
      " </body>\n",
      "</html>\n",
      "\n"
     ]
    }
   ],
   "source": [
    "from bs4 import BeautifulSoup\n",
    "page = open(\"test.html\").read() \n",
    "soup = BeautifulSoup(page, \"html.parser\") #html.parser : Beautiful Soup의 html을 읽는 엔진 중 하나(lxml, html5lib도 많이 사용)\n",
    "print(soup.prettify()) #prettify() : html 출력을 이쁘게 만들어 주는 기능"
   ]
  },
  {
   "cell_type": "code",
   "execution_count": 9,
   "metadata": {},
   "outputs": [],
   "source": [
    "html = driver.page_source\n",
    "soup = BeautifulSoup(html,\"html.parser\")"
   ]
  },
  {
   "cell_type": "code",
   "execution_count": 10,
   "metadata": {},
   "outputs": [],
   "source": [
    "driver.get(url)"
   ]
  },
  {
   "cell_type": "code",
   "execution_count": 11,
   "metadata": {},
   "outputs": [
    {
     "name": "stdout",
     "output_type": "stream",
     "text": [
      "0.\n",
      "1.서울특별시\n",
      "2.부산광역시\n",
      "3.대구광역시\n",
      "4.인천광역시\n",
      "5.광주광역시\n",
      "6.대전광역시\n",
      "7.울산광역시\n",
      "8.세종특별자치시\n",
      "9.경기도\n",
      "10.충청북도\n",
      "11.충청남도\n",
      "12.전라북도\n",
      "13.전라남도\n",
      "14.경상북도\n",
      "15.경상남도\n",
      "16.제주특별자치도\n",
      "17.강원특별자치도\n"
     ]
    }
   ],
   "source": [
    "from selenium.webdriver.common.by import By\n",
    "\n",
    "sido = driver.find_element(By.ID,\"SIDO_NM0\")\n",
    "sido_list = sido.find_elements(By.TAG_NAME, \"option\")\n",
    "for idx, sido_name in enumerate(sido_list):\n",
    "    print(str(idx)+\".\"+sido_name.get_attribute(\"value\"))\n"
   ]
  },
  {
   "cell_type": "code",
   "execution_count": 12,
   "metadata": {},
   "outputs": [
    {
     "data": {
      "text/plain": [
       "['',\n",
       " '서울특별시',\n",
       " '부산광역시',\n",
       " '대구광역시',\n",
       " '인천광역시',\n",
       " '광주광역시',\n",
       " '대전광역시',\n",
       " '울산광역시',\n",
       " '세종특별자치시',\n",
       " '경기도',\n",
       " '충청북도',\n",
       " '충청남도',\n",
       " '전라북도',\n",
       " '전라남도',\n",
       " '경상북도',\n",
       " '경상남도',\n",
       " '제주특별자치도',\n",
       " '강원특별자치도']"
      ]
     },
     "execution_count": 12,
     "metadata": {},
     "output_type": "execute_result"
    }
   ],
   "source": [
    "sido_names = [sido_name.get_attribute(\"value\") for sido_name in sido_list]\n",
    "sido_names"
   ]
  },
  {
   "cell_type": "code",
   "execution_count": 13,
   "metadata": {},
   "outputs": [
    {
     "data": {
      "text/plain": [
       "['서울특별시',\n",
       " '부산광역시',\n",
       " '대구광역시',\n",
       " '인천광역시',\n",
       " '광주광역시',\n",
       " '대전광역시',\n",
       " '울산광역시',\n",
       " '세종특별자치시',\n",
       " '경기도',\n",
       " '충청북도',\n",
       " '충청남도',\n",
       " '전라북도',\n",
       " '전라남도',\n",
       " '경상북도',\n",
       " '경상남도',\n",
       " '제주특별자치도',\n",
       " '강원특별자치도']"
      ]
     },
     "execution_count": 13,
     "metadata": {},
     "output_type": "execute_result"
    }
   ],
   "source": [
    "sido_names = sido_names[1:]\n",
    "sido_names"
   ]
  },
  {
   "cell_type": "code",
   "execution_count": 14,
   "metadata": {},
   "outputs": [
    {
     "data": {
      "text/plain": [
       "'서울특별시'"
      ]
     },
     "execution_count": 14,
     "metadata": {},
     "output_type": "execute_result"
    }
   ],
   "source": [
    "sido_names[0]"
   ]
  },
  {
   "cell_type": "code",
   "execution_count": 15,
   "metadata": {},
   "outputs": [
    {
     "data": {
      "text/plain": [
       "17"
      ]
     },
     "execution_count": 15,
     "metadata": {},
     "output_type": "execute_result"
    }
   ],
   "source": [
    "len(sido_names)"
   ]
  },
  {
   "cell_type": "code",
   "execution_count": 16,
   "metadata": {},
   "outputs": [
    {
     "name": "stdout",
     "output_type": "stream",
     "text": [
      "서울특별시\n"
     ]
    }
   ],
   "source": [
    "print(sido_names[0])\n",
    "sido.send_keys(sido_names[0])\n"
   ]
  },
  {
   "cell_type": "code",
   "execution_count": 18,
   "metadata": {},
   "outputs": [
    {
     "name": "stdout",
     "output_type": "stream",
     "text": [
      "74 ['', '서울특별시', '부산광역시', '대구광역시', '인천광역시', '광주광역시', '대전광역시', '울산광역시', '세종특별자치시', '경기도', '충청북도', '충청남도', '전라북도', '전라남도', '경상북도', '경상남도', '제주특별자치도', '강원특별자치도', '', '강남구', '강동구', '강북구', '강서구', '관악구', '광진구', '구로구', '금천구', '노원구', '도봉구', '동대문구', '동작구', '마포구', '서대문구', '서초구', '성동구', '성북구', '송파구', '양천구', '영등포구', '용산구', '은평구', '종로구', '중구', '중랑구', '', '남현동', '봉천동', '봉천본동', '봉천제10동', '봉천제11동', '봉천제1동', '봉천제2동', '봉천제3동', '봉천제4동', '봉천제5동', '봉천제6동', '봉천제7동', '봉천제8동', '봉천제9동', '신림동', '신림본동', '신림제10동', '신림제11동', '신림제12동', '신림제13동', '신림제1동', '신림제2동', '신림제3동', '신림제4동', '신림제5동', '신림제6동', '신림제7동', '신림제8동', '신림제9동']\n"
     ]
    }
   ],
   "source": [
    "gu = driver.find_element(By.ID,\"SIGUNGU_NM0\")\n",
    "gu_list = driver.find_elements(By.TAG_NAME,\"option\")\n",
    "\n",
    "gu_names = [gu_names.get_attribute(\"value\")for gu_names in gu_list] #74개?\n",
    "\n",
    "print(len(gu_names),gu_names)"
   ]
  },
  {
   "cell_type": "code",
   "execution_count": 19,
   "metadata": {},
   "outputs": [
    {
     "name": "stdout",
     "output_type": "stream",
     "text": [
      "26 ['', '강남구', '강동구', '강북구', '강서구', '관악구', '광진구', '구로구', '금천구', '노원구', '도봉구', '동대문구', '동작구', '마포구', '서대문구', '서초구', '성동구', '성북구', '송파구', '양천구', '영등포구', '용산구', '은평구', '종로구', '중구', '중랑구']\n"
     ]
    }
   ],
   "source": [
    "gu = driver.find_element(By.ID, \"SIGUNGU_NM0\")\n",
    "gu_list = gu.find_elements(By.TAG_NAME,\"option\")\n",
    "\n",
    "gu_names =[gu_name.get_attribute(\"value\")for gu_name in gu_list]\n",
    "print(len(gu_names),gu_names)"
   ]
  },
  {
   "cell_type": "code",
   "execution_count": 20,
   "metadata": {},
   "outputs": [],
   "source": [
    "gu_names.remove(\"\")\n"
   ]
  },
  {
   "cell_type": "code",
   "execution_count": 21,
   "metadata": {},
   "outputs": [
    {
     "name": "stdout",
     "output_type": "stream",
     "text": [
      "25 ['강남구', '강동구', '강북구', '강서구', '관악구', '광진구', '구로구', '금천구', '노원구', '도봉구', '동대문구', '동작구', '마포구', '서대문구', '서초구', '성동구', '성북구', '송파구', '양천구', '영등포구', '용산구', '은평구', '종로구', '중구', '중랑구']\n"
     ]
    }
   ],
   "source": [
    "print(len(gu_names),gu_names)"
   ]
  },
  {
   "cell_type": "code",
   "execution_count": 26,
   "metadata": {},
   "outputs": [
    {
     "data": {
      "application/vnd.jupyter.widget-view+json": {
       "model_id": "80c2e7a5dbd74ad482d591b65b145b94",
       "version_major": 2,
       "version_minor": 0
      },
      "text/plain": [
       "  0%|          | 0/3 [00:00<?, ?it/s]"
      ]
     },
     "metadata": {},
     "output_type": "display_data"
    }
   ],
   "source": [
    "import time \n",
    "from tqdm.notebook import tqdm\n",
    "\n",
    "for gu_name in tqdm(gu_names[:3]): #앞의 3개가 바뀐다.\n",
    "    gu = driver.find_element(By.ID, \"SIGUNGU_NM0\")\n",
    "    gu.send_keys(gu_name)\n",
    "    driver.implicitly_wait(3)  "
   ]
  },
  {
   "cell_type": "code",
   "execution_count": 27,
   "metadata": {},
   "outputs": [],
   "source": [
    "# 데이터 모으기"
   ]
  },
  {
   "cell_type": "code",
   "execution_count": 30,
   "metadata": {},
   "outputs": [],
   "source": [
    "driver = webdriver.Chrome(service = Service(\"../driver/chromedriver-linux64/chromedriver\"))\n",
    "driver.get(\"https://www.opinet.co.kr/searRgSelect.do\")"
   ]
  },
  {
   "cell_type": "code",
   "execution_count": 31,
   "metadata": {},
   "outputs": [
    {
     "ename": "NoSuchElementException",
     "evalue": "Message: no such element: Unable to locate element: {\"method\":\"css selector\",\"selector\":\"[id=\"os_dtail_info\"]\"}\n  (Session info: chrome=116.0.5845.96); For documentation on this error, please visit: https://www.selenium.dev/documentation/webdriver/troubleshooting/errors#no-such-element-exception\nStacktrace:\n#0 0x560241514e23 <unknown>\n#1 0x56024123d7a7 <unknown>\n#2 0x56024127c1d3 <unknown>\n#3 0x56024127c2c1 <unknown>\n#4 0x5602412b7a04 <unknown>\n#5 0x56024129d03d <unknown>\n#6 0x5602412b5369 <unknown>\n#7 0x56024129cde3 <unknown>\n#8 0x560241270a7b <unknown>\n#9 0x56024127181e <unknown>\n#10 0x5602414d6638 <unknown>\n#11 0x5602414da507 <unknown>\n#12 0x5602414e4c4c <unknown>\n#13 0x5602414db136 <unknown>\n#14 0x5602414a99cf <unknown>\n#15 0x5602414feb98 <unknown>\n#16 0x5602414fed68 <unknown>\n#17 0x56024150dcb3 <unknown>\n#18 0x7fdc3ae94b43 <unknown>\n",
     "output_type": "error",
     "traceback": [
      "\u001b[0;31m---------------------------------------------------------------------------\u001b[0m",
      "\u001b[0;31mNoSuchElementException\u001b[0m                    Traceback (most recent call last)",
      "Cell \u001b[0;32mIn[31], line 1\u001b[0m\n\u001b[0;32m----> 1\u001b[0m oil \u001b[39m=\u001b[39m driver\u001b[39m.\u001b[39;49mfind_element(By\u001b[39m.\u001b[39;49mID, \u001b[39m\"\u001b[39;49m\u001b[39mos_dtail_info\u001b[39;49m\u001b[39m\"\u001b[39;49m)\n\u001b[1;32m      3\u001b[0m oil_list \u001b[39m=\u001b[39m oil\u001b[39m.\u001b[39mfind_elements(By\u001b[39m.\u001b[39mTAG_NAME,\u001b[39m\"\u001b[39m\u001b[39mdiv\u001b[39m\u001b[39m\"\u001b[39m)\n",
      "File \u001b[0;32m~/venv/eda_venv/lib/python3.10/site-packages/selenium/webdriver/remote/webdriver.py:739\u001b[0m, in \u001b[0;36mWebDriver.find_element\u001b[0;34m(self, by, value)\u001b[0m\n\u001b[1;32m    736\u001b[0m     by \u001b[39m=\u001b[39m By\u001b[39m.\u001b[39mCSS_SELECTOR\n\u001b[1;32m    737\u001b[0m     value \u001b[39m=\u001b[39m \u001b[39mf\u001b[39m\u001b[39m'\u001b[39m\u001b[39m[name=\u001b[39m\u001b[39m\"\u001b[39m\u001b[39m{\u001b[39;00mvalue\u001b[39m}\u001b[39;00m\u001b[39m\"\u001b[39m\u001b[39m]\u001b[39m\u001b[39m'\u001b[39m\n\u001b[0;32m--> 739\u001b[0m \u001b[39mreturn\u001b[39;00m \u001b[39mself\u001b[39;49m\u001b[39m.\u001b[39;49mexecute(Command\u001b[39m.\u001b[39;49mFIND_ELEMENT, {\u001b[39m\"\u001b[39;49m\u001b[39musing\u001b[39;49m\u001b[39m\"\u001b[39;49m: by, \u001b[39m\"\u001b[39;49m\u001b[39mvalue\u001b[39;49m\u001b[39m\"\u001b[39;49m: value})[\u001b[39m\"\u001b[39m\u001b[39mvalue\u001b[39m\u001b[39m\"\u001b[39m]\n",
      "File \u001b[0;32m~/venv/eda_venv/lib/python3.10/site-packages/selenium/webdriver/remote/webdriver.py:345\u001b[0m, in \u001b[0;36mWebDriver.execute\u001b[0;34m(self, driver_command, params)\u001b[0m\n\u001b[1;32m    343\u001b[0m response \u001b[39m=\u001b[39m \u001b[39mself\u001b[39m\u001b[39m.\u001b[39mcommand_executor\u001b[39m.\u001b[39mexecute(driver_command, params)\n\u001b[1;32m    344\u001b[0m \u001b[39mif\u001b[39;00m response:\n\u001b[0;32m--> 345\u001b[0m     \u001b[39mself\u001b[39;49m\u001b[39m.\u001b[39;49merror_handler\u001b[39m.\u001b[39;49mcheck_response(response)\n\u001b[1;32m    346\u001b[0m     response[\u001b[39m\"\u001b[39m\u001b[39mvalue\u001b[39m\u001b[39m\"\u001b[39m] \u001b[39m=\u001b[39m \u001b[39mself\u001b[39m\u001b[39m.\u001b[39m_unwrap_value(response\u001b[39m.\u001b[39mget(\u001b[39m\"\u001b[39m\u001b[39mvalue\u001b[39m\u001b[39m\"\u001b[39m, \u001b[39mNone\u001b[39;00m))\n\u001b[1;32m    347\u001b[0m     \u001b[39mreturn\u001b[39;00m response\n",
      "File \u001b[0;32m~/venv/eda_venv/lib/python3.10/site-packages/selenium/webdriver/remote/errorhandler.py:229\u001b[0m, in \u001b[0;36mErrorHandler.check_response\u001b[0;34m(self, response)\u001b[0m\n\u001b[1;32m    227\u001b[0m         alert_text \u001b[39m=\u001b[39m value[\u001b[39m\"\u001b[39m\u001b[39malert\u001b[39m\u001b[39m\"\u001b[39m]\u001b[39m.\u001b[39mget(\u001b[39m\"\u001b[39m\u001b[39mtext\u001b[39m\u001b[39m\"\u001b[39m)\n\u001b[1;32m    228\u001b[0m     \u001b[39mraise\u001b[39;00m exception_class(message, screen, stacktrace, alert_text)  \u001b[39m# type: ignore[call-arg]  # mypy is not smart enough here\u001b[39;00m\n\u001b[0;32m--> 229\u001b[0m \u001b[39mraise\u001b[39;00m exception_class(message, screen, stacktrace)\n",
      "\u001b[0;31mNoSuchElementException\u001b[0m: Message: no such element: Unable to locate element: {\"method\":\"css selector\",\"selector\":\"[id=\"os_dtail_info\"]\"}\n  (Session info: chrome=116.0.5845.96); For documentation on this error, please visit: https://www.selenium.dev/documentation/webdriver/troubleshooting/errors#no-such-element-exception\nStacktrace:\n#0 0x560241514e23 <unknown>\n#1 0x56024123d7a7 <unknown>\n#2 0x56024127c1d3 <unknown>\n#3 0x56024127c2c1 <unknown>\n#4 0x5602412b7a04 <unknown>\n#5 0x56024129d03d <unknown>\n#6 0x5602412b5369 <unknown>\n#7 0x56024129cde3 <unknown>\n#8 0x560241270a7b <unknown>\n#9 0x56024127181e <unknown>\n#10 0x5602414d6638 <unknown>\n#11 0x5602414da507 <unknown>\n#12 0x5602414e4c4c <unknown>\n#13 0x5602414db136 <unknown>\n#14 0x5602414a99cf <unknown>\n#15 0x5602414feb98 <unknown>\n#16 0x5602414fed68 <unknown>\n#17 0x56024150dcb3 <unknown>\n#18 0x7fdc3ae94b43 <unknown>\n"
     ]
    }
   ],
   "source": [
    "oil = driver.find_element(By.ID, \"os_dtail_info\")\n",
    "\n",
    "oil_list = oil.find_elements(By.TAG_NAME,\"div\")"
   ]
  },
  {
   "cell_type": "code",
   "execution_count": 106,
   "metadata": {},
   "outputs": [
    {
     "name": "stdout",
     "output_type": "stream",
     "text": [
      "27\n"
     ]
    }
   ],
   "source": [
    "print(len(oil_list))"
   ]
  },
  {
   "cell_type": "code",
   "execution_count": 19,
   "metadata": {},
   "outputs": [
    {
     "name": "stdout",
     "output_type": "stream",
     "text": [
      "0 []\n"
     ]
    }
   ],
   "source": [
    "oil_names =[oil_names.get_attribute(\"alt\")for oil in oil_list]\n",
    "\n",
    "print(len(oil_names),oil_names)"
   ]
  },
  {
   "cell_type": "code",
   "execution_count": 29,
   "metadata": {},
   "outputs": [
    {
     "name": "stdout",
     "output_type": "stream",
     "text": [
      "25 ['강남구', '강동구', '강북구', '강서구', '관악구', '광진구', '구로구', '금천구', '노원구', '도봉구', '동대문구', '동작구', '마포구', '서대문구', '서초구', '성동구', '성북구', '송파구', '양천구', '영등포구', '용산구', '은평구', '종로구', '중구', '중랑구']\n"
     ]
    }
   ],
   "source": [
    "print(len(gu_names),gu_names)"
   ]
  },
  {
   "cell_type": "code",
   "execution_count": 30,
   "metadata": {},
   "outputs": [],
   "source": [
    "#25 ['강남구', '강동구', '강북구', '강서구', '관악구', '광진구', '구로구', '금천구', '노원구', '도봉구', '동대문구', '동작구', \n",
    "#'마포구', '서대문구', '서초구', '성동구', '성북구', '송파구', '양천구', '영등포구', '용산구', '은평구', '종로구', '중구', '중랑구']"
   ]
  },
  {
   "cell_type": "code",
   "execution_count": 92,
   "metadata": {},
   "outputs": [
    {
     "data": {
      "application/vnd.jupyter.widget-view+json": {
       "model_id": "60738cee720d4db9bd47c1dee7acb874",
       "version_major": 2,
       "version_minor": 0
      },
      "text/plain": [
       "  0%|          | 0/3 [00:00<?, ?it/s]"
      ]
     },
     "metadata": {},
     "output_type": "display_data"
    }
   ],
   "source": [
    "import time \n",
    "from tqdm.notebook import tqdm\n",
    "\n",
    "for gu_name in tqdm(gu_names[0]): #강남\n",
    "    gu = driver.find_element(By.ID, \"SIGUNGU_NM0\")\n",
    "    if gu_name == 1:\n",
    "        stop\n",
    "    gu.send_keys(gu_name)\n",
    "    driver.implicitly_wait(3)  "
   ]
  },
  {
   "cell_type": "code",
   "execution_count": null,
   "metadata": {},
   "outputs": [],
   "source": [
    "b = driver.find_element(By.ID,\"os_price1\")"
   ]
  },
  {
   "cell_type": "code",
   "execution_count": 96,
   "metadata": {},
   "outputs": [
    {
     "ename": "NameError",
     "evalue": "name 'b' is not defined",
     "output_type": "error",
     "traceback": [
      "\u001b[0;31m---------------------------------------------------------------------------\u001b[0m",
      "\u001b[0;31mNameError\u001b[0m                                 Traceback (most recent call last)",
      "Cell \u001b[0;32mIn[96], line 1\u001b[0m\n\u001b[0;32m----> 1\u001b[0m \u001b[39mlen\u001b[39m(\u001b[39mprint\u001b[39m(b))\n",
      "\u001b[0;31mNameError\u001b[0m: name 'b' is not defined"
     ]
    }
   ],
   "source": [
    "len(b.find_elements(By.TAG_NAME, \"\"))"
   ]
  },
  {
   "cell_type": "code",
   "execution_count": 69,
   "metadata": {},
   "outputs": [
    {
     "data": {
      "application/vnd.jupyter.widget-view+json": {
       "model_id": "4a1a7fc1d61c40aa9a40f3072a57907e",
       "version_major": 2,
       "version_minor": 0
      },
      "text/plain": [
       "  0%|          | 0/3 [00:00<?, ?it/s]"
      ]
     },
     "metadata": {},
     "output_type": "display_data"
    }
   ],
   "source": [
    "import time \n",
    "from tqdm.notebook import tqdm #강동\n",
    "\n",
    "for gu_name in tqdm(gu_names[1]): \n",
    "    gu = driver.find_element(By.ID, \"SIGUNGU_NM0\")\n",
    "    gu.send_keys(gu_name)\n",
    "    driver.implicitly_wait(2)  \n",
    "\n"
   ]
  },
  {
   "cell_type": "code",
   "execution_count": 70,
   "metadata": {},
   "outputs": [],
   "source": [
    "driver.find_element(By.CSS_SELECTOR,\"#body1 > tr:nth-child(1) > td.rlist > a\").click() #구로구 주유소"
   ]
  },
  {
   "cell_type": "code",
   "execution_count": null,
   "metadata": {},
   "outputs": [],
   "source": []
  },
  {
   "cell_type": "code",
   "execution_count": 93,
   "metadata": {},
   "outputs": [
    {
     "data": {
      "application/vnd.jupyter.widget-view+json": {
       "model_id": "2b07b1e3932a404793e464567e2958a8",
       "version_major": 2,
       "version_minor": 0
      },
      "text/plain": [
       "  0%|          | 0/3 [00:00<?, ?it/s]"
      ]
     },
     "metadata": {},
     "output_type": "display_data"
    }
   ],
   "source": [
    "import time \n",
    "from tqdm.notebook import tqdm\n",
    "\n",
    "for gu_name in tqdm(gu_names[2]): \n",
    "    gu = driver.find_element(By.ID, \"SIGUNGU_NM0\")\n",
    "    gu.send_keys(gu_name)\n",
    "    driver.implicitly_wait(0)  "
   ]
  },
  {
   "cell_type": "code",
   "execution_count": null,
   "metadata": {},
   "outputs": [],
   "source": [
    "driver.find_element(By.CSS_SELECTOR,\"#body1 > tr:nth-child(1) > td.rlist > a\").click()"
   ]
  },
  {
   "cell_type": "code",
   "execution_count": 94,
   "metadata": {},
   "outputs": [
    {
     "data": {
      "application/vnd.jupyter.widget-view+json": {
       "model_id": "bd6cf072ad6c49efb2d6a8d707f87431",
       "version_major": 2,
       "version_minor": 0
      },
      "text/plain": [
       "  0%|          | 0/3 [00:00<?, ?it/s]"
      ]
     },
     "metadata": {},
     "output_type": "display_data"
    }
   ],
   "source": [
    "import time \n",
    "from tqdm.notebook import tqdm\n",
    "\n",
    "for gu_name in tqdm(gu_names[-4]): \n",
    "    gu = driver.find_element(By.ID, \"SIGUNGU_NM0\")\n",
    "    gu.send_keys(gu_name)\n",
    "    driver.implicitly_wait(3)  "
   ]
  },
  {
   "cell_type": "code",
   "execution_count": 70,
   "metadata": {},
   "outputs": [],
   "source": [
    "driver.find_element(By.CSS_SELECTOR,\"#body1 > tr:nth-child(1) > td.rlist > a\").click() #은평구 보통 휘발유 1번\n"
   ]
  },
  {
   "cell_type": "code",
   "execution_count": 82,
   "metadata": {},
   "outputs": [
    {
     "name": "stdout",
     "output_type": "stream",
     "text": [
      "1\n",
      "2\n",
      "3\n",
      "4\n",
      "5\n",
      "6\n",
      "7\n",
      "8\n",
      "9\n",
      "10\n",
      "11\n",
      "12\n",
      "13\n",
      "14\n",
      "15\n"
     ]
    }
   ],
   "source": [
    "range(1,16)\n",
    "for i in range(1,16):\n",
    "    print(i)"
   ]
  },
  {
   "cell_type": "code",
   "execution_count": 114,
   "metadata": {},
   "outputs": [
    {
     "name": "stdout",
     "output_type": "stream",
     "text": [
      "주유소는 총 1 개 입니다\n",
      "주유소는 총 2 개 입니다\n",
      "주유소는 총 3 개 입니다\n",
      "주유소는 총 4 개 입니다\n",
      "주유소는 총 5 개 입니다\n",
      "주유소는 총 6 개 입니다\n",
      "주유소는 총 7 개 입니다\n",
      "주유소는 총 8 개 입니다\n",
      "주유소는 총 9 개 입니다\n",
      "주유소는 총 10 개 입니다\n",
      "주유소는 총 11 개 입니다\n",
      "주유소는 총 12 개 입니다\n",
      "주유소는 총 13 개 입니다\n",
      "주유소는 총 14 개 입니다\n",
      "주유소는 총 15 개 입니다\n",
      "주유소는 총 16 개 입니다\n",
      "은평구 주유소는 총 16 개 입니다\n"
     ]
    }
   ],
   "source": [
    "i = 0\n",
    "while i < 16:\n",
    "    i = i+1\n",
    "    print(f\"주유소는 총 {i} 개 입니다\")\n",
    "    if i == 16:\n",
    "     print(f\"은평구 주유소는 총 {i} 개 입니다\")\n",
    "    "
   ]
  },
  {
   "cell_type": "code",
   "execution_count": null,
   "metadata": {},
   "outputs": [],
   "source": [
    "    #body2 > tr:nth-child(1) > td.rlist > a"
   ]
  },
  {
   "cell_type": "code",
   "execution_count": null,
   "metadata": {},
   "outputs": [],
   "source": [
    "url= \"#body1 > tr:nth-child(1) > td.rlist > a\""
   ]
  },
  {
   "cell_type": "code",
   "execution_count": null,
   "metadata": {},
   "outputs": [],
   "source": [
    "#body1 > tr:nth-child(2) > td.rlist > a"
   ]
  },
  {
   "cell_type": "code",
   "execution_count": 46,
   "metadata": {},
   "outputs": [],
   "source": [
    "#rating = soup.find(class_=\"_panel_rating _tab_content\")\n",
    "# for idx, each in enumerate(rating.find_all(\"tr\")):\n",
    "   # print(\"[\"+ str(idx)+\"]\")\n",
    "   # print(\"maker : \" + each.find(\"strong\", class_=\"name\").string)\n",
    "   # print(\"price : \" + each.find(\"span\", class_=\"sub_text\").get_text())\n"
   ]
  },
  {
   "cell_type": "code",
   "execution_count": 30,
   "metadata": {},
   "outputs": [],
   "source": [
    "gas_loc = driver.find_element(By.ID, \"body1\")\n"
   ]
  },
  {
   "cell_type": "code",
   "execution_count": 31,
   "metadata": {},
   "outputs": [
    {
     "data": {
      "text/plain": [
       "14"
      ]
     },
     "execution_count": 31,
     "metadata": {},
     "output_type": "execute_result"
    }
   ],
   "source": [
    "len(gas_loc.find_elements(By.TAG_NAME, \"a\"))"
   ]
  },
  {
   "cell_type": "code",
   "execution_count": 32,
   "metadata": {},
   "outputs": [],
   "source": [
    "gas_list = gas_loc.find_elements(By.TAG_NAME, \"a\")"
   ]
  },
  {
   "cell_type": "code",
   "execution_count": 45,
   "metadata": {},
   "outputs": [
    {
     "data": {
      "text/plain": [
       "'HD현대오일뱅크㈜...'"
      ]
     },
     "execution_count": 45,
     "metadata": {},
     "output_type": "execute_result"
    }
   ],
   "source": [
    "gas_list[0].text"
   ]
  },
  {
   "cell_type": "code",
   "execution_count": 43,
   "metadata": {},
   "outputs": [],
   "source": [
    "\n",
    "gas_list[1].click()\n",
    "    "
   ]
  },
  {
   "cell_type": "code",
   "execution_count": 39,
   "metadata": {},
   "outputs": [
    {
     "name": "stdout",
     "output_type": "stream",
     "text": [
      "0\n",
      "1\n",
      "2\n"
     ]
    }
   ],
   "source": [
    "for i in range(3):\n",
    "    print(i)"
   ]
  },
  {
   "cell_type": "code",
   "execution_count": 44,
   "metadata": {},
   "outputs": [],
   "source": [
    "for i in range(14):\n",
    "    gas_list[i].click()\n",
    "    \n",
    "    "
   ]
  },
  {
   "cell_type": "code",
   "execution_count": null,
   "metadata": {},
   "outputs": [],
   "source": [
    "gas_list[1].click()"
   ]
  },
  {
   "cell_type": "code",
   "execution_count": 22,
   "metadata": {},
   "outputs": [
    {
     "name": "stdout",
     "output_type": "stream",
     "text": [
      "0\n",
      "1\n",
      "2\n",
      "3\n",
      "4\n",
      "5\n",
      "6\n",
      "7\n",
      "8\n",
      "9\n"
     ]
    }
   ],
   "source": [
    "list = [1,2,3,4,5,6,7,8,9,10]\n",
    "for i in range(len(list)):\n",
    "    print(i)"
   ]
  },
  {
   "cell_type": "code",
   "execution_count": null,
   "metadata": {},
   "outputs": [],
   "source": []
  }
 ],
 "metadata": {
  "kernelspec": {
   "display_name": "eda_venv",
   "language": "python",
   "name": "python3"
  },
  "language_info": {
   "codemirror_mode": {
    "name": "ipython",
    "version": 3
   },
   "file_extension": ".py",
   "mimetype": "text/x-python",
   "name": "python",
   "nbconvert_exporter": "python",
   "pygments_lexer": "ipython3",
   "version": "3.10.12"
  },
  "orig_nbformat": 4
 },
 "nbformat": 4,
 "nbformat_minor": 2
}
