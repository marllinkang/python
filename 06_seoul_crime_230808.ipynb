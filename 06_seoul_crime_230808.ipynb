{
 "cells": [
  {
   "cell_type": "markdown",
   "metadata": {},
   "source": [
    "# 서울시 범죄 현황 데이터 분석"
   ]
  },
  {
   "cell_type": "code",
   "execution_count": 1,
   "metadata": {},
   "outputs": [],
   "source": [
    "import pandas as pd \n",
    "import numpy as np "
   ]
  },
  {
   "cell_type": "markdown",
   "metadata": {},
   "source": [
    "## 01. 데이터 불러오기"
   ]
  },
  {
   "cell_type": "code",
   "execution_count": 6,
   "metadata": {},
   "outputs": [
    {
     "data": {
      "text/html": [
       "<div>\n",
       "<style scoped>\n",
       "    .dataframe tbody tr th:only-of-type {\n",
       "        vertical-align: middle;\n",
       "    }\n",
       "\n",
       "    .dataframe tbody tr th {\n",
       "        vertical-align: top;\n",
       "    }\n",
       "\n",
       "    .dataframe thead th {\n",
       "        text-align: right;\n",
       "    }\n",
       "</style>\n",
       "<table border=\"1\" class=\"dataframe\">\n",
       "  <thead>\n",
       "    <tr style=\"text-align: right;\">\n",
       "      <th></th>\n",
       "      <th>구분</th>\n",
       "      <th>죄종</th>\n",
       "      <th>발생검거</th>\n",
       "      <th>건수</th>\n",
       "    </tr>\n",
       "  </thead>\n",
       "  <tbody>\n",
       "    <tr>\n",
       "      <th>0</th>\n",
       "      <td>중부</td>\n",
       "      <td>살인</td>\n",
       "      <td>발생</td>\n",
       "      <td>2.0</td>\n",
       "    </tr>\n",
       "    <tr>\n",
       "      <th>1</th>\n",
       "      <td>중부</td>\n",
       "      <td>살인</td>\n",
       "      <td>검거</td>\n",
       "      <td>2.0</td>\n",
       "    </tr>\n",
       "    <tr>\n",
       "      <th>2</th>\n",
       "      <td>중부</td>\n",
       "      <td>강도</td>\n",
       "      <td>발생</td>\n",
       "      <td>3.0</td>\n",
       "    </tr>\n",
       "    <tr>\n",
       "      <th>3</th>\n",
       "      <td>중부</td>\n",
       "      <td>강도</td>\n",
       "      <td>검거</td>\n",
       "      <td>3.0</td>\n",
       "    </tr>\n",
       "    <tr>\n",
       "      <th>4</th>\n",
       "      <td>중부</td>\n",
       "      <td>강간</td>\n",
       "      <td>발생</td>\n",
       "      <td>141.0</td>\n",
       "    </tr>\n",
       "  </tbody>\n",
       "</table>\n",
       "</div>"
      ],
      "text/plain": [
       "   구분  죄종 발생검거     건수\n",
       "0  중부  살인   발생    2.0\n",
       "1  중부  살인   검거    2.0\n",
       "2  중부  강도   발생    3.0\n",
       "3  중부  강도   검거    3.0\n",
       "4  중부  강간   발생  141.0"
      ]
     },
     "execution_count": 6,
     "metadata": {},
     "output_type": "execute_result"
    }
   ],
   "source": [
    "crime_raw_data = pd.read_csv('../data/02_seoul_crime_2016.csv', encoding='euc-kr')\n",
    "crime_raw_data.head()"
   ]
  },
  {
   "cell_type": "markdown",
   "metadata": {},
   "source": [
    "## 02. 데이터 첫 번째 전처리 \n",
    "- null, nan, NaN, None \n",
    "- 누락값 데이터 전처리"
   ]
  },
  {
   "cell_type": "code",
   "execution_count": 7,
   "metadata": {},
   "outputs": [
    {
     "name": "stdout",
     "output_type": "stream",
     "text": [
      "<class 'pandas.core.frame.DataFrame'>\n",
      "RangeIndex: 65534 entries, 0 to 65533\n",
      "Data columns (total 4 columns):\n",
      " #   Column  Non-Null Count  Dtype  \n",
      "---  ------  --------------  -----  \n",
      " 0   구분      310 non-null    object \n",
      " 1   죄종      310 non-null    object \n",
      " 2   발생검거    310 non-null    object \n",
      " 3   건수      310 non-null    float64\n",
      "dtypes: float64(1), object(3)\n",
      "memory usage: 2.0+ MB\n"
     ]
    }
   ],
   "source": [
    "crime_raw_data.info()"
   ]
  },
  {
   "cell_type": "code",
   "execution_count": 8,
   "metadata": {},
   "outputs": [
    {
     "data": {
      "text/html": [
       "<div>\n",
       "<style scoped>\n",
       "    .dataframe tbody tr th:only-of-type {\n",
       "        vertical-align: middle;\n",
       "    }\n",
       "\n",
       "    .dataframe tbody tr th {\n",
       "        vertical-align: top;\n",
       "    }\n",
       "\n",
       "    .dataframe thead th {\n",
       "        text-align: right;\n",
       "    }\n",
       "</style>\n",
       "<table border=\"1\" class=\"dataframe\">\n",
       "  <thead>\n",
       "    <tr style=\"text-align: right;\">\n",
       "      <th></th>\n",
       "      <th>구분</th>\n",
       "      <th>죄종</th>\n",
       "      <th>발생검거</th>\n",
       "      <th>건수</th>\n",
       "    </tr>\n",
       "  </thead>\n",
       "  <tbody>\n",
       "    <tr>\n",
       "      <th>65529</th>\n",
       "      <td>NaN</td>\n",
       "      <td>NaN</td>\n",
       "      <td>NaN</td>\n",
       "      <td>NaN</td>\n",
       "    </tr>\n",
       "    <tr>\n",
       "      <th>65530</th>\n",
       "      <td>NaN</td>\n",
       "      <td>NaN</td>\n",
       "      <td>NaN</td>\n",
       "      <td>NaN</td>\n",
       "    </tr>\n",
       "    <tr>\n",
       "      <th>65531</th>\n",
       "      <td>NaN</td>\n",
       "      <td>NaN</td>\n",
       "      <td>NaN</td>\n",
       "      <td>NaN</td>\n",
       "    </tr>\n",
       "    <tr>\n",
       "      <th>65532</th>\n",
       "      <td>NaN</td>\n",
       "      <td>NaN</td>\n",
       "      <td>NaN</td>\n",
       "      <td>NaN</td>\n",
       "    </tr>\n",
       "    <tr>\n",
       "      <th>65533</th>\n",
       "      <td>NaN</td>\n",
       "      <td>NaN</td>\n",
       "      <td>NaN</td>\n",
       "      <td>NaN</td>\n",
       "    </tr>\n",
       "  </tbody>\n",
       "</table>\n",
       "</div>"
      ],
      "text/plain": [
       "        구분   죄종 발생검거  건수\n",
       "65529  NaN  NaN  NaN NaN\n",
       "65530  NaN  NaN  NaN NaN\n",
       "65531  NaN  NaN  NaN NaN\n",
       "65532  NaN  NaN  NaN NaN\n",
       "65533  NaN  NaN  NaN NaN"
      ]
     },
     "execution_count": 8,
     "metadata": {},
     "output_type": "execute_result"
    }
   ],
   "source": [
    "crime_raw_data.tail()"
   ]
  },
  {
   "cell_type": "code",
   "execution_count": 16,
   "metadata": {},
   "outputs": [
    {
     "data": {
      "text/plain": [
       "array(['살인', '강도', '강간', '절도', '폭력'], dtype=object)"
      ]
     },
     "execution_count": 16,
     "metadata": {},
     "output_type": "execute_result"
    }
   ],
   "source": [
    "crime_raw_data['죄종'].unique()"
   ]
  },
  {
   "cell_type": "code",
   "execution_count": 12,
   "metadata": {},
   "outputs": [
    {
     "data": {
      "text/html": [
       "<div>\n",
       "<style scoped>\n",
       "    .dataframe tbody tr th:only-of-type {\n",
       "        vertical-align: middle;\n",
       "    }\n",
       "\n",
       "    .dataframe tbody tr th {\n",
       "        vertical-align: top;\n",
       "    }\n",
       "\n",
       "    .dataframe thead th {\n",
       "        text-align: right;\n",
       "    }\n",
       "</style>\n",
       "<table border=\"1\" class=\"dataframe\">\n",
       "  <thead>\n",
       "    <tr style=\"text-align: right;\">\n",
       "      <th></th>\n",
       "      <th>구분</th>\n",
       "      <th>죄종</th>\n",
       "      <th>발생검거</th>\n",
       "      <th>건수</th>\n",
       "    </tr>\n",
       "  </thead>\n",
       "  <tbody>\n",
       "    <tr>\n",
       "      <th>310</th>\n",
       "      <td>NaN</td>\n",
       "      <td>NaN</td>\n",
       "      <td>NaN</td>\n",
       "      <td>NaN</td>\n",
       "    </tr>\n",
       "    <tr>\n",
       "      <th>311</th>\n",
       "      <td>NaN</td>\n",
       "      <td>NaN</td>\n",
       "      <td>NaN</td>\n",
       "      <td>NaN</td>\n",
       "    </tr>\n",
       "    <tr>\n",
       "      <th>312</th>\n",
       "      <td>NaN</td>\n",
       "      <td>NaN</td>\n",
       "      <td>NaN</td>\n",
       "      <td>NaN</td>\n",
       "    </tr>\n",
       "    <tr>\n",
       "      <th>313</th>\n",
       "      <td>NaN</td>\n",
       "      <td>NaN</td>\n",
       "      <td>NaN</td>\n",
       "      <td>NaN</td>\n",
       "    </tr>\n",
       "    <tr>\n",
       "      <th>314</th>\n",
       "      <td>NaN</td>\n",
       "      <td>NaN</td>\n",
       "      <td>NaN</td>\n",
       "      <td>NaN</td>\n",
       "    </tr>\n",
       "    <tr>\n",
       "      <th>...</th>\n",
       "      <td>...</td>\n",
       "      <td>...</td>\n",
       "      <td>...</td>\n",
       "      <td>...</td>\n",
       "    </tr>\n",
       "    <tr>\n",
       "      <th>65529</th>\n",
       "      <td>NaN</td>\n",
       "      <td>NaN</td>\n",
       "      <td>NaN</td>\n",
       "      <td>NaN</td>\n",
       "    </tr>\n",
       "    <tr>\n",
       "      <th>65530</th>\n",
       "      <td>NaN</td>\n",
       "      <td>NaN</td>\n",
       "      <td>NaN</td>\n",
       "      <td>NaN</td>\n",
       "    </tr>\n",
       "    <tr>\n",
       "      <th>65531</th>\n",
       "      <td>NaN</td>\n",
       "      <td>NaN</td>\n",
       "      <td>NaN</td>\n",
       "      <td>NaN</td>\n",
       "    </tr>\n",
       "    <tr>\n",
       "      <th>65532</th>\n",
       "      <td>NaN</td>\n",
       "      <td>NaN</td>\n",
       "      <td>NaN</td>\n",
       "      <td>NaN</td>\n",
       "    </tr>\n",
       "    <tr>\n",
       "      <th>65533</th>\n",
       "      <td>NaN</td>\n",
       "      <td>NaN</td>\n",
       "      <td>NaN</td>\n",
       "      <td>NaN</td>\n",
       "    </tr>\n",
       "  </tbody>\n",
       "</table>\n",
       "<p>65224 rows × 4 columns</p>\n",
       "</div>"
      ],
      "text/plain": [
       "        구분   죄종 발생검거  건수\n",
       "310    NaN  NaN  NaN NaN\n",
       "311    NaN  NaN  NaN NaN\n",
       "312    NaN  NaN  NaN NaN\n",
       "313    NaN  NaN  NaN NaN\n",
       "314    NaN  NaN  NaN NaN\n",
       "...    ...  ...  ...  ..\n",
       "65529  NaN  NaN  NaN NaN\n",
       "65530  NaN  NaN  NaN NaN\n",
       "65531  NaN  NaN  NaN NaN\n",
       "65532  NaN  NaN  NaN NaN\n",
       "65533  NaN  NaN  NaN NaN\n",
       "\n",
       "[65224 rows x 4 columns]"
      ]
     },
     "execution_count": 12,
     "metadata": {},
     "output_type": "execute_result"
    }
   ],
   "source": [
    "crime_raw_data[crime_raw_data['죄종'].isnull()]"
   ]
  },
  {
   "cell_type": "code",
   "execution_count": 14,
   "metadata": {},
   "outputs": [],
   "source": [
    "crime_raw_data = crime_raw_data[crime_raw_data['죄종'].notnull()]"
   ]
  },
  {
   "cell_type": "code",
   "execution_count": 15,
   "metadata": {},
   "outputs": [
    {
     "name": "stdout",
     "output_type": "stream",
     "text": [
      "<class 'pandas.core.frame.DataFrame'>\n",
      "Index: 310 entries, 0 to 309\n",
      "Data columns (total 4 columns):\n",
      " #   Column  Non-Null Count  Dtype  \n",
      "---  ------  --------------  -----  \n",
      " 0   구분      310 non-null    object \n",
      " 1   죄종      310 non-null    object \n",
      " 2   발생검거    310 non-null    object \n",
      " 3   건수      310 non-null    float64\n",
      "dtypes: float64(1), object(3)\n",
      "memory usage: 12.1+ KB\n"
     ]
    }
   ],
   "source": [
    "crime_raw_data.info()"
   ]
  },
  {
   "cell_type": "markdown",
   "metadata": {},
   "source": [
    "## 03. 데이터 전처리 두 번째\n",
    "- 데이터 프레임 형태 변경\n",
    "- 다중 컬럼 수정"
   ]
  },
  {
   "cell_type": "code",
   "execution_count": 20,
   "metadata": {},
   "outputs": [],
   "source": [
    "crime_station = pd.pivot_table(\n",
    "    data=crime_raw_data, \n",
    "    index='구분', \n",
    "    columns=['죄종', '발생검거']\n",
    "    )"
   ]
  },
  {
   "cell_type": "code",
   "execution_count": 21,
   "metadata": {},
   "outputs": [
    {
     "data": {
      "text/html": [
       "<div>\n",
       "<style scoped>\n",
       "    .dataframe tbody tr th:only-of-type {\n",
       "        vertical-align: middle;\n",
       "    }\n",
       "\n",
       "    .dataframe tbody tr th {\n",
       "        vertical-align: top;\n",
       "    }\n",
       "\n",
       "    .dataframe thead tr th {\n",
       "        text-align: left;\n",
       "    }\n",
       "\n",
       "    .dataframe thead tr:last-of-type th {\n",
       "        text-align: right;\n",
       "    }\n",
       "</style>\n",
       "<table border=\"1\" class=\"dataframe\">\n",
       "  <thead>\n",
       "    <tr>\n",
       "      <th></th>\n",
       "      <th colspan=\"10\" halign=\"left\">건수</th>\n",
       "    </tr>\n",
       "    <tr>\n",
       "      <th>죄종</th>\n",
       "      <th colspan=\"2\" halign=\"left\">강간</th>\n",
       "      <th colspan=\"2\" halign=\"left\">강도</th>\n",
       "      <th colspan=\"2\" halign=\"left\">살인</th>\n",
       "      <th colspan=\"2\" halign=\"left\">절도</th>\n",
       "      <th colspan=\"2\" halign=\"left\">폭력</th>\n",
       "    </tr>\n",
       "    <tr>\n",
       "      <th>발생검거</th>\n",
       "      <th>검거</th>\n",
       "      <th>발생</th>\n",
       "      <th>검거</th>\n",
       "      <th>발생</th>\n",
       "      <th>검거</th>\n",
       "      <th>발생</th>\n",
       "      <th>검거</th>\n",
       "      <th>발생</th>\n",
       "      <th>검거</th>\n",
       "      <th>발생</th>\n",
       "    </tr>\n",
       "    <tr>\n",
       "      <th>구분</th>\n",
       "      <th></th>\n",
       "      <th></th>\n",
       "      <th></th>\n",
       "      <th></th>\n",
       "      <th></th>\n",
       "      <th></th>\n",
       "      <th></th>\n",
       "      <th></th>\n",
       "      <th></th>\n",
       "      <th></th>\n",
       "    </tr>\n",
       "  </thead>\n",
       "  <tbody>\n",
       "    <tr>\n",
       "      <th>강남</th>\n",
       "      <td>269.0</td>\n",
       "      <td>339.0</td>\n",
       "      <td>26.0</td>\n",
       "      <td>24.0</td>\n",
       "      <td>3.0</td>\n",
       "      <td>3.0</td>\n",
       "      <td>1129.0</td>\n",
       "      <td>2438.0</td>\n",
       "      <td>2096.0</td>\n",
       "      <td>2336.0</td>\n",
       "    </tr>\n",
       "  </tbody>\n",
       "</table>\n",
       "</div>"
      ],
      "text/plain": [
       "         건수                                                             \n",
       "죄종       강간           강도         살인           절도              폭력        \n",
       "발생검거     검거     발생    검거    발생   검거   발생      검거      발생      검거      발생\n",
       "구분                                                                      \n",
       "강남    269.0  339.0  26.0  24.0  3.0  3.0  1129.0  2438.0  2096.0  2336.0"
      ]
     },
     "execution_count": 21,
     "metadata": {},
     "output_type": "execute_result"
    }
   ],
   "source": [
    "crime_station.head(1)"
   ]
  },
  {
   "cell_type": "code",
   "execution_count": 24,
   "metadata": {},
   "outputs": [],
   "source": [
    "# 3줄의 컬럼 중, '건수' 컬럼 삭제\n",
    "crime_station.columns = crime_station.columns.droplevel(0)"
   ]
  },
  {
   "cell_type": "markdown",
   "metadata": {},
   "source": [
    "#### 발생한 검거한 강도 건수 상위 5개"
   ]
  },
  {
   "cell_type": "code",
   "execution_count": 32,
   "metadata": {},
   "outputs": [
    {
     "data": {
      "text/plain": [
       "구분\n",
       "강남     26.0\n",
       "수서     16.0\n",
       "중랑     14.0\n",
       "영등포    14.0\n",
       "구로     13.0\n",
       "Name: (강도, 검거), dtype: float64"
      ]
     },
     "execution_count": 32,
     "metadata": {},
     "output_type": "execute_result"
    }
   ],
   "source": [
    "crime_station['강도', '검거'].sort_values(ascending=False).head()"
   ]
  },
  {
   "cell_type": "code",
   "execution_count": 33,
   "metadata": {},
   "outputs": [
    {
     "data": {
      "text/plain": [
       "구분\n",
       "영등포    13.0\n",
       "송파      9.0\n",
       "강서      9.0\n",
       "구로      9.0\n",
       "중랑      8.0\n",
       "Name: (살인, 발생), dtype: float64"
      ]
     },
     "execution_count": 33,
     "metadata": {},
     "output_type": "execute_result"
    }
   ],
   "source": [
    "# 살인이 발생한 건수 상위 5개\n",
    "crime_station['살인', '발생'].sort_values(ascending=False).head()"
   ]
  },
  {
   "cell_type": "code",
   "execution_count": 36,
   "metadata": {},
   "outputs": [
    {
     "data": {
      "text/plain": [
       "2438.0"
      ]
     },
     "execution_count": 36,
     "metadata": {},
     "output_type": "execute_result"
    }
   ],
   "source": [
    "# 그러면, 강남경찰에서 발생한 절도 사건 건수\n",
    "crime_station.loc['강남', ('절도', '발생')]"
   ]
  },
  {
   "cell_type": "code",
   "execution_count": 38,
   "metadata": {},
   "outputs": [
    {
     "data": {
      "text/plain": [
       "'강도검거'"
      ]
     },
     "execution_count": 38,
     "metadata": {},
     "output_type": "execute_result"
    }
   ],
   "source": [
    "'강도' + '검거'"
   ]
  },
  {
   "cell_type": "code",
   "execution_count": 37,
   "metadata": {},
   "outputs": [
    {
     "data": {
      "text/html": [
       "<div>\n",
       "<style scoped>\n",
       "    .dataframe tbody tr th:only-of-type {\n",
       "        vertical-align: middle;\n",
       "    }\n",
       "\n",
       "    .dataframe tbody tr th {\n",
       "        vertical-align: top;\n",
       "    }\n",
       "\n",
       "    .dataframe thead tr th {\n",
       "        text-align: left;\n",
       "    }\n",
       "\n",
       "    .dataframe thead tr:last-of-type th {\n",
       "        text-align: right;\n",
       "    }\n",
       "</style>\n",
       "<table border=\"1\" class=\"dataframe\">\n",
       "  <thead>\n",
       "    <tr>\n",
       "      <th>죄종</th>\n",
       "      <th colspan=\"2\" halign=\"left\">강간</th>\n",
       "      <th colspan=\"2\" halign=\"left\">강도</th>\n",
       "      <th colspan=\"2\" halign=\"left\">살인</th>\n",
       "      <th colspan=\"2\" halign=\"left\">절도</th>\n",
       "      <th colspan=\"2\" halign=\"left\">폭력</th>\n",
       "    </tr>\n",
       "    <tr>\n",
       "      <th>발생검거</th>\n",
       "      <th>검거</th>\n",
       "      <th>발생</th>\n",
       "      <th>검거</th>\n",
       "      <th>발생</th>\n",
       "      <th>검거</th>\n",
       "      <th>발생</th>\n",
       "      <th>검거</th>\n",
       "      <th>발생</th>\n",
       "      <th>검거</th>\n",
       "      <th>발생</th>\n",
       "    </tr>\n",
       "    <tr>\n",
       "      <th>구분</th>\n",
       "      <th></th>\n",
       "      <th></th>\n",
       "      <th></th>\n",
       "      <th></th>\n",
       "      <th></th>\n",
       "      <th></th>\n",
       "      <th></th>\n",
       "      <th></th>\n",
       "      <th></th>\n",
       "      <th></th>\n",
       "    </tr>\n",
       "  </thead>\n",
       "  <tbody>\n",
       "    <tr>\n",
       "      <th>강남</th>\n",
       "      <td>269.0</td>\n",
       "      <td>339.0</td>\n",
       "      <td>26.0</td>\n",
       "      <td>24.0</td>\n",
       "      <td>3.0</td>\n",
       "      <td>3.0</td>\n",
       "      <td>1129.0</td>\n",
       "      <td>2438.0</td>\n",
       "      <td>2096.0</td>\n",
       "      <td>2336.0</td>\n",
       "    </tr>\n",
       "  </tbody>\n",
       "</table>\n",
       "</div>"
      ],
      "text/plain": [
       "죄종       강간           강도         살인           절도              폭력        \n",
       "발생검거     검거     발생    검거    발생   검거   발생      검거      발생      검거      발생\n",
       "구분                                                                      \n",
       "강남    269.0  339.0  26.0  24.0  3.0  3.0  1129.0  2438.0  2096.0  2336.0"
      ]
     },
     "execution_count": 37,
     "metadata": {},
     "output_type": "execute_result"
    }
   ],
   "source": [
    "crime_station.head(1)"
   ]
  },
  {
   "cell_type": "code",
   "execution_count": 41,
   "metadata": {},
   "outputs": [],
   "source": [
    "tmp = \n",
    "crime_station.columns.get_level_values(0) + \n",
    "crime_station.columns.get_level_values(1)"
   ]
  },
  {
   "cell_type": "code",
   "execution_count": 43,
   "metadata": {},
   "outputs": [
    {
     "data": {
      "text/plain": [
       "(10, 10)"
      ]
     },
     "execution_count": 43,
     "metadata": {},
     "output_type": "execute_result"
    }
   ],
   "source": [
    "# 다중 컬럼 \n",
    "# 기존 컬럼 길이와 새로운 컬럼 길이가 같은지 확인\n",
    "len(crime_station.columns), len(tmp)"
   ]
  },
  {
   "cell_type": "code",
   "execution_count": 44,
   "metadata": {},
   "outputs": [],
   "source": [
    "# 기존 컬럼을 새로운 컬럼으로 덮어 씌움\n",
    "crime_station.columns = tmp"
   ]
  },
  {
   "cell_type": "code",
   "execution_count": 45,
   "metadata": {},
   "outputs": [
    {
     "data": {
      "text/html": [
       "<div>\n",
       "<style scoped>\n",
       "    .dataframe tbody tr th:only-of-type {\n",
       "        vertical-align: middle;\n",
       "    }\n",
       "\n",
       "    .dataframe tbody tr th {\n",
       "        vertical-align: top;\n",
       "    }\n",
       "\n",
       "    .dataframe thead th {\n",
       "        text-align: right;\n",
       "    }\n",
       "</style>\n",
       "<table border=\"1\" class=\"dataframe\">\n",
       "  <thead>\n",
       "    <tr style=\"text-align: right;\">\n",
       "      <th></th>\n",
       "      <th>강간검거</th>\n",
       "      <th>강간발생</th>\n",
       "      <th>강도검거</th>\n",
       "      <th>강도발생</th>\n",
       "      <th>살인검거</th>\n",
       "      <th>살인발생</th>\n",
       "      <th>절도검거</th>\n",
       "      <th>절도발생</th>\n",
       "      <th>폭력검거</th>\n",
       "      <th>폭력발생</th>\n",
       "    </tr>\n",
       "    <tr>\n",
       "      <th>구분</th>\n",
       "      <th></th>\n",
       "      <th></th>\n",
       "      <th></th>\n",
       "      <th></th>\n",
       "      <th></th>\n",
       "      <th></th>\n",
       "      <th></th>\n",
       "      <th></th>\n",
       "      <th></th>\n",
       "      <th></th>\n",
       "    </tr>\n",
       "  </thead>\n",
       "  <tbody>\n",
       "    <tr>\n",
       "      <th>강남</th>\n",
       "      <td>269.0</td>\n",
       "      <td>339.0</td>\n",
       "      <td>26.0</td>\n",
       "      <td>24.0</td>\n",
       "      <td>3.0</td>\n",
       "      <td>3.0</td>\n",
       "      <td>1129.0</td>\n",
       "      <td>2438.0</td>\n",
       "      <td>2096.0</td>\n",
       "      <td>2336.0</td>\n",
       "    </tr>\n",
       "  </tbody>\n",
       "</table>\n",
       "</div>"
      ],
      "text/plain": [
       "     강간검거   강간발생  강도검거  강도발생  살인검거  살인발생    절도검거    절도발생    폭력검거    폭력발생\n",
       "구분                                                                      \n",
       "강남  269.0  339.0  26.0  24.0   3.0   3.0  1129.0  2438.0  2096.0  2336.0"
      ]
     },
     "execution_count": 45,
     "metadata": {},
     "output_type": "execute_result"
    }
   ],
   "source": [
    "# 다중컬럼을 단일컬럼으로 정리\n",
    "crime_station.head(1)"
   ]
  },
  {
   "cell_type": "code",
   "execution_count": 46,
   "metadata": {},
   "outputs": [],
   "source": [
    "# 컬럼 이름 변경\n",
    "\n",
    "crime_station.rename(columns={\n",
    "    '강간검거': '성범죄검거',\n",
    "    '강간발생': '성범죄발생'}, inplace=True)"
   ]
  },
  {
   "cell_type": "code",
   "execution_count": 47,
   "metadata": {},
   "outputs": [
    {
     "data": {
      "text/html": [
       "<div>\n",
       "<style scoped>\n",
       "    .dataframe tbody tr th:only-of-type {\n",
       "        vertical-align: middle;\n",
       "    }\n",
       "\n",
       "    .dataframe tbody tr th {\n",
       "        vertical-align: top;\n",
       "    }\n",
       "\n",
       "    .dataframe thead th {\n",
       "        text-align: right;\n",
       "    }\n",
       "</style>\n",
       "<table border=\"1\" class=\"dataframe\">\n",
       "  <thead>\n",
       "    <tr style=\"text-align: right;\">\n",
       "      <th></th>\n",
       "      <th>성범죄검거</th>\n",
       "      <th>성범죄발생</th>\n",
       "      <th>강도검거</th>\n",
       "      <th>강도발생</th>\n",
       "      <th>살인검거</th>\n",
       "      <th>살인발생</th>\n",
       "      <th>절도검거</th>\n",
       "      <th>절도발생</th>\n",
       "      <th>폭력검거</th>\n",
       "      <th>폭력발생</th>\n",
       "    </tr>\n",
       "    <tr>\n",
       "      <th>구분</th>\n",
       "      <th></th>\n",
       "      <th></th>\n",
       "      <th></th>\n",
       "      <th></th>\n",
       "      <th></th>\n",
       "      <th></th>\n",
       "      <th></th>\n",
       "      <th></th>\n",
       "      <th></th>\n",
       "      <th></th>\n",
       "    </tr>\n",
       "  </thead>\n",
       "  <tbody>\n",
       "    <tr>\n",
       "      <th>강남</th>\n",
       "      <td>269.0</td>\n",
       "      <td>339.0</td>\n",
       "      <td>26.0</td>\n",
       "      <td>24.0</td>\n",
       "      <td>3.0</td>\n",
       "      <td>3.0</td>\n",
       "      <td>1129.0</td>\n",
       "      <td>2438.0</td>\n",
       "      <td>2096.0</td>\n",
       "      <td>2336.0</td>\n",
       "    </tr>\n",
       "  </tbody>\n",
       "</table>\n",
       "</div>"
      ],
      "text/plain": [
       "    성범죄검거  성범죄발생  강도검거  강도발생  살인검거  살인발생    절도검거    절도발생    폭력검거    폭력발생\n",
       "구분                                                                      \n",
       "강남  269.0  339.0  26.0  24.0   3.0   3.0  1129.0  2438.0  2096.0  2336.0"
      ]
     },
     "execution_count": 47,
     "metadata": {},
     "output_type": "execute_result"
    }
   ],
   "source": [
    "crime_station.head(1)"
   ]
  },
  {
   "cell_type": "markdown",
   "metadata": {},
   "source": [
    "## 04. 데이터 세 번째 전처리\n",
    "- 새로운 데이터 프레임 생성\n",
    "- '구' 컬럼을 생성 후 인덱스 설정"
   ]
  },
  {
   "cell_type": "markdown",
   "metadata": {},
   "source": [
    "---"
   ]
  },
  {
   "cell_type": "code",
   "execution_count": 51,
   "metadata": {},
   "outputs": [],
   "source": [
    "dict_sample = {\n",
    "    'Name': 'yongha',\n",
    "    'Age': 18,\n",
    "    'Class': 'ROS'\n",
    "}"
   ]
  },
  {
   "cell_type": "code",
   "execution_count": 52,
   "metadata": {},
   "outputs": [
    {
     "data": {
      "text/plain": [
       "{'Name': 'yongha', 'Age': 18, 'Class': 'ROS'}"
      ]
     },
     "execution_count": 52,
     "metadata": {},
     "output_type": "execute_result"
    }
   ],
   "source": [
    "dict_sample"
   ]
  },
  {
   "cell_type": "code",
   "execution_count": 53,
   "metadata": {},
   "outputs": [
    {
     "data": {
      "text/plain": [
       "dict_keys(['Name', 'Age', 'Class'])"
      ]
     },
     "execution_count": 53,
     "metadata": {},
     "output_type": "execute_result"
    }
   ],
   "source": [
    "dict_sample.keys()"
   ]
  },
  {
   "cell_type": "code",
   "execution_count": 54,
   "metadata": {},
   "outputs": [
    {
     "data": {
      "text/plain": [
       "dict_values(['yongha', 18, 'ROS'])"
      ]
     },
     "execution_count": 54,
     "metadata": {},
     "output_type": "execute_result"
    }
   ],
   "source": [
    "dict_sample.values()"
   ]
  },
  {
   "cell_type": "code",
   "execution_count": 55,
   "metadata": {},
   "outputs": [
    {
     "data": {
      "text/plain": [
       "dict_items([('Name', 'yongha'), ('Age', 18), ('Class', 'ROS')])"
      ]
     },
     "execution_count": 55,
     "metadata": {},
     "output_type": "execute_result"
    }
   ],
   "source": [
    "dict_sample.items()"
   ]
  },
  {
   "cell_type": "code",
   "execution_count": 56,
   "metadata": {},
   "outputs": [
    {
     "name": "stdout",
     "output_type": "stream",
     "text": [
      "Name yongha\n",
      "Age 18\n",
      "Class ROS\n"
     ]
    }
   ],
   "source": [
    "for key, val in dict_sample.items():\n",
    "    print(key, val)"
   ]
  },
  {
   "cell_type": "code",
   "execution_count": 57,
   "metadata": {},
   "outputs": [
    {
     "data": {
      "text/plain": [
       "31"
      ]
     },
     "execution_count": 57,
     "metadata": {},
     "output_type": "execute_result"
    }
   ],
   "source": [
    "len(crime_station.index)"
   ]
  },
  {
   "cell_type": "code",
   "execution_count": 62,
   "metadata": {},
   "outputs": [],
   "source": [
    "real_gu = {\n",
    "    \"종로구\":[\"종로\", \"혜화\",], \"중구\":[\"남대문\", \"중부\"],\n",
    "    \"용산구\":[\"용산\"], \"성동구\":[\"성동\"],\n",
    "    \"광진구\":[\"광진\"], \"동대문구\":[\"동대문\"],\n",
    "    \"중랑구\":[\"중랑\"], \"성북구\":[\"성북\", \"종암\"],\n",
    "    \"강북구\":[\"강북\"], \"도봉구\":[\"도봉\"],\n",
    "    \"노원구\":[\"노원\"], \"은평구\":[\"서부\", \"은평\"],\n",
    "    \"서대문구\":[\"서대문\"], \"마포구\":[\"마포\"],\n",
    "    \"양천구\":[\"양천\"], \"강서구\":[\"강서\"],\n",
    "    \"구로구\":[\"구로\"], \"금천구\":[\"금천\"],\n",
    "    \"영등포구\":[\"영등포\"], '동작구':['동작'],\n",
    "    '관악구':['관악'], '서초구':['방배', '서초'],\n",
    "    '강남구':['강남', '수서'], '송파구':['송파'],\n",
    "    '강동구':['강동']\n",
    "}"
   ]
  },
  {
   "cell_type": "code",
   "execution_count": 73,
   "metadata": {},
   "outputs": [],
   "source": [
    "tmp_gu = [] \n",
    "\n",
    "for station in crime_station.index:\n",
    "    for gu_name, station_name in real_gu.items():\n",
    "        if station in station_name:\n",
    "            tmp_gu.append(gu_name)"
   ]
  },
  {
   "cell_type": "code",
   "execution_count": 75,
   "metadata": {},
   "outputs": [
    {
     "data": {
      "text/plain": [
       "31"
      ]
     },
     "execution_count": 75,
     "metadata": {},
     "output_type": "execute_result"
    }
   ],
   "source": [
    "len(tmp_gu)"
   ]
  },
  {
   "cell_type": "code",
   "execution_count": 78,
   "metadata": {},
   "outputs": [],
   "source": [
    "tmp_gu = [\n",
    "    gu_name for station in crime_station.index \n",
    "    for gu_name, station_name in real_gu.items() \n",
    "    if station in station_name\n",
    "    ]"
   ]
  },
  {
   "cell_type": "code",
   "execution_count": 80,
   "metadata": {},
   "outputs": [],
   "source": [
    "crime_station['구'] = tmp_gu"
   ]
  },
  {
   "cell_type": "code",
   "execution_count": 85,
   "metadata": {},
   "outputs": [],
   "source": [
    "# 구별 범죄 건수 집계 데이터 프레임\n",
    "crime_gu = pd.pivot_table(data=crime_station, index='구', aggfunc=np.sum)"
   ]
  },
  {
   "cell_type": "code",
   "execution_count": 91,
   "metadata": {},
   "outputs": [
    {
     "data": {
      "text/plain": [
       "구\n",
       "영등포구    13.0\n",
       "강서구      9.0\n",
       "구로구      9.0\n",
       "송파구      9.0\n",
       "중랑구      8.0\n",
       "동작구      8.0\n",
       "강북구      7.0\n",
       "관악구      6.0\n",
       "종로구      6.0\n",
       "금천구      6.0\n",
       "Name: 살인발생, dtype: float64"
      ]
     },
     "execution_count": 91,
     "metadata": {},
     "output_type": "execute_result"
    }
   ],
   "source": [
    "# 살인이 많이 일어난 구 상위 10개\n",
    "crime_gu['살인발생'].sort_values(ascending=False).head(10)"
   ]
  },
  {
   "cell_type": "code",
   "execution_count": 94,
   "metadata": {},
   "outputs": [
    {
     "data": {
      "text/plain": [
       "구\n",
       "도봉구     866.0\n",
       "강북구    1222.0\n",
       "동작구    1226.0\n",
       "금천구    1264.0\n",
       "성동구    1296.0\n",
       "Name: 절도발생, dtype: float64"
      ]
     },
     "execution_count": 94,
     "metadata": {},
     "output_type": "execute_result"
    }
   ],
   "source": [
    "# 절도 범죄가 가장 적게 일어난 구 5곳은 어디인가요?\n",
    "crime_gu['절도발생'].sort_values().head()"
   ]
  },
  {
   "cell_type": "markdown",
   "metadata": {},
   "source": [
    "## 05. 데이터 네 번째 전처리\n",
    "- 기존 데이터를 이용한 새로운 컬럼 생성\n",
    "    - 검거율 컬럼 생성"
   ]
  },
  {
   "cell_type": "code",
   "execution_count": 95,
   "metadata": {},
   "outputs": [
    {
     "data": {
      "text/html": [
       "<div>\n",
       "<style scoped>\n",
       "    .dataframe tbody tr th:only-of-type {\n",
       "        vertical-align: middle;\n",
       "    }\n",
       "\n",
       "    .dataframe tbody tr th {\n",
       "        vertical-align: top;\n",
       "    }\n",
       "\n",
       "    .dataframe thead th {\n",
       "        text-align: right;\n",
       "    }\n",
       "</style>\n",
       "<table border=\"1\" class=\"dataframe\">\n",
       "  <thead>\n",
       "    <tr style=\"text-align: right;\">\n",
       "      <th></th>\n",
       "      <th>강도검거</th>\n",
       "      <th>강도발생</th>\n",
       "      <th>살인검거</th>\n",
       "      <th>살인발생</th>\n",
       "      <th>성범죄검거</th>\n",
       "      <th>성범죄발생</th>\n",
       "      <th>절도검거</th>\n",
       "      <th>절도발생</th>\n",
       "      <th>폭력검거</th>\n",
       "      <th>폭력발생</th>\n",
       "    </tr>\n",
       "    <tr>\n",
       "      <th>구</th>\n",
       "      <th></th>\n",
       "      <th></th>\n",
       "      <th></th>\n",
       "      <th></th>\n",
       "      <th></th>\n",
       "      <th></th>\n",
       "      <th></th>\n",
       "      <th></th>\n",
       "      <th></th>\n",
       "      <th></th>\n",
       "    </tr>\n",
       "  </thead>\n",
       "  <tbody>\n",
       "    <tr>\n",
       "      <th>강남구</th>\n",
       "      <td>42.0</td>\n",
       "      <td>39.0</td>\n",
       "      <td>5.0</td>\n",
       "      <td>5.0</td>\n",
       "      <td>413.0</td>\n",
       "      <td>516.0</td>\n",
       "      <td>1918.0</td>\n",
       "      <td>3587.0</td>\n",
       "      <td>3527.0</td>\n",
       "      <td>4002.0</td>\n",
       "    </tr>\n",
       "  </tbody>\n",
       "</table>\n",
       "</div>"
      ],
      "text/plain": [
       "     강도검거  강도발생  살인검거  살인발생  성범죄검거  성범죄발생    절도검거    절도발생    폭력검거    폭력발생\n",
       "구                                                                        \n",
       "강남구  42.0  39.0   5.0   5.0  413.0  516.0  1918.0  3587.0  3527.0  4002.0"
      ]
     },
     "execution_count": 95,
     "metadata": {},
     "output_type": "execute_result"
    }
   ],
   "source": [
    "crime_gu.head(1)"
   ]
  },
  {
   "cell_type": "code",
   "execution_count": 97,
   "metadata": {},
   "outputs": [
    {
     "data": {
      "text/plain": [
       "구\n",
       "강남구     53.470867\n",
       "강동구     51.425314\n",
       "강북구     54.991817\n",
       "강서구     54.815574\n",
       "관악구     44.555397\n",
       "광진구     40.098634\n",
       "구로구     45.078534\n",
       "금천구     51.740506\n",
       "노원구     39.849219\n",
       "도봉구     56.812933\n",
       "동대문구    55.206186\n",
       "동작구     45.187602\n",
       "마포구     37.198259\n",
       "서대문구    50.033267\n",
       "서초구     50.204082\n",
       "성동구     69.135802\n",
       "성북구     49.319728\n",
       "송파구     41.211168\n",
       "양천구     43.920884\n",
       "영등포구    40.153780\n",
       "용산구     40.228341\n",
       "은평구     53.421369\n",
       "종로구     39.587629\n",
       "중구      42.511628\n",
       "중랑구     62.211709\n",
       "dtype: float64"
      ]
     },
     "execution_count": 97,
     "metadata": {},
     "output_type": "execute_result"
    }
   ],
   "source": [
    "(crime_gu['절도검거'] / crime_gu['절도발생']) * 100"
   ]
  },
  {
   "cell_type": "code",
   "execution_count": 109,
   "metadata": {},
   "outputs": [],
   "source": [
    "arrest_col = ['강도검거', '살인검거', '성범죄검거', '절도검거', '폭력검거']\n",
    "occur_col = ['강도발생', '살인발생', '성범죄발생', '절도발생', '폭력발생']\n",
    "arrest_rate = ['강도검거율', '살인검거율', '성범죄검거율', '절도검거율', '폭력검거율']"
   ]
  },
  {
   "cell_type": "code",
   "execution_count": 110,
   "metadata": {},
   "outputs": [],
   "source": [
    "crime_gu[arrest_rate] = np.round((crime_gu[arrest_col].div(crime_gu[occur_col].values)) * 100, 2)"
   ]
  },
  {
   "cell_type": "code",
   "execution_count": 111,
   "metadata": {},
   "outputs": [
    {
     "data": {
      "text/html": [
       "<div>\n",
       "<style scoped>\n",
       "    .dataframe tbody tr th:only-of-type {\n",
       "        vertical-align: middle;\n",
       "    }\n",
       "\n",
       "    .dataframe tbody tr th {\n",
       "        vertical-align: top;\n",
       "    }\n",
       "\n",
       "    .dataframe thead th {\n",
       "        text-align: right;\n",
       "    }\n",
       "</style>\n",
       "<table border=\"1\" class=\"dataframe\">\n",
       "  <thead>\n",
       "    <tr style=\"text-align: right;\">\n",
       "      <th></th>\n",
       "      <th>강도검거</th>\n",
       "      <th>강도발생</th>\n",
       "      <th>살인검거</th>\n",
       "      <th>살인발생</th>\n",
       "      <th>성범죄검거</th>\n",
       "      <th>성범죄발생</th>\n",
       "      <th>절도검거</th>\n",
       "      <th>절도발생</th>\n",
       "      <th>폭력검거</th>\n",
       "      <th>폭력발생</th>\n",
       "      <th>강도검거율</th>\n",
       "      <th>살인검거율</th>\n",
       "      <th>성범죄검거율</th>\n",
       "      <th>절도검거율</th>\n",
       "      <th>폭력검거율</th>\n",
       "    </tr>\n",
       "    <tr>\n",
       "      <th>구</th>\n",
       "      <th></th>\n",
       "      <th></th>\n",
       "      <th></th>\n",
       "      <th></th>\n",
       "      <th></th>\n",
       "      <th></th>\n",
       "      <th></th>\n",
       "      <th></th>\n",
       "      <th></th>\n",
       "      <th></th>\n",
       "      <th></th>\n",
       "      <th></th>\n",
       "      <th></th>\n",
       "      <th></th>\n",
       "      <th></th>\n",
       "    </tr>\n",
       "  </thead>\n",
       "  <tbody>\n",
       "    <tr>\n",
       "      <th>강남구</th>\n",
       "      <td>42.0</td>\n",
       "      <td>39.0</td>\n",
       "      <td>5.0</td>\n",
       "      <td>5.0</td>\n",
       "      <td>413.0</td>\n",
       "      <td>516.0</td>\n",
       "      <td>1918.0</td>\n",
       "      <td>3587.0</td>\n",
       "      <td>3527.0</td>\n",
       "      <td>4002.0</td>\n",
       "      <td>107.69</td>\n",
       "      <td>100.00</td>\n",
       "      <td>80.04</td>\n",
       "      <td>53.47</td>\n",
       "      <td>88.13</td>\n",
       "    </tr>\n",
       "    <tr>\n",
       "      <th>강동구</th>\n",
       "      <td>13.0</td>\n",
       "      <td>14.0</td>\n",
       "      <td>5.0</td>\n",
       "      <td>4.0</td>\n",
       "      <td>152.0</td>\n",
       "      <td>160.0</td>\n",
       "      <td>902.0</td>\n",
       "      <td>1754.0</td>\n",
       "      <td>2201.0</td>\n",
       "      <td>2530.0</td>\n",
       "      <td>92.86</td>\n",
       "      <td>125.00</td>\n",
       "      <td>95.00</td>\n",
       "      <td>51.43</td>\n",
       "      <td>87.00</td>\n",
       "    </tr>\n",
       "    <tr>\n",
       "      <th>강북구</th>\n",
       "      <td>4.0</td>\n",
       "      <td>5.0</td>\n",
       "      <td>6.0</td>\n",
       "      <td>7.0</td>\n",
       "      <td>159.0</td>\n",
       "      <td>217.0</td>\n",
       "      <td>672.0</td>\n",
       "      <td>1222.0</td>\n",
       "      <td>2482.0</td>\n",
       "      <td>2778.0</td>\n",
       "      <td>80.00</td>\n",
       "      <td>85.71</td>\n",
       "      <td>73.27</td>\n",
       "      <td>54.99</td>\n",
       "      <td>89.34</td>\n",
       "    </tr>\n",
       "    <tr>\n",
       "      <th>강서구</th>\n",
       "      <td>10.0</td>\n",
       "      <td>10.0</td>\n",
       "      <td>10.0</td>\n",
       "      <td>9.0</td>\n",
       "      <td>239.0</td>\n",
       "      <td>275.0</td>\n",
       "      <td>1070.0</td>\n",
       "      <td>1952.0</td>\n",
       "      <td>2768.0</td>\n",
       "      <td>3204.0</td>\n",
       "      <td>100.00</td>\n",
       "      <td>111.11</td>\n",
       "      <td>86.91</td>\n",
       "      <td>54.82</td>\n",
       "      <td>86.39</td>\n",
       "    </tr>\n",
       "    <tr>\n",
       "      <th>관악구</th>\n",
       "      <td>10.0</td>\n",
       "      <td>12.0</td>\n",
       "      <td>7.0</td>\n",
       "      <td>6.0</td>\n",
       "      <td>264.0</td>\n",
       "      <td>322.0</td>\n",
       "      <td>937.0</td>\n",
       "      <td>2103.0</td>\n",
       "      <td>2707.0</td>\n",
       "      <td>3235.0</td>\n",
       "      <td>83.33</td>\n",
       "      <td>116.67</td>\n",
       "      <td>81.99</td>\n",
       "      <td>44.56</td>\n",
       "      <td>83.68</td>\n",
       "    </tr>\n",
       "  </tbody>\n",
       "</table>\n",
       "</div>"
      ],
      "text/plain": [
       "     강도검거  강도발생  살인검거  살인발생  성범죄검거  성범죄발생    절도검거    절도발생    폭력검거    폭력발생  \\\n",
       "구                                                                           \n",
       "강남구  42.0  39.0   5.0   5.0  413.0  516.0  1918.0  3587.0  3527.0  4002.0   \n",
       "강동구  13.0  14.0   5.0   4.0  152.0  160.0   902.0  1754.0  2201.0  2530.0   \n",
       "강북구   4.0   5.0   6.0   7.0  159.0  217.0   672.0  1222.0  2482.0  2778.0   \n",
       "강서구  10.0  10.0  10.0   9.0  239.0  275.0  1070.0  1952.0  2768.0  3204.0   \n",
       "관악구  10.0  12.0   7.0   6.0  264.0  322.0   937.0  2103.0  2707.0  3235.0   \n",
       "\n",
       "      강도검거율   살인검거율  성범죄검거율  절도검거율  폭력검거율  \n",
       "구                                          \n",
       "강남구  107.69  100.00   80.04  53.47  88.13  \n",
       "강동구   92.86  125.00   95.00  51.43  87.00  \n",
       "강북구   80.00   85.71   73.27  54.99  89.34  \n",
       "강서구  100.00  111.11   86.91  54.82  86.39  \n",
       "관악구   83.33  116.67   81.99  44.56  83.68  "
      ]
     },
     "execution_count": 111,
     "metadata": {},
     "output_type": "execute_result"
    }
   ],
   "source": [
    "crime_gu.head()"
   ]
  },
  {
   "cell_type": "code",
   "execution_count": 115,
   "metadata": {},
   "outputs": [
    {
     "name": "stdout",
     "output_type": "stream",
     "text": [
      "강남구 강도검거 건수:  42.0\n",
      "강남구 강도발생 건수:  39.0\n"
     ]
    }
   ],
   "source": [
    "print('강남구 강도검거 건수: ', crime_gu.loc['강남구', '강도검거'])\n",
    "print('강남구 강도발생 건수: ', crime_gu.loc['강남구', '강도발생'])"
   ]
  },
  {
   "cell_type": "code",
   "execution_count": 114,
   "metadata": {},
   "outputs": [
    {
     "data": {
      "text/plain": [
       "107.6923076923077"
      ]
     },
     "execution_count": 114,
     "metadata": {},
     "output_type": "execute_result"
    }
   ],
   "source": [
    "(crime_gu.loc['강남구', '강도검거'] / crime_gu.loc['강남구', '강도발생']) * 100"
   ]
  },
  {
   "cell_type": "code",
   "execution_count": 119,
   "metadata": {},
   "outputs": [],
   "source": [
    "# 100이 넘는 값은 100으로 수정\n",
    "crime_gu[crime_gu[arrest_rate] > 100] = 100"
   ]
  },
  {
   "cell_type": "code",
   "execution_count": 121,
   "metadata": {},
   "outputs": [],
   "source": [
    "# 컬럼 이름 수정\n",
    "crime_gu.rename(columns={\n",
    "    '강도발생': '강도', '살인발생': '살인',\n",
    "    '성범죄발생': '성범죄', '절도발생': '절도', '폭력발생': '폭력'\n",
    "}, inplace=True)"
   ]
  },
  {
   "cell_type": "code",
   "execution_count": 124,
   "metadata": {},
   "outputs": [],
   "source": [
    "# '검거' 라는 이름이 들어간 컬럼 삭제\n",
    "crime_gu.drop(arrest_col, axis=1, inplace=True)"
   ]
  },
  {
   "cell_type": "code",
   "execution_count": 125,
   "metadata": {},
   "outputs": [
    {
     "data": {
      "text/html": [
       "<div>\n",
       "<style scoped>\n",
       "    .dataframe tbody tr th:only-of-type {\n",
       "        vertical-align: middle;\n",
       "    }\n",
       "\n",
       "    .dataframe tbody tr th {\n",
       "        vertical-align: top;\n",
       "    }\n",
       "\n",
       "    .dataframe thead th {\n",
       "        text-align: right;\n",
       "    }\n",
       "</style>\n",
       "<table border=\"1\" class=\"dataframe\">\n",
       "  <thead>\n",
       "    <tr style=\"text-align: right;\">\n",
       "      <th></th>\n",
       "      <th>강도</th>\n",
       "      <th>살인</th>\n",
       "      <th>성범죄</th>\n",
       "      <th>절도</th>\n",
       "      <th>폭력</th>\n",
       "      <th>강도검거율</th>\n",
       "      <th>살인검거율</th>\n",
       "      <th>성범죄검거율</th>\n",
       "      <th>절도검거율</th>\n",
       "      <th>폭력검거율</th>\n",
       "    </tr>\n",
       "    <tr>\n",
       "      <th>구</th>\n",
       "      <th></th>\n",
       "      <th></th>\n",
       "      <th></th>\n",
       "      <th></th>\n",
       "      <th></th>\n",
       "      <th></th>\n",
       "      <th></th>\n",
       "      <th></th>\n",
       "      <th></th>\n",
       "      <th></th>\n",
       "    </tr>\n",
       "  </thead>\n",
       "  <tbody>\n",
       "    <tr>\n",
       "      <th>강남구</th>\n",
       "      <td>39.0</td>\n",
       "      <td>5.0</td>\n",
       "      <td>516.0</td>\n",
       "      <td>3587.0</td>\n",
       "      <td>4002.0</td>\n",
       "      <td>100.0</td>\n",
       "      <td>100.0</td>\n",
       "      <td>80.04</td>\n",
       "      <td>53.47</td>\n",
       "      <td>88.13</td>\n",
       "    </tr>\n",
       "  </tbody>\n",
       "</table>\n",
       "</div>"
      ],
      "text/plain": [
       "       강도   살인    성범죄      절도      폭력  강도검거율  살인검거율  성범죄검거율  절도검거율  폭력검거율\n",
       "구                                                                        \n",
       "강남구  39.0  5.0  516.0  3587.0  4002.0  100.0  100.0   80.04  53.47  88.13"
      ]
     },
     "execution_count": 125,
     "metadata": {},
     "output_type": "execute_result"
    }
   ],
   "source": [
    "crime_gu.head(1)"
   ]
  },
  {
   "cell_type": "markdown",
   "metadata": {},
   "source": [
    "## 06. 데이터 다섯 번째 전처리\n",
    "- 데이터 정규화(Normalization)\n",
    "- 데이터를 0~1 사이값으로 변환"
   ]
  },
  {
   "cell_type": "code",
   "execution_count": 126,
   "metadata": {},
   "outputs": [],
   "source": [
    "import matplotlib.pyplot as plt \n",
    "import koreanize_matplotlib\n",
    "\n",
    "%matplotlib inline \n",
    "%config InlineBackend.figure_format = 'retina'"
   ]
  },
  {
   "cell_type": "code",
   "execution_count": 131,
   "metadata": {},
   "outputs": [
    {
     "data": {
      "image/png": "[encoded data removed]",
      "text/plain": [
       "<Figure size 2000x600 with 1 Axes>"
      ]
     },
     "metadata": {
      "image/png": {
       "height": 562,
       "width": 1613
      }
     },
     "output_type": "display_data"
    }
   ],
   "source": [
    "crime_gu[crime_gu.columns[:5]].plot(kind='bar', figsize=(20, 6));"
   ]
  },
  {
   "cell_type": "code",
   "execution_count": 135,
   "metadata": {},
   "outputs": [
    {
     "data": {
      "text/plain": [
       "1.0"
      ]
     },
     "execution_count": 135,
     "metadata": {},
     "output_type": "execute_result"
    }
   ],
   "source": [
    "crime_gu.loc['강남구', '강도'] / crime_gu['강도'].max()"
   ]
  },
  {
   "cell_type": "code",
   "execution_count": 139,
   "metadata": {},
   "outputs": [
    {
     "data": {
      "text/plain": [
       "0.3076923076923077"
      ]
     },
     "execution_count": 139,
     "metadata": {},
     "output_type": "execute_result"
    }
   ],
   "source": [
    "crime_gu.loc['종로구', '강도'] / crime_gu['강도'].max()"
   ]
  },
  {
   "cell_type": "code",
   "execution_count": 142,
   "metadata": {},
   "outputs": [
    {
     "data": {
      "text/plain": [
       "강도       39.0\n",
       "살인       13.0\n",
       "성범죄     516.0\n",
       "절도     3587.0\n",
       "폭력     4002.0\n",
       "dtype: float64"
      ]
     },
     "execution_count": 142,
     "metadata": {},
     "output_type": "execute_result"
    }
   ],
   "source": [
    "crime_gu[crime_gu.columns[:5]].max()"
   ]
  },
  {
   "cell_type": "code",
   "execution_count": 144,
   "metadata": {},
   "outputs": [],
   "source": [
    "# 정규화 작업\n",
    "crime_gu_norm = crime_gu[crime_gu.columns[:5]] / crime_gu[crime_gu.columns[:5]].max()"
   ]
  },
  {
   "cell_type": "code",
   "execution_count": 146,
   "metadata": {},
   "outputs": [],
   "source": [
    "occur_col = ['강도', '살인', '성범죄', '절도', '폭력']"
   ]
  },
  {
   "cell_type": "code",
   "execution_count": 148,
   "metadata": {},
   "outputs": [
    {
     "data": {
      "image/png": "[encoded data removed]",
      "text/plain": [
       "<Figure size 2000x600 with 1 Axes>"
      ]
     },
     "metadata": {
      "image/png": {
       "height": 562,
       "width": 1600
      }
     },
     "output_type": "display_data"
    }
   ],
   "source": [
    "crime_gu_norm[occur_col].plot(kind='bar', figsize=(20, 6));"
   ]
  },
  {
   "cell_type": "code",
   "execution_count": 150,
   "metadata": {},
   "outputs": [
    {
     "data": {
      "text/html": [
       "<div>\n",
       "<style scoped>\n",
       "    .dataframe tbody tr th:only-of-type {\n",
       "        vertical-align: middle;\n",
       "    }\n",
       "\n",
       "    .dataframe tbody tr th {\n",
       "        vertical-align: top;\n",
       "    }\n",
       "\n",
       "    .dataframe thead th {\n",
       "        text-align: right;\n",
       "    }\n",
       "</style>\n",
       "<table border=\"1\" class=\"dataframe\">\n",
       "  <thead>\n",
       "    <tr style=\"text-align: right;\">\n",
       "      <th></th>\n",
       "      <th>강도</th>\n",
       "      <th>살인</th>\n",
       "      <th>성범죄</th>\n",
       "      <th>절도</th>\n",
       "      <th>폭력</th>\n",
       "      <th>강도검거율</th>\n",
       "      <th>살인검거율</th>\n",
       "      <th>성범죄검거율</th>\n",
       "      <th>절도검거율</th>\n",
       "      <th>폭력검거율</th>\n",
       "    </tr>\n",
       "    <tr>\n",
       "      <th>구</th>\n",
       "      <th></th>\n",
       "      <th></th>\n",
       "      <th></th>\n",
       "      <th></th>\n",
       "      <th></th>\n",
       "      <th></th>\n",
       "      <th></th>\n",
       "      <th></th>\n",
       "      <th></th>\n",
       "      <th></th>\n",
       "    </tr>\n",
       "  </thead>\n",
       "  <tbody>\n",
       "    <tr>\n",
       "      <th>강남구</th>\n",
       "      <td>1.0</td>\n",
       "      <td>0.384615</td>\n",
       "      <td>1.0</td>\n",
       "      <td>1.0</td>\n",
       "      <td>1.0</td>\n",
       "      <td>100.0</td>\n",
       "      <td>100.0</td>\n",
       "      <td>80.04</td>\n",
       "      <td>53.47</td>\n",
       "      <td>88.13</td>\n",
       "    </tr>\n",
       "  </tbody>\n",
       "</table>\n",
       "</div>"
      ],
      "text/plain": [
       "      강도        살인  성범죄   절도   폭력  강도검거율  살인검거율  성범죄검거율  절도검거율  폭력검거율\n",
       "구                                                                    \n",
       "강남구  1.0  0.384615  1.0  1.0  1.0  100.0  100.0   80.04  53.47  88.13"
      ]
     },
     "execution_count": 150,
     "metadata": {},
     "output_type": "execute_result"
    }
   ],
   "source": [
    "crime_gu_norm[arrest_rate] = crime_gu[arrest_rate]\n",
    "crime_gu_norm.head(1)"
   ]
  },
  {
   "cell_type": "markdown",
   "metadata": {},
   "source": [
    "## 07. 데이터 여섯 번째 전처리\n",
    "- 범죄, 검거 평균 컬럼 생성"
   ]
  },
  {
   "cell_type": "code",
   "execution_count": null,
   "metadata": {},
   "outputs": [],
   "source": [
    "crime_gu_norm['범죄평균'] = "
   ]
  },
  {
   "cell_type": "markdown",
   "metadata": {},
   "source": [
    "#### 1. 강남구에서 일어난 5대 범죄 선택"
   ]
  },
  {
   "cell_type": "code",
   "execution_count": 153,
   "metadata": {},
   "outputs": [
    {
     "data": {
      "text/plain": [
       "강도     1.000000\n",
       "살인     0.384615\n",
       "성범죄    1.000000\n",
       "절도     1.000000\n",
       "폭력     1.000000\n",
       "Name: 강남구, dtype: float64"
      ]
     },
     "execution_count": 153,
     "metadata": {},
     "output_type": "execute_result"
    }
   ],
   "source": [
    "crime_gu_norm[occur_col].loc['강남구']"
   ]
  },
  {
   "cell_type": "markdown",
   "metadata": {},
   "source": [
    "#### 2. 강남구에서 일어난 5대 범죄 총합"
   ]
  },
  {
   "cell_type": "code",
   "execution_count": 155,
   "metadata": {},
   "outputs": [
    {
     "data": {
      "text/plain": [
       "4.384615384615385"
      ]
     },
     "execution_count": 155,
     "metadata": {},
     "output_type": "execute_result"
    }
   ],
   "source": [
    "crime_gu_norm[occur_col].loc['강남구'].sum()"
   ]
  },
  {
   "cell_type": "markdown",
   "metadata": {},
   "source": [
    "#### 3. 5로 나눠줍니다"
   ]
  },
  {
   "cell_type": "code",
   "execution_count": 156,
   "metadata": {},
   "outputs": [
    {
     "data": {
      "text/plain": [
       "0.876923076923077"
      ]
     },
     "execution_count": 156,
     "metadata": {},
     "output_type": "execute_result"
    }
   ],
   "source": [
    "crime_gu_norm[occur_col].loc['강남구'].sum() / 5"
   ]
  },
  {
   "cell_type": "code",
   "execution_count": 174,
   "metadata": {},
   "outputs": [],
   "source": [
    "mean_test_df = crime_gu_norm[occur_col].head()"
   ]
  },
  {
   "cell_type": "code",
   "execution_count": 175,
   "metadata": {},
   "outputs": [
    {
     "data": {
      "text/plain": [
       "강도     0.410256\n",
       "살인     0.476923\n",
       "성범죄    0.577519\n",
       "절도     0.592027\n",
       "폭력     0.787056\n",
       "dtype: float64"
      ]
     },
     "execution_count": 175,
     "metadata": {},
     "output_type": "execute_result"
    }
   ],
   "source": [
    "np.mean(mean_test_df, axis=0)"
   ]
  },
  {
   "cell_type": "code",
   "execution_count": 177,
   "metadata": {},
   "outputs": [
    {
     "data": {
      "text/plain": [
       "0.41025641025641024"
      ]
     },
     "execution_count": 177,
     "metadata": {},
     "output_type": "execute_result"
    }
   ],
   "source": [
    "mean_test_df['강도'].sum() / 5"
   ]
  },
  {
   "cell_type": "code",
   "execution_count": 179,
   "metadata": {},
   "outputs": [
    {
     "data": {
      "text/plain": [
       "구\n",
       "강남구    1.000000\n",
       "강동구    0.358974\n",
       "강북구    0.128205\n",
       "강서구    0.256410\n",
       "관악구    0.307692\n",
       "Name: 강도, dtype: float64"
      ]
     },
     "execution_count": 179,
     "metadata": {},
     "output_type": "execute_result"
    }
   ],
   "source": [
    "mean_test_df['강도']"
   ]
  },
  {
   "cell_type": "code",
   "execution_count": 180,
   "metadata": {},
   "outputs": [
    {
     "data": {
      "text/plain": [
       "구\n",
       "강남구     0.876923\n",
       "강동구     0.419583\n",
       "강북구     0.424407\n",
       "강서구     0.565290\n",
       "관악구     0.557578\n",
       "광진구     0.492604\n",
       "구로구     0.560174\n",
       "금천구     0.376107\n",
       "노원구     0.398598\n",
       "도봉구     0.239769\n",
       "동대문구    0.442051\n",
       "동작구     0.436310\n",
       "마포구     0.524477\n",
       "서대문구    0.368331\n",
       "서초구     0.549267\n",
       "성동구     0.270404\n",
       "성북구     0.349564\n",
       "송파구     0.612240\n",
       "양천구     0.371886\n",
       "영등포구    0.745508\n",
       "용산구     0.407142\n",
       "은평구     0.424951\n",
       "종로구     0.467356\n",
       "중구      0.394995\n",
       "중랑구     0.510844\n",
       "dtype: float64"
      ]
     },
     "execution_count": 180,
     "metadata": {},
     "output_type": "execute_result"
    }
   ],
   "source": [
    "np.mean(crime_gu_norm[occur_col], axis=1)  # numpy axis=1 행, axis=0 열"
   ]
  },
  {
   "cell_type": "code",
   "execution_count": 181,
   "metadata": {},
   "outputs": [],
   "source": [
    "crime_gu_norm['범죄평균'] = np.mean(crime_gu_norm[occur_col], axis=1)"
   ]
  },
  {
   "cell_type": "code",
   "execution_count": 182,
   "metadata": {},
   "outputs": [],
   "source": [
    "crime_gu_norm['검거평균'] = np.mean(crime_gu_norm[arrest_rate], axis=1)"
   ]
  },
  {
   "cell_type": "code",
   "execution_count": 183,
   "metadata": {},
   "outputs": [
    {
     "data": {
      "text/html": [
       "<div>\n",
       "<style scoped>\n",
       "    .dataframe tbody tr th:only-of-type {\n",
       "        vertical-align: middle;\n",
       "    }\n",
       "\n",
       "    .dataframe tbody tr th {\n",
       "        vertical-align: top;\n",
       "    }\n",
       "\n",
       "    .dataframe thead th {\n",
       "        text-align: right;\n",
       "    }\n",
       "</style>\n",
       "<table border=\"1\" class=\"dataframe\">\n",
       "  <thead>\n",
       "    <tr style=\"text-align: right;\">\n",
       "      <th></th>\n",
       "      <th>강도</th>\n",
       "      <th>살인</th>\n",
       "      <th>성범죄</th>\n",
       "      <th>절도</th>\n",
       "      <th>폭력</th>\n",
       "      <th>강도검거율</th>\n",
       "      <th>살인검거율</th>\n",
       "      <th>성범죄검거율</th>\n",
       "      <th>절도검거율</th>\n",
       "      <th>폭력검거율</th>\n",
       "      <th>범죄평균</th>\n",
       "      <th>검거평균</th>\n",
       "    </tr>\n",
       "    <tr>\n",
       "      <th>구</th>\n",
       "      <th></th>\n",
       "      <th></th>\n",
       "      <th></th>\n",
       "      <th></th>\n",
       "      <th></th>\n",
       "      <th></th>\n",
       "      <th></th>\n",
       "      <th></th>\n",
       "      <th></th>\n",
       "      <th></th>\n",
       "      <th></th>\n",
       "      <th></th>\n",
       "    </tr>\n",
       "  </thead>\n",
       "  <tbody>\n",
       "    <tr>\n",
       "      <th>강남구</th>\n",
       "      <td>1.0</td>\n",
       "      <td>0.384615</td>\n",
       "      <td>1.0</td>\n",
       "      <td>1.0</td>\n",
       "      <td>1.0</td>\n",
       "      <td>100.0</td>\n",
       "      <td>100.0</td>\n",
       "      <td>80.04</td>\n",
       "      <td>53.47</td>\n",
       "      <td>88.13</td>\n",
       "      <td>0.876923</td>\n",
       "      <td>84.328</td>\n",
       "    </tr>\n",
       "  </tbody>\n",
       "</table>\n",
       "</div>"
      ],
      "text/plain": [
       "      강도        살인  성범죄   절도   폭력  강도검거율  살인검거율  성범죄검거율  절도검거율  폭력검거율  \\\n",
       "구                                                                       \n",
       "강남구  1.0  0.384615  1.0  1.0  1.0  100.0  100.0   80.04  53.47  88.13   \n",
       "\n",
       "         범죄평균    검거평균  \n",
       "구                      \n",
       "강남구  0.876923  84.328  "
      ]
     },
     "execution_count": 183,
     "metadata": {},
     "output_type": "execute_result"
    }
   ],
   "source": [
    "crime_gu_norm.head(1)"
   ]
  },
  {
   "cell_type": "code",
   "execution_count": 186,
   "metadata": {},
   "outputs": [
    {
     "data": {
      "text/plain": [
       "구\n",
       "강남구     0.876923\n",
       "영등포구    0.745508\n",
       "송파구     0.612240\n",
       "강서구     0.565290\n",
       "구로구     0.560174\n",
       "Name: 범죄평균, dtype: float64"
      ]
     },
     "execution_count": 186,
     "metadata": {},
     "output_type": "execute_result"
    }
   ],
   "source": [
    "# 범죄 평균치로 정렬했을 때, 서울에서 범죄가 많이 일어나는 구는?\n",
    "crime_gu_norm['범죄평균'].sort_values(ascending=False).head()"
   ]
  },
  {
   "cell_type": "code",
   "execution_count": 187,
   "metadata": {},
   "outputs": [
    {
     "data": {
      "text/plain": [
       "구\n",
       "도봉구     89.204\n",
       "성동구     86.222\n",
       "동대문구    85.668\n",
       "강서구     85.624\n",
       "중랑구     85.376\n",
       "Name: 검거평균, dtype: float64"
      ]
     },
     "execution_count": 187,
     "metadata": {},
     "output_type": "execute_result"
    }
   ],
   "source": [
    "# 검거 평균치로 정렬했을 때, 서울시에서 범죄 검거율이 높은 구는 어디?\n",
    "crime_gu_norm['검거평균'].sort_values(ascending=False).head()"
   ]
  },
  {
   "cell_type": "code",
   "execution_count": 189,
   "metadata": {},
   "outputs": [],
   "source": [
    "# 데이터 저장 \n",
    "crime_gu_norm.to_csv('../data/crime_gu_norm_2016.csv', encoding='utf-8')"
   ]
  },
  {
   "cell_type": "code",
   "execution_count": 192,
   "metadata": {},
   "outputs": [
    {
     "data": {
      "text/html": [
       "<div>\n",
       "<style scoped>\n",
       "    .dataframe tbody tr th:only-of-type {\n",
       "        vertical-align: middle;\n",
       "    }\n",
       "\n",
       "    .dataframe tbody tr th {\n",
       "        vertical-align: top;\n",
       "    }\n",
       "\n",
       "    .dataframe thead th {\n",
       "        text-align: right;\n",
       "    }\n",
       "</style>\n",
       "<table border=\"1\" class=\"dataframe\">\n",
       "  <thead>\n",
       "    <tr style=\"text-align: right;\">\n",
       "      <th></th>\n",
       "      <th>강도</th>\n",
       "      <th>살인</th>\n",
       "      <th>성범죄</th>\n",
       "      <th>절도</th>\n",
       "      <th>폭력</th>\n",
       "      <th>강도검거율</th>\n",
       "      <th>살인검거율</th>\n",
       "      <th>성범죄검거율</th>\n",
       "      <th>절도검거율</th>\n",
       "      <th>폭력검거율</th>\n",
       "      <th>범죄평균</th>\n",
       "      <th>검거평균</th>\n",
       "    </tr>\n",
       "    <tr>\n",
       "      <th>구</th>\n",
       "      <th></th>\n",
       "      <th></th>\n",
       "      <th></th>\n",
       "      <th></th>\n",
       "      <th></th>\n",
       "      <th></th>\n",
       "      <th></th>\n",
       "      <th></th>\n",
       "      <th></th>\n",
       "      <th></th>\n",
       "      <th></th>\n",
       "      <th></th>\n",
       "    </tr>\n",
       "  </thead>\n",
       "  <tbody>\n",
       "    <tr>\n",
       "      <th>강남구</th>\n",
       "      <td>1.000000</td>\n",
       "      <td>0.384615</td>\n",
       "      <td>1.000000</td>\n",
       "      <td>1.000000</td>\n",
       "      <td>1.000000</td>\n",
       "      <td>100.00</td>\n",
       "      <td>100.0</td>\n",
       "      <td>80.04</td>\n",
       "      <td>53.47</td>\n",
       "      <td>88.13</td>\n",
       "      <td>0.876923</td>\n",
       "      <td>84.328</td>\n",
       "    </tr>\n",
       "    <tr>\n",
       "      <th>강동구</th>\n",
       "      <td>0.358974</td>\n",
       "      <td>0.307692</td>\n",
       "      <td>0.310078</td>\n",
       "      <td>0.488988</td>\n",
       "      <td>0.632184</td>\n",
       "      <td>92.86</td>\n",
       "      <td>100.0</td>\n",
       "      <td>95.00</td>\n",
       "      <td>51.43</td>\n",
       "      <td>87.00</td>\n",
       "      <td>0.419583</td>\n",
       "      <td>85.258</td>\n",
       "    </tr>\n",
       "  </tbody>\n",
       "</table>\n",
       "</div>"
      ],
      "text/plain": [
       "           강도        살인       성범죄        절도        폭력   강도검거율  살인검거율  성범죄검거율  \\\n",
       "구                                                                              \n",
       "강남구  1.000000  0.384615  1.000000  1.000000  1.000000  100.00  100.0   80.04   \n",
       "강동구  0.358974  0.307692  0.310078  0.488988  0.632184   92.86  100.0   95.00   \n",
       "\n",
       "     절도검거율  폭력검거율      범죄평균    검거평균  \n",
       "구                                    \n",
       "강남구  53.47  88.13  0.876923  84.328  \n",
       "강동구  51.43  87.00  0.419583  85.258  "
      ]
     },
     "execution_count": 192,
     "metadata": {},
     "output_type": "execute_result"
    }
   ],
   "source": [
    "# 데이터 불러오기 \n",
    "new_df = pd.read_csv('../data/crime_gu_norm_2016.csv', index_col=0)\n",
    "new_df.head(2)"
   ]
  }
 ],
 "metadata": {
  "kernelspec": {
   "display_name": "amr_venv",
   "language": "python",
   "name": "python3"
  },
  "language_info": {
   "codemirror_mode": {
    "name": "ipython",
    "version": 3
   },
   "file_extension": ".py",
   "mimetype": "text/x-python",
   "name": "python",
   "nbconvert_exporter": "python",
   "pygments_lexer": "ipython3",
   "version": "3.10.11"
  },
  "orig_nbformat": 4
 },
 "nbformat": 4,
 "nbformat_minor": 2
}
