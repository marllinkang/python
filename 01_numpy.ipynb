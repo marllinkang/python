{
 "cells": [
  {
   "cell_type": "markdown",
   "id": "88bae864-f261-46e0-8db3-a0e0754df965",
   "metadata": {},
   "source": [
    "# Numpy\n",
    "- python 에서 사용하는 과학계산용 오픈소스 라이브럴\n",
    "- python 의 느린 연산속도를 보안\n",
    "- nadarry라는 데이터 타입을 사용합니다\n",
    "- c, c++, 포트란으로 만들어짐"
   ]
  },
  {
   "cell_type": "markdown",
   "id": "992cadbb-b4ad-40a1-ba82-ef92a263abc9",
   "metadata": {},
   "source": [
    "## 선형대수\n",
    "- 스칼라(scalar)\n",
    "    - 하나의 숫자로만 이루어진 데이터\n",
    "- 벡터\n",
    "    -여러 개의 숫자가 특정한 순서대로 모여있는것\n",
    "    - 벡터([1, 2 3])\n",
    "    - $\\mathbf{v}=\\begin{bmatrix} 1 \\\\ 2 \\\\ 3 \\end{bmatrix}$\n",
    "- 행렬(matrix)\n",
    "    - 2차원 배열로 구성\n",
    "    - 행(row)과 열(colums)\n",
    "    - 행렬([1, 2, 3]), [4,5,6])"
   ]
  },
  {
   "cell_type": "code",
   "execution_count": 11,
   "id": "552ea64a-03e2-41d1-abbe-3cdb94914dde",
   "metadata": {},
   "outputs": [
    {
     "name": "stdout",
     "output_type": "stream",
     "text": [
      "Requirement already satisfied: numpy in /home/kang/venv/eda_venv/lib/python3.10/site-packages (1.25.1)\n"
     ]
    }
   ],
   "source": [
    "!pip install numpy\n",
    "import numpy as np"
   ]
  },
  {
   "cell_type": "code",
   "execution_count": 9,
   "id": "a0ee26a4-1619-4f02-8bd5-010da9ef244c",
   "metadata": {},
   "outputs": [],
   "source": [
    "import numpy as np"
   ]
  },
  {
   "cell_type": "markdown",
   "id": "d0bbdd6e-6e0d-402e-bb7c-8d90f87e360b",
   "metadata": {},
   "source": [
    "# 01. ndarray 객체 생성"
   ]
  },
  {
   "cell_type": "code",
   "execution_count": 14,
   "id": "60af8b45-3148-489c-a290-2839efddc1cf",
   "metadata": {},
   "outputs": [
    {
     "data": {
      "text/plain": [
       "numpy.ndarray"
      ]
     },
     "execution_count": 14,
     "metadata": {},
     "output_type": "execute_result"
    }
   ],
   "source": [
    "scalar = np.array(5)\n",
    "type(scalar)"
   ]
  },
  {
   "cell_type": "code",
   "execution_count": 17,
   "id": "75f34ae6-b82b-49e9-9a69-13a5986bc5f6",
   "metadata": {},
   "outputs": [
    {
     "data": {
      "text/plain": [
       "array([1, 2, 3])"
      ]
     },
     "execution_count": 17,
     "metadata": {},
     "output_type": "execute_result"
    }
   ],
   "source": [
    "vector = np.array([1, 2, 3])\n",
    "vector"
   ]
  },
  {
   "cell_type": "code",
   "execution_count": 19,
   "id": "68b89f95-4b5a-4212-ab8c-26880d3fa392",
   "metadata": {},
   "outputs": [
    {
     "data": {
      "text/plain": [
       "array([[1, 2, 3],\n",
       "       [4, 5, 6],\n",
       "       [7, 8, 9]])"
      ]
     },
     "execution_count": 19,
     "metadata": {},
     "output_type": "execute_result"
    }
   ],
   "source": [
    "matrix = np.array([[1, 2, 3],[4, 5, 6], [7, 8, 9]])\n",
    "matrix"
   ]
  },
  {
   "cell_type": "code",
   "execution_count": 24,
   "id": "52b0c0c0-d515-42f9-b8bd-6b84dc385518",
   "metadata": {},
   "outputs": [
    {
     "data": {
      "text/plain": [
       "(0, 1, 2)"
      ]
     },
     "execution_count": 24,
     "metadata": {},
     "output_type": "execute_result"
    }
   ],
   "source": [
    "# 배열의 차원 확인\n",
    "scalar.ndim, vector.ndim, matrix.ndim  # 딥러닝때 많이 씀"
   ]
  },
  {
   "cell_type": "code",
   "execution_count": 26,
   "id": "d2d69dbb-d9fc-4225-a5ec-e90c0961aa8a",
   "metadata": {},
   "outputs": [
    {
     "data": {
      "text/plain": [
       "((), (3,), (3, 3))"
      ]
     },
     "execution_count": 26,
     "metadata": {},
     "output_type": "execute_result"
    }
   ],
   "source": [
    "# 배열의 모양 확인 #딥러닝때 많이씀\n",
    "scalar.shape, vector.shape, matrix.shape"
   ]
  },
  {
   "cell_type": "code",
   "execution_count": 30,
   "id": "734a9699-156e-4d37-a6b7-d43f4ff9bdb2",
   "metadata": {},
   "outputs": [
    {
     "data": {
      "text/plain": [
       "array(['A', 'B', 'C', 'D'], dtype='<U1')"
      ]
     },
     "execution_count": 30,
     "metadata": {},
     "output_type": "execute_result"
    }
   ],
   "source": [
    "# 문자열도 배열 데이터 생성 가능\n",
    "str_vector = np.array(list(('ABCD')))\n",
    "str_vector"
   ]
  },
  {
   "cell_type": "code",
   "execution_count": 32,
   "id": "706965d7-21cd-400d-a861-9c59aeab1fc9",
   "metadata": {},
   "outputs": [
    {
     "data": {
      "text/plain": [
       "[1, 2, 3, 'D']"
      ]
     },
     "execution_count": 32,
     "metadata": {},
     "output_type": "execute_result"
    }
   ],
   "source": [
    "ls = [1, 2 ,3, 'D']\n",
    "ls"
   ]
  },
  {
   "cell_type": "code",
   "execution_count": 33,
   "id": "3d3ffcc1-6e8a-403a-b7e3-d21efc78bfdc",
   "metadata": {},
   "outputs": [
    {
     "data": {
      "text/plain": [
       "(str, int)"
      ]
     },
     "execution_count": 33,
     "metadata": {},
     "output_type": "execute_result"
    }
   ],
   "source": [
    "type(ls[-1]), type(ls[0])"
   ]
  },
  {
   "cell_type": "code",
   "execution_count": 35,
   "id": "5fd895b7-2044-46bc-9b6c-fecf7ce2f7ff",
   "metadata": {},
   "outputs": [
    {
     "data": {
      "text/plain": [
       "array(['1', '2', '3', 'D'], dtype='<U21')"
      ]
     },
     "execution_count": 35,
     "metadata": {},
     "output_type": "execute_result"
    }
   ],
   "source": [
    "# numpy 는 한가지 데이터 타입으로만 인식\n",
    "np.array(ls)"
   ]
  },
  {
   "cell_type": "code",
   "execution_count": 36,
   "id": "99d02d08-733f-4a09-9b48-f02917c7e0fa",
   "metadata": {},
   "outputs": [
    {
     "data": {
      "text/plain": [
       "array([1., 2., 3., 4.])"
      ]
     },
     "execution_count": 36,
     "metadata": {},
     "output_type": "execute_result"
    }
   ],
   "source": [
    "np.array([1, 2, 3, '4']).astype(np.float64)"
   ]
  },
  {
   "cell_type": "code",
   "execution_count": 37,
   "id": "b16a97c9-aee3-42b8-9259-cc371bd79577",
   "metadata": {},
   "outputs": [
    {
     "data": {
      "text/plain": [
       "array([1, 2, 3, 4])"
      ]
     },
     "execution_count": 37,
     "metadata": {},
     "output_type": "execute_result"
    }
   ],
   "source": [
    "np.array([1, 2, 3, '4']).astype(np.int64)"
   ]
  },
  {
   "cell_type": "markdown",
   "id": "870aa6fa-bfbe-4c13-9a85-1156a0afb83c",
   "metadata": {},
   "source": [
    "# 02. np.arange()"
   ]
  },
  {
   "cell_type": "code",
   "execution_count": 40,
   "id": "51831ec0-50dc-4198-a323-85391a42018d",
   "metadata": {},
   "outputs": [
    {
     "data": {
      "text/plain": [
       "[0, 1, 2, 3, 4]"
      ]
     },
     "execution_count": 40,
     "metadata": {},
     "output_type": "execute_result"
    }
   ],
   "source": [
    "list(range(5))"
   ]
  },
  {
   "cell_type": "code",
   "execution_count": 44,
   "id": "9045066f-0949-44f3-8538-fcc5a0e4f4ca",
   "metadata": {},
   "outputs": [
    {
     "data": {
      "text/plain": [
       "array([1, 3])"
      ]
     },
     "execution_count": 44,
     "metadata": {},
     "output_type": "execute_result"
    }
   ],
   "source": [
    "np.arange(1,5,2)"
   ]
  },
  {
   "cell_type": "markdown",
   "id": "b1b480bd-464b-4e00-8aba-d10d6f271676",
   "metadata": {},
   "source": [
    "### 03. np.zeros(), np.ones()\n",
    "- 0으로 채워진 행렬 데이터\n",
    "- 1로 채워진 행렬 데이터\n",
    "- 초기화 값을 지정할 경우 활용"
   ]
  },
  {
   "cell_type": "code",
   "execution_count": 47,
   "id": "34bbbe40-33b3-4d64-b19a-48287bb2c951",
   "metadata": {},
   "outputs": [
    {
     "data": {
      "text/plain": [
       "array([[[0., 0., 0.],\n",
       "        [0., 0., 0.]],\n",
       "\n",
       "       [[0., 0., 0.],\n",
       "        [0., 0., 0.]]])"
      ]
     },
     "execution_count": 47,
     "metadata": {},
     "output_type": "execute_result"
    }
   ],
   "source": [
    "mat_zero = np.zeros((2, 2, 3)) # \n",
    "mat_zero"
   ]
  },
  {
   "cell_type": "code",
   "execution_count": 48,
   "id": "4ba8f9f5-d855-4149-b68b-107883c3a97c",
   "metadata": {},
   "outputs": [
    {
     "data": {
      "text/plain": [
       "array([[[1., 1., 1.],\n",
       "        [1., 1., 1.]],\n",
       "\n",
       "       [[1., 1., 1.],\n",
       "        [1., 1., 1.]]])"
      ]
     },
     "execution_count": 48,
     "metadata": {},
     "output_type": "execute_result"
    }
   ],
   "source": [
    "mat_ones = np.ones((2, 2, 3))\n",
    "mat_ones"
   ]
  },
  {
   "cell_type": "markdown",
   "id": "b138b561-55a7-4c8c-b33c-943745e31551",
   "metadata": {},
   "source": [
    "### 04. np.random()"
   ]
  },
  {
   "cell_type": "code",
   "execution_count": 76,
   "id": "bea79791-ae08-4b7c-b955-cc19210224a8",
   "metadata": {},
   "outputs": [
    {
     "data": {
      "text/plain": [
       "array([[7, 3, 4],\n",
       "       [1, 7, 2]])"
      ]
     },
     "execution_count": 76,
     "metadata": {},
     "output_type": "execute_result"
    }
   ],
   "source": [
    "# 정수 데이터 타입을 균일분포로 생성\n",
    "np.random.randint(10, size = (2, 3))"
   ]
  },
  {
   "cell_type": "code",
   "execution_count": 90,
   "id": "b120471d-4d6e-4804-a728-737f77f74c94",
   "metadata": {},
   "outputs": [
    {
     "data": {
      "text/plain": [
       "array([2, 0, 0, 6, 2, 4, 9, 3, 4, 2])"
      ]
     },
     "execution_count": 90,
     "metadata": {},
     "output_type": "execute_result"
    }
   ],
   "source": [
    "# seed()\n",
    "# seed 값을 고정하면 동일한 랜덤값 출력   # 랜덤인데 고정되어있다\n",
    "\n",
    "np.random.seed(13)\n",
    "np.random.randint(0 , 10, 10)"
   ]
  },
  {
   "cell_type": "code",
   "execution_count": 104,
   "id": "e19b3cc7-d155-453e-9c8e-857abd6a5402",
   "metadata": {},
   "outputs": [
    {
     "data": {
      "text/plain": [
       "array([3, 0, 0, 2, 3, 2, 3, 4, 1, 0])"
      ]
     },
     "execution_count": 104,
     "metadata": {},
     "output_type": "execute_result"
    }
   ],
   "source": [
    "np.random.choice(5, 10) # 계속 바뀐다"
   ]
  },
  {
   "cell_type": "code",
   "execution_count": 125,
   "id": "c5c45d51-62e3-44d8-a732-9f65f1f7bf84",
   "metadata": {},
   "outputs": [
    {
     "data": {
      "text/plain": [
       "array([0, 2, 2, 3, 3, 3, 3, 3, 2, 3])"
      ]
     },
     "execution_count": 125,
     "metadata": {},
     "output_type": "execute_result"
    }
   ],
   "source": [
    "# (1) 0~4 까지 숫자 중 한개 선택\n",
    "# (2) 반활할 샘플의 갯수 10개\n",
    "# (3) 선택할 확률지절\n",
    "# (4) 선택 할 수 있는 값의 배열과 길이가 동일해야 합니다.\n",
    "np.random.choice(5, 10 , p =[0.1, 0, 0.3, 0.6,0])"
   ]
  },
  {
   "cell_type": "markdown",
   "id": "340f9a19-630e-4faa-a27b-5b9f03c26607",
   "metadata": {},
   "source": [
    "# 05. np.linespace()\n",
    "# 선형데이터\n",
    "``` python\n",
    "n[.linespace(start, stop, num = 50 endpoint = True)\n",
    "```\n",
    "- 시작값과 종료값 사이에서 지전된 갯수만큼 균등간격으로 선형적으로 분포하는 값 생성\n",
    "- endpoint: True로 설정하면, stop 값을 배열에 포함"
   ]
  },
  {
   "cell_type": "code",
   "execution_count": 126,
   "id": "7d9be7e9-6390-42e1-a56f-a2195870f7c9",
   "metadata": {},
   "outputs": [
    {
     "data": {
      "text/plain": [
       "array([10.        , 10.20408163, 10.40816327, 10.6122449 , 10.81632653,\n",
       "       11.02040816, 11.2244898 , 11.42857143, 11.63265306, 11.83673469,\n",
       "       12.04081633, 12.24489796, 12.44897959, 12.65306122, 12.85714286,\n",
       "       13.06122449, 13.26530612, 13.46938776, 13.67346939, 13.87755102,\n",
       "       14.08163265, 14.28571429, 14.48979592, 14.69387755, 14.89795918,\n",
       "       15.10204082, 15.30612245, 15.51020408, 15.71428571, 15.91836735,\n",
       "       16.12244898, 16.32653061, 16.53061224, 16.73469388, 16.93877551,\n",
       "       17.14285714, 17.34693878, 17.55102041, 17.75510204, 17.95918367,\n",
       "       18.16326531, 18.36734694, 18.57142857, 18.7755102 , 18.97959184,\n",
       "       19.18367347, 19.3877551 , 19.59183673, 19.79591837, 20.        ])"
      ]
     },
     "execution_count": 126,
     "metadata": {},
     "output_type": "execute_result"
    }
   ],
   "source": [
    "np.linspace(10, 20)"
   ]
  },
  {
   "cell_type": "code",
   "execution_count": null,
   "id": "f8bb4a9a-cc83-464e-a81d-02a063025b60",
   "metadata": {},
   "outputs": [],
   "source": []
  }
 ],
 "metadata": {
  "kernelspec": {
   "display_name": "Python 3 (ipykernel)",
   "language": "python",
   "name": "python3"
  },
  "language_info": {
   "codemirror_mode": {
    "name": "ipython",
    "version": 3
   },
   "file_extension": ".py",
   "mimetype": "text/x-python",
   "name": "python",
   "nbconvert_exporter": "python",
   "pygments_lexer": "ipython3",
   "version": "3.10.12"
  }
 },
 "nbformat": 4,
 "nbformat_minor": 5
}
