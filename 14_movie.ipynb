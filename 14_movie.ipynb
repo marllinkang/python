{
 "cells": [
  {
   "cell_type": "code",
   "execution_count": 197,
   "metadata": {},
   "outputs": [],
   "source": [
    "from selenium import webdriver\n",
    "from selenium.webdriver.chrome.service import Service\n",
    "\n",
    "driver = webdriver.Chrome(service = Service(\"../driver/chromedriver-linux64/chromedriver\"))\n",
    "driver.get(\"https://www.imdb.com/\")"
   ]
  },
  {
   "cell_type": "code",
   "execution_count": 426,
   "metadata": {},
   "outputs": [],
   "source": [
    "from bs4 import BeautifulSoup\n",
    "from urllib.request import urlopen\n",
    "from selenium.webdriver.common.by import By\n"
   ]
  },
  {
   "cell_type": "code",
   "execution_count": 198,
   "metadata": {},
   "outputs": [
    {
     "data": {
      "text/plain": [
       "'https://www.imdb.com/'"
      ]
     },
     "execution_count": 198,
     "metadata": {},
     "output_type": "execute_result"
    }
   ],
   "source": [
    "driver.current_url"
   ]
  },
  {
   "cell_type": "code",
   "execution_count": 199,
   "metadata": {},
   "outputs": [],
   "source": [
    "#driver.execute_script(\"window.scrollTo(0,document.scrollHeight)\")"
   ]
  },
  {
   "cell_type": "code",
   "execution_count": 200,
   "metadata": {},
   "outputs": [],
   "source": [
    "#driver.execute_script(\"window.scrollTo(0,0)\")"
   ]
  },
  {
   "cell_type": "code",
   "execution_count": 201,
   "metadata": {},
   "outputs": [],
   "source": [
    "from selenium.webdriver.common.by import By"
   ]
  },
  {
   "cell_type": "code",
   "execution_count": 611,
   "metadata": {},
   "outputs": [
    {
     "name": "stdout",
     "output_type": "stream",
     "text": [
      "<span class=\"ipc-btn__text\">Sign in for more access</span>\n"
     ]
    }
   ],
   "source": [
    "element = driver.find_element(By.CLASS_NAME, \"ipc-btn.ipc-btn--double-padding.ipc-btn--center-align-content.ipc-btn--default-height.ipc-btn--core-baseAlt.ipc-btn--theme-baseAlt.ipc-btn--on-accent2.ipc-secondary-button.footer__sign-in-mobile-button\")\n",
    "print(element.get_attribute('innerHTML'))"
   ]
  },
  {
   "cell_type": "code",
   "execution_count": 612,
   "metadata": {},
   "outputs": [],
   "source": [
    "from selenium.webdriver.common.by import By\n",
    "\n",
    "element = driver.find_element(By.CLASS_NAME, \"ipc-btn.ipc-btn--double-padding.ipc-btn--center-align-content.ipc-btn--default-height.ipc-btn--core-accent1.ipc-btn--theme-baseAlt.footer__sign-in-button\")\n",
    "# child = element.find_element(By.CLASS_NAME,\"ipc-btn__text\")\n",
    "\n",
    "# print(child.text)"
   ]
  },
  {
   "cell_type": "code",
   "execution_count": 615,
   "metadata": {},
   "outputs": [
    {
     "ename": "MoveTargetOutOfBoundsException",
     "evalue": "Message: move target out of bounds\n  (Session info: chrome=116.0.5845.96)\nStacktrace:\n#0 0x5631639a4e23 <unknown>\n#1 0x5631636cd5f6 <unknown>\n#2 0x56316374d550 <unknown>\n#3 0x56316372d012 <unknown>\n#4 0x563163745369 <unknown>\n#5 0x56316372cde3 <unknown>\n#6 0x563163700a7b <unknown>\n#7 0x56316370181e <unknown>\n#8 0x563163966638 <unknown>\n#9 0x56316396a507 <unknown>\n#10 0x563163974c4c <unknown>\n#11 0x56316396b136 <unknown>\n#12 0x5631639399cf <unknown>\n#13 0x56316398eb98 <unknown>\n#14 0x56316398ed68 <unknown>\n#15 0x56316399dcb3 <unknown>\n#16 0x7ff57b494b43 <unknown>\n",
     "output_type": "error",
     "traceback": [
      "\u001b[0;31m---------------------------------------------------------------------------\u001b[0m",
      "\u001b[0;31mMoveTargetOutOfBoundsException\u001b[0m            Traceback (most recent call last)",
      "Cell \u001b[0;32mIn[615], line 4\u001b[0m\n\u001b[1;32m      1\u001b[0m \u001b[39mfrom\u001b[39;00m \u001b[39mselenium\u001b[39;00m\u001b[39m.\u001b[39;00m\u001b[39mwebdriver\u001b[39;00m\u001b[39m.\u001b[39;00m\u001b[39mcommon\u001b[39;00m\u001b[39m.\u001b[39;00m\u001b[39maction_chains\u001b[39;00m \u001b[39mimport\u001b[39;00m ActionChains\n\u001b[1;32m      3\u001b[0m actions \u001b[39m=\u001b[39m ActionChains(driver)\n\u001b[0;32m----> 4\u001b[0m actions\u001b[39m.\u001b[39;49mmove_to_element(element)\u001b[39m.\u001b[39;49mperform()\n",
      "File \u001b[0;32m~/venv/eda_venv/lib/python3.10/site-packages/selenium/webdriver/common/action_chains.py:103\u001b[0m, in \u001b[0;36mActionChains.perform\u001b[0;34m(self)\u001b[0m\n\u001b[1;32m    101\u001b[0m \u001b[39mdef\u001b[39;00m \u001b[39mperform\u001b[39m(\u001b[39mself\u001b[39m) \u001b[39m-\u001b[39m\u001b[39m>\u001b[39m \u001b[39mNone\u001b[39;00m:\n\u001b[1;32m    102\u001b[0m \u001b[39m    \u001b[39m\u001b[39m\"\"\"Performs all stored actions.\"\"\"\u001b[39;00m\n\u001b[0;32m--> 103\u001b[0m     \u001b[39mself\u001b[39;49m\u001b[39m.\u001b[39;49mw3c_actions\u001b[39m.\u001b[39;49mperform()\n",
      "File \u001b[0;32m~/venv/eda_venv/lib/python3.10/site-packages/selenium/webdriver/common/actions/action_builder.py:96\u001b[0m, in \u001b[0;36mActionBuilder.perform\u001b[0;34m(self)\u001b[0m\n\u001b[1;32m     94\u001b[0m         enc[\u001b[39m\"\u001b[39m\u001b[39mactions\u001b[39m\u001b[39m\"\u001b[39m]\u001b[39m.\u001b[39mappend(encoded)\n\u001b[1;32m     95\u001b[0m         device\u001b[39m.\u001b[39mactions \u001b[39m=\u001b[39m []\n\u001b[0;32m---> 96\u001b[0m \u001b[39mself\u001b[39;49m\u001b[39m.\u001b[39;49mdriver\u001b[39m.\u001b[39;49mexecute(Command\u001b[39m.\u001b[39;49mW3C_ACTIONS, enc)\n",
      "File \u001b[0;32m~/venv/eda_venv/lib/python3.10/site-packages/selenium/webdriver/remote/webdriver.py:345\u001b[0m, in \u001b[0;36mWebDriver.execute\u001b[0;34m(self, driver_command, params)\u001b[0m\n\u001b[1;32m    343\u001b[0m response \u001b[39m=\u001b[39m \u001b[39mself\u001b[39m\u001b[39m.\u001b[39mcommand_executor\u001b[39m.\u001b[39mexecute(driver_command, params)\n\u001b[1;32m    344\u001b[0m \u001b[39mif\u001b[39;00m response:\n\u001b[0;32m--> 345\u001b[0m     \u001b[39mself\u001b[39;49m\u001b[39m.\u001b[39;49merror_handler\u001b[39m.\u001b[39;49mcheck_response(response)\n\u001b[1;32m    346\u001b[0m     response[\u001b[39m\"\u001b[39m\u001b[39mvalue\u001b[39m\u001b[39m\"\u001b[39m] \u001b[39m=\u001b[39m \u001b[39mself\u001b[39m\u001b[39m.\u001b[39m_unwrap_value(response\u001b[39m.\u001b[39mget(\u001b[39m\"\u001b[39m\u001b[39mvalue\u001b[39m\u001b[39m\"\u001b[39m, \u001b[39mNone\u001b[39;00m))\n\u001b[1;32m    347\u001b[0m     \u001b[39mreturn\u001b[39;00m response\n",
      "File \u001b[0;32m~/venv/eda_venv/lib/python3.10/site-packages/selenium/webdriver/remote/errorhandler.py:229\u001b[0m, in \u001b[0;36mErrorHandler.check_response\u001b[0;34m(self, response)\u001b[0m\n\u001b[1;32m    227\u001b[0m         alert_text \u001b[39m=\u001b[39m value[\u001b[39m\"\u001b[39m\u001b[39malert\u001b[39m\u001b[39m\"\u001b[39m]\u001b[39m.\u001b[39mget(\u001b[39m\"\u001b[39m\u001b[39mtext\u001b[39m\u001b[39m\"\u001b[39m)\n\u001b[1;32m    228\u001b[0m     \u001b[39mraise\u001b[39;00m exception_class(message, screen, stacktrace, alert_text)  \u001b[39m# type: ignore[call-arg]  # mypy is not smart enough here\u001b[39;00m\n\u001b[0;32m--> 229\u001b[0m \u001b[39mraise\u001b[39;00m exception_class(message, screen, stacktrace)\n",
      "\u001b[0;31mMoveTargetOutOfBoundsException\u001b[0m: Message: move target out of bounds\n  (Session info: chrome=116.0.5845.96)\nStacktrace:\n#0 0x5631639a4e23 <unknown>\n#1 0x5631636cd5f6 <unknown>\n#2 0x56316374d550 <unknown>\n#3 0x56316372d012 <unknown>\n#4 0x563163745369 <unknown>\n#5 0x56316372cde3 <unknown>\n#6 0x563163700a7b <unknown>\n#7 0x56316370181e <unknown>\n#8 0x563163966638 <unknown>\n#9 0x56316396a507 <unknown>\n#10 0x563163974c4c <unknown>\n#11 0x56316396b136 <unknown>\n#12 0x5631639399cf <unknown>\n#13 0x56316398eb98 <unknown>\n#14 0x56316398ed68 <unknown>\n#15 0x56316399dcb3 <unknown>\n#16 0x7ff57b494b43 <unknown>\n"
     ]
    }
   ],
   "source": [
    "from selenium.webdriver.common.action_chains import ActionChains     #아래로 내려간다.\n",
    "\n",
    "actions = ActionChains(driver)\n",
    "actions.move_to_element(element).perform()"
   ]
  },
  {
   "cell_type": "code",
   "execution_count": 665,
   "metadata": {},
   "outputs": [],
   "source": [
    "search = driver.find_element(By.XPATH,'''//*[@id=\"suggestion-search\"]''')  #위로 올라간다\n",
    "#search.click()"
   ]
  },
  {
   "cell_type": "code",
   "execution_count": 668,
   "metadata": {},
   "outputs": [],
   "source": [
    "from selenium.webdriver.common.keys import Keys\n",
    "\n",
    "search_doc = driver.find_element(By.CSS_SELECTOR, \"#suggestion-search\")  # 빅뱅이론 검색\n",
    "search_doc.send_keys(\"The Big Bang Theory\")"
   ]
  },
  {
   "cell_type": "code",
   "execution_count": 669,
   "metadata": {},
   "outputs": [],
   "source": [
    "search_doc.send_keys(Keys.ARROW_DOWN)  # 아래로 한칸 내려간다"
   ]
  },
  {
   "cell_type": "code",
   "execution_count": 670,
   "metadata": {},
   "outputs": [],
   "source": [
    "search_doc.send_keys(Keys.ENTER)"
   ]
  },
  {
   "cell_type": "code",
   "execution_count": 671,
   "metadata": {},
   "outputs": [],
   "source": [
    "search_doc = driver.find_element(By.CSS_SELECTOR, \"#__next > main > div > section.ipc-page-background.ipc-page-background--base.sc-304f99f6-0.eaRXHu > div > section > div > div.sc-c7c3a435-1.NixYx.ipc-page-grid__item.ipc-page-grid__item--span-2 > section:nth-child(7) > div.ipc-title.ipc-title--base.ipc-title--section-title.ipc-title--on-textPrimary > a\")"
   ]
  },
  {
   "cell_type": "code",
   "execution_count": 672,
   "metadata": {},
   "outputs": [],
   "source": [
    "search_doc.send_keys(Keys.ENTER) # 빅뱅에피소드 들어갔음"
   ]
  },
  {
   "cell_type": "code",
   "execution_count": 673,
   "metadata": {},
   "outputs": [],
   "source": [
    "search_ep = driver.find_element(By.ID, \"bySeason\")"
   ]
  },
  {
   "cell_type": "code",
   "execution_count": 674,
   "metadata": {},
   "outputs": [],
   "source": [
    "search_ep.send_keys(Keys.ENTER) #시즌 12"
   ]
  },
  {
   "cell_type": "code",
   "execution_count": null,
   "metadata": {},
   "outputs": [],
   "source": [
    "# 먼저 2가지 방법으로 실행시켜 비교해보자"
   ]
  },
  {
   "cell_type": "code",
   "execution_count": 698,
   "metadata": {},
   "outputs": [
    {
     "data": {
      "text/plain": [
       "[]"
      ]
     },
     "execution_count": 698,
     "metadata": {},
     "output_type": "execute_result"
    }
   ],
   "source": [
    "search_ep12 = driver.find_element(By.CSS_SELECTOR, \"#episodes_content > div.clear > div.list.detail.eplist\")\n",
    "search_ep12.find_elements(By.CLASS_NAME, \"list detail eplist\")  # CSS_SELECTOR을 사용하여 전체적으로 뽑아보자."
   ]
  },
  {
   "cell_type": "code",
   "execution_count": 728,
   "metadata": {},
   "outputs": [
    {
     "data": {
      "text/plain": [
       "6201"
      ]
     },
     "execution_count": 728,
     "metadata": {},
     "output_type": "execute_result"
    }
   ],
   "source": [
    "search_ep12 = driver.find_element(By.CLASS_NAME, \"list.detail.eplist\") # 이렇게 된다면 쓸데없는 정보가 너무나 많아지고 복잡해진다. 다르게 하자\n",
    "len(search_ep12.text)"
   ]
  },
  {
   "cell_type": "code",
   "execution_count": 699,
   "metadata": {},
   "outputs": [
    {
     "data": {
      "text/plain": [
       "'S12, Ep1\\n24 Sep. 2018\\nThe Conjugal Configuration\\n7.2 (2,643)\\nRate\\nAfter their wedding, Amy and Sheldon go on their honeymoon.\\n  S12, Ep2\\n27 Sep. 2018\\nThe Wedding Gift Wormhole\\n7.6 (2,526)\\nRate\\nLeonard and Penny give Sheldon and Amy a baffling wedding gift.\\n  S12, Ep3\\n4 Oct. 2018\\nThe Procreation Calculation\\n7.2 (2,403)\\nRate\\nThe Wolowitzes\\' life gets complicated when Stuart starts bringing his new girlfriend home. Also, Penny and Leonard talk about starting a family while Koothrappali explores an arranged marriage.\\n  S12, Ep4\\n11 Oct. 2018\\nThe Tam Turbulence\\n7.0 (2,321)\\nRate\\nSheldon won\\'t tell anyone why he\\'s never mentioned Tam, his childhood best friend, so Leonard takes matters into his own hands. Also, Bernadette and Penny take out Raj\\'s fiancée, Anu, for dinner to get the skinny on her.\\n  S12, Ep5\\n18 Oct. 2018\\nThe Planetarium Collision\\n6.8 (2,320)\\nRate\\nAmy doesn\\'t have time to work with Sheldon on super asymmetry, so he goes to great lengths to ensure she\\'s available. Koothrappali doesn\\'t want Wolowitz to join him in hosting a show at the planetarium.\\n  S12, Ep6\\n25 Oct. 2018\\nThe Imitation Perturbation\\n8.2 (2,849)\\nRate\\nWhen Wolowitz dresses up as Sheldon for Halloween, Sheldon seeks retaliation at Leonard and Penny\\'s Halloween party. Also, Leonard is shocked that Penny doesn\\'t remember their first kiss.\\n  S12, Ep7\\n1 Nov. 2018\\nThe Grant Allocation Derivation\\n7.3 (2,291)\\nRate\\nLeonard is caught between a rock and a hard place when he\\'s responsible for distributing extra grant money. Also, Bernadette turns the backyard playhouse into a hideaway from her husband and kids.\\n  S12, Ep8\\n8 Nov. 2018\\nThe Consummation Deviation\\n7.3 (2,344)\\nRate\\nSheldon tries to bond with Amy\\'s father, but when Wolowitz lures Mr. Fowler away with magic tricks, Sheldon has no choice but to bond with Mrs. Fowler. Also, Koothrappali and Anu try to get physical for the first time.\\n  S12, Ep9\\n15 Nov. 2018\\nThe Citation Negation\\n7.2 (2,299)\\nRate\\nSheldon and Amy are devastated after learning from a Russian paper that super asymmetry has already been theorized and disproved. Bernadette wants to beat Howard in a popular video game.\\n  S12, Ep10\\n6 Dec. 2018\\nThe VCR Illumination\\n7.4 (2,378)\\nRate\\nA VHS tape from Sheldon\\'s past inspires him and Amy not to give up when they\\'re still feeling down about their theory being disproven. Bernadette turns into a pageant mom when she tries to help Howard with his Magic Castle audition.\\n  S12, Ep11\\n3 Jan. 2019\\nThe Paintball Scattering\\n7.2 (2,261)\\nRate\\nPenny and Leonard organize a paintball game, which results in mayhem when Sheldon becomes jealous of Amy. Raj catches Anu with her ex-boyfriend. Stuart doesn\\'t want to move in with Denise.\\n  S12, Ep12\\n10 Jan. 2019\\nThe Propagation Proposition\\n7.1 (2,210)\\nRate\\nPenny\\'s ex-boyfriend Zack learns that he is infertile, so he asks Leonard for help; Koothrappali attempts to mend things with his ex-fiancee Anu.\\n  S12, Ep13\\n17 Jan. 2019\\nThe Confirmation Polarization\\n7.1 (2,224)\\nRate\\nSheldon and Amy are thrilled when their super asymmetry theory is proven by two physicists, until they try to kick Amy off the Nobel nomination. Bernadette gets one of her drugs approved and wants a reluctant Penny to head the sales team.\\n  S12, Ep14\\n31 Jan. 2019\\nThe Meteorite Manifestation\\n7.0 (2,221)\\nRate\\nSheldon is thrilled to help Bernadette and Howard navigate bureaucracy concerning a neighbor\\'s non-compliant balcony until he learns they too have ignored codes. Leonard is disappointed when his friends are uninterested in his new laser.\\n  S12, Ep15\\n7 Feb. 2019\\nThe Donation Oscillation\\n7.4 (2,295)\\nRate\\nPenny tries to throw a wrench into Leonard\\'s plan to be a sperm donor for her ex-boyfriend; Wolowitz, Bernadette, Anu and Koothrappali turn Koothrappali\\'s canceled bachelor party into a couple\\'s trip aboard the \"vomit comet.\"\\n  S12, Ep16\\n21 Feb. 2019\\nThe D & D Vortex\\n7.9 (2,522)\\nRate\\nThe gang finds out Wil Wheaton hosts a celebrity Dungeons and Dragons game involving William Shatner, Joe Manganiello, Kareem Abdul-Jabbar and Kevin Smith. Deception and betrayal are the path to make it to the one open seat.\\n  S12, Ep17\\n7 Mar. 2019\\nThe Conference Valuation\\n7.1 (2,206)\\nRate\\nBernadette and Penny travel to San Diego for a pharmaceutical sales convention. Back home, Amy and the guys experiment on the Wolowitz children when Sheldon finds a book on it.\\n  S12, Ep18\\n4 Apr. 2019\\nThe Laureate Accumulation\\n7.1 (2,182)\\nRate\\nRivals Pemberton and Campbell charm America on a publicity tour so Sheldon and Amy try to win over Nobel laureates Kip Thorne, George Smoot and Frances Arnold. Halley\\'s fear of the dark causes opportunity and conflict at the Wolowitz home.\\n  S12, Ep19\\n18 Apr. 2019\\nThe Inspiration Deprivation\\n6.9 (2,215)\\nRate\\nContemplating what it would mean to all women if she were to win a Nobel Prize causes Amy to have a meltdown. Koothrappali and Wolowitz try to relive the good old days after Wolowitz buys a scooter that looks like the one he had years ago.\\n  S12, Ep20\\n25 Apr. 2019\\nThe Decision Reverberation\\n7.1 (2,178)\\nRate\\nKoothrappali is worried people won\\'t take him seriously in his own field after publishing a paper that suggests he may have discovered alien life. Leonard wants to be the principal investigator on a plasma physics study.\\n  S12, Ep21\\n2 May 2019\\nThe Plagiarism Schism\\n7.2 (2,236)\\nRate\\nKripke has proof that Dr. Pemberton plagiarized his thesis in college, and Sheldon and Amy aren\\'t sure if they should turn him in. Wolowitz learns that Bernadette wasn\\'t the only waitress at the Cheesecake Factory who had a crush on him.\\n  S12, Ep22\\n9 May 2019\\nThe Maternal Conclusion\\n7.9 (2,749)\\nRate\\nLeonard is pleasantly surprised when Beverly comes to visit and she\\'s genuinely kind to him, until he finds out the real reason she\\'s there. Also, Denise and Stuart overstay their welcome at the Wolowitz house.\\n  S12, Ep23\\n16 May 2019\\nThe Change Constant\\n9.0 (4,833)\\nRate\\nSheldon and Amy await big news.\\n  S12, Ep24\\n16 May 2019\\nThe Stockholm Syndrome\\n9.5 (10,021)\\nRate\\nBernadette and Wolowitz leave their kids for the first time; Penny and Leonard try to keep a secret; Sheldon and Amy stick together; and Koothrappali makes a new friend, as the gang travels together into an uncharted future.\\n '"
      ]
     },
     "execution_count": 699,
     "metadata": {},
     "output_type": "execute_result"
    }
   ],
   "source": [
    "search_ep12.text  # 시즌 12의 제목과 수서 방영 날짜 평점이 나왔다. # 이렇게 된다면 쓸데없는 정보가 너무나 많아지고 복잡해진다. 다르게 하자"
   ]
  },
  {
   "cell_type": "code",
   "execution_count": null,
   "metadata": {},
   "outputs": [],
   "source": [
    "# 좀더 자세하게 원하는 범위만 뽑아내는 방법"
   ]
  },
  {
   "cell_type": "code",
   "execution_count": 738,
   "metadata": {},
   "outputs": [
    {
     "data": {
      "text/plain": [
       "24"
      ]
     },
     "execution_count": 738,
     "metadata": {},
     "output_type": "execute_result"
    }
   ],
   "source": [
    "ep_12 = driver.find_element(By.CLASS_NAME, \"list.detail.eplist\") #CLASS_NAME에 상위 단계인 list dtail... 를 넣는다 ctrl f시 하나뿐이므로 element를 쓰며 공백은 .을 넣어준다. \n",
    "len(ep_12.find_elements(By.CLASS_NAME, \"info\")) # 위의 세부내용인 info로 찾는다. 한회당 1개씩 있으므로 24개가 나올것이다."
   ]
  },
  {
   "cell_type": "code",
   "execution_count": 739,
   "metadata": {},
   "outputs": [],
   "source": [
    "ep_12_name = ep_12.find_elements(By.TAG_NAME, \"strong\") #info 안에 있는 내용 즉 타이틀 (제목)이 들어가 있다."
   ]
  },
  {
   "cell_type": "code",
   "execution_count": 740,
   "metadata": {},
   "outputs": [
    {
     "data": {
      "text/plain": [
       "'The Conjugal Configuration'"
      ]
     },
     "execution_count": 740,
     "metadata": {},
     "output_type": "execute_result"
    }
   ],
   "source": [
    "ep_12_name[0].text"
   ]
  },
  {
   "cell_type": "code",
   "execution_count": 741,
   "metadata": {},
   "outputs": [
    {
     "ename": "AttributeError",
     "evalue": "'list' object has no attribute 'find_elements'",
     "output_type": "error",
     "traceback": [
      "\u001b[0;31m---------------------------------------------------------------------------\u001b[0m",
      "\u001b[0;31mAttributeError\u001b[0m                            Traceback (most recent call last)",
      "Cell \u001b[0;32mIn[741], line 1\u001b[0m\n\u001b[0;32m----> 1\u001b[0m ep_12_name_rating \u001b[39m=\u001b[39mep_12_name\u001b[39m.\u001b[39;49mfind_elements(By\u001b[39m.\u001b[39mCLASS_NAME, \u001b[39m\"\u001b[39m\u001b[39mipl-rating-star.small\u001b[39m\u001b[39m\"\u001b[39m) \u001b[39m#info 안에 있는 평점 및 투표자수 확인\u001b[39;00m\n",
      "\u001b[0;31mAttributeError\u001b[0m: 'list' object has no attribute 'find_elements'"
     ]
    }
   ],
   "source": [
    "ep_12_name_rating =ep_12_name.find_elements(By.CLASS_NAME, \"ipl-rating-star.small\") #info 안에 있는 평점 및 투표자수 확인\n"
   ]
  },
  {
   "cell_type": "code",
   "execution_count": 742,
   "metadata": {},
   "outputs": [
    {
     "data": {
      "text/plain": [
       "'7.2 (2,643)'"
      ]
     },
     "execution_count": 742,
     "metadata": {},
     "output_type": "execute_result"
    }
   ],
   "source": [
    "ep_12_name_rating =ep_12.find_elements(By.CLASS_NAME, \"ipl-rating-star.small\") #info 안에 있는 평점 및 투표자수 확인\n",
    "ep_12_name_rating[0].text# 평점"
   ]
  },
  {
   "cell_type": "code",
   "execution_count": 744,
   "metadata": {},
   "outputs": [
    {
     "data": {
      "text/plain": [
       "('The Conjugal Configuration', '7.2 (2,643)')"
      ]
     },
     "execution_count": 744,
     "metadata": {},
     "output_type": "execute_result"
    }
   ],
   "source": [
    "ep_12_name[0].text, ep_12_name_rating[0].text"
   ]
  },
  {
   "cell_type": "code",
   "execution_count": null,
   "metadata": {},
   "outputs": [],
   "source": [
    "search_ep.send_keys(Keys.ARROW_UP) #시즌 11 선택"
   ]
  },
  {
   "cell_type": "code",
   "execution_count": 585,
   "metadata": {},
   "outputs": [],
   "source": [
    "search_ep.send_keys(Keys.ENTER) # 시즌 11"
   ]
  },
  {
   "cell_type": "code",
   "execution_count": 731,
   "metadata": {},
   "outputs": [
    {
     "data": {
      "text/plain": [
       "24"
      ]
     },
     "execution_count": 731,
     "metadata": {},
     "output_type": "execute_result"
    }
   ],
   "source": [
    "ep_11 = driver.find_element(By.CLASS_NAME, \"list.detail.eplist\")  # CLASS_NAME 을 사용하여 EP_11 저장\n",
    "len(ep_11.find_elements(By.CLASS_NAME,\"info\")) #class_name은 띄어쓰기 부분에 .을 붙인다."
   ]
  },
  {
   "cell_type": "code",
   "execution_count": 654,
   "metadata": {},
   "outputs": [],
   "source": [
    "ep_11_name = ep_11.find_elements(By.TAG_NAME, \"strong\")"
   ]
  },
  {
   "cell_type": "code",
   "execution_count": 657,
   "metadata": {},
   "outputs": [
    {
     "data": {
      "text/plain": [
       "'The Bow Tie Asymmetry'"
      ]
     },
     "execution_count": 657,
     "metadata": {},
     "output_type": "execute_result"
    }
   ],
   "source": [
    "ep_11_name [23].text"
   ]
  },
  {
   "cell_type": "code",
   "execution_count": null,
   "metadata": {},
   "outputs": [],
   "source": [
    "ep_11_name_rating ="
   ]
  },
  {
   "cell_type": "code",
   "execution_count": 589,
   "metadata": {},
   "outputs": [
    {
     "data": {
      "text/plain": [
       "'The Proposal Proposal'"
      ]
     },
     "execution_count": 589,
     "metadata": {},
     "output_type": "execute_result"
    }
   ],
   "source": [
    "ep_11_name [0].text #잘 나온거 확인."
   ]
  },
  {
   "cell_type": "code",
   "execution_count": 605,
   "metadata": {},
   "outputs": [],
   "source": [
    "search_ep = driver.find_element(By.ID, \"bySeason\")\n",
    "search_ep.send_keys(Keys.ARROW_UP) #시즌 10"
   ]
  },
  {
   "cell_type": "code",
   "execution_count": 592,
   "metadata": {},
   "outputs": [],
   "source": [
    "search_ep = driver.find_element(By.ID, \"bySeason\")\n",
    "search_ep.send_keys(Keys.ARROW_UP) #시즌 9"
   ]
  },
  {
   "cell_type": "code",
   "execution_count": 593,
   "metadata": {},
   "outputs": [],
   "source": [
    "search_ep = driver.find_element(By.ID, \"bySeason\")\n",
    "search_ep.send_keys(Keys.ARROW_UP) #시즌 8"
   ]
  },
  {
   "cell_type": "code",
   "execution_count": 594,
   "metadata": {},
   "outputs": [],
   "source": [
    "search_ep = driver.find_element(By.ID, \"bySeason\")\n",
    "search_ep.send_keys(Keys.ARROW_UP) #시즌 7"
   ]
  },
  {
   "cell_type": "code",
   "execution_count": 603,
   "metadata": {},
   "outputs": [],
   "source": [
    "search_ep = driver.find_element(By.ID, \"bySeason\")\n",
    "search_ep.send_keys(Keys.ARROW_UP) #시즌 6"
   ]
  },
  {
   "cell_type": "code",
   "execution_count": 604,
   "metadata": {},
   "outputs": [],
   "source": [
    "search_ep = driver.find_element(By.ID, \"bySeason\")\n",
    "search_ep.send_keys(Keys.ARROW_UP) #시즌 5"
   ]
  },
  {
   "cell_type": "code",
   "execution_count": 602,
   "metadata": {},
   "outputs": [],
   "source": [
    "search_ep = driver.find_element(By.ID, \"bySeason\")\n",
    "search_ep.send_keys(Keys.ARROW_UP) #시즌 4"
   ]
  },
  {
   "cell_type": "code",
   "execution_count": 598,
   "metadata": {},
   "outputs": [],
   "source": [
    "search_ep = driver.find_element(By.ID, \"bySeason\")\n",
    "search_ep.send_keys(Keys.ARROW_UP) #시즌 3"
   ]
  },
  {
   "cell_type": "code",
   "execution_count": 599,
   "metadata": {},
   "outputs": [],
   "source": [
    "search_ep = driver.find_element(By.ID, \"bySeason\")\n",
    "search_ep.send_keys(Keys.ARROW_UP) #시즌 2"
   ]
  },
  {
   "cell_type": "code",
   "execution_count": 600,
   "metadata": {},
   "outputs": [],
   "source": [
    "search_ep = driver.find_element(By.ID, \"bySeason\")\n",
    "search_ep.send_keys(Keys.ARROW_UP) #시즌 1"
   ]
  },
  {
   "cell_type": "code",
   "execution_count": null,
   "metadata": {},
   "outputs": [],
   "source": []
  },
  {
   "cell_type": "code",
   "execution_count": null,
   "metadata": {},
   "outputs": [],
   "source": []
  }
 ],
 "metadata": {
  "kernelspec": {
   "display_name": "eda_venv",
   "language": "python",
   "name": "python3"
  },
  "language_info": {
   "codemirror_mode": {
    "name": "ipython",
    "version": 3
   },
   "file_extension": ".py",
   "mimetype": "text/x-python",
   "name": "python",
   "nbconvert_exporter": "python",
   "pygments_lexer": "ipython3",
   "version": "3.10.12"
  },
  "orig_nbformat": 4
 },
 "nbformat": 4,
 "nbformat_minor": 2
}
