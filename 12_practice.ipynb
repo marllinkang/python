{
 "cells": [
  {
   "cell_type": "code",
   "execution_count": 1,
   "metadata": {},
   "outputs": [],
   "source": [
    "from selenium import webdriver\n",
    "from selenium.webdriver.chrome.service import Service\n",
    "from selenium.webdriver.chrome.options import Options\n",
    "\n",
    "options = webdriver.ChromeOptions()\n",
    "\n",
    "prefs = {\"downloads.default_driectory\":\"../data\",\n",
    "         \"download.prompt_for_download\":False}\n",
    "\n",
    "options.add_experimental_option('prefs',prefs)\n",
    "\n",
    "url =\"https://www.opinet.co.kr/searRgSelect.do\"\n",
    "driver = webdriver.Chrome(service = Service(\"../driver/chromedriver-linux64/chromedriver\"),\n",
    "                          options = options)\n",
    "\n",
    "driver.get(url)"
   ]
  },
  {
   "cell_type": "code",
   "execution_count": 11,
   "metadata": {},
   "outputs": [],
   "source": [
    "driver.get(url)"
   ]
  },
  {
   "cell_type": "code",
   "execution_count": 14,
   "metadata": {},
   "outputs": [],
   "source": [
    "from selenium import webdriver\n",
    "from selenium.webdriver.chrome.service import Service\n",
    "from selenium.webdriver.chrome.options import Options\n",
    "\n",
    "options = webdriver.ChromeOptions()\n",
    "\n",
    "prefs = {\"downloads.default_driectory\":\"../data\",\n",
    "         \"download.prompt_for_download\":False}\n",
    "\n",
    "options.add_experimental_option('prefs',prefs)\n",
    "\n",
    "url =\"https://www.opinet.co.kr/searRgSelect.do\"\n",
    "driver = webdriver.Chrome(service = Service(\"../driver/chromedriver-linux64/chromedriver\"),\n",
    "                          options = options)\n",
    "\n",
    "driver.get(url)"
   ]
  },
  {
   "cell_type": "code",
   "execution_count": 15,
   "metadata": {},
   "outputs": [],
   "source": [
    "driver.get(url)"
   ]
  },
  {
   "cell_type": "code",
   "execution_count": 16,
   "metadata": {},
   "outputs": [],
   "source": [
    "from selenium.webdriver.common.by import By\n",
    "\n",
    "charger = driver.find_element(By.ID,\"SIDO_NM0\")\n",
    "charger_list = charger.find_elements(By.TAG_NAME,\"option\")\n",
    "for idx,sido_name in enumerate(sido_list):\n",
    "        print(str(idx)+ \".\"+ sido_name.get_attribute(\"value\"))"
   ]
  },
  {
   "cell_type": "code",
   "execution_count": null,
   "metadata": {},
   "outputs": [],
   "source": []
  },
  {
   "cell_type": "code",
   "execution_count": null,
   "metadata": {},
   "outputs": [],
   "source": []
  }
 ],
 "metadata": {
  "kernelspec": {
   "display_name": "eda_venv",
   "language": "python",
   "name": "python3"
  },
  "language_info": {
   "codemirror_mode": {
    "name": "ipython",
    "version": 3
   },
   "file_extension": ".py",
   "mimetype": "text/x-python",
   "name": "python",
   "nbconvert_exporter": "python",
   "pygments_lexer": "ipython3",
   "version": "3.10.12"
  },
  "orig_nbformat": 4
 },
 "nbformat": 4,
 "nbformat_minor": 2
}
